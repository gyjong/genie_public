{
 "cells": [
  {
   "cell_type": "markdown",
   "metadata": {},
   "source": [
    "# Fine-tuning the latest Google Gemma model locally using MLX"
   ]
  },
  {
   "cell_type": "markdown",
   "metadata": {},
   "source": [
    "## 1. Preparation\n"
   ]
  },
  {
   "cell_type": "code",
   "execution_count": 58,
   "metadata": {},
   "outputs": [],
   "source": [
    "# !pip install -Uqq mlx mlx_lm transformers datasets"
   ]
  },
  {
   "cell_type": "markdown",
   "metadata": {},
   "source": [
    "## 2. Using MLX to Run Inference with Gemma Model using MLX"
   ]
  },
  {
   "cell_type": "code",
   "execution_count": 1,
   "metadata": {},
   "outputs": [
    {
     "data": {
      "application/vnd.jupyter.widget-view+json": {
       "model_id": "6592189b49d44da58e556e7e6f96ac1b",
       "version_major": 2,
       "version_minor": 0
      },
      "text/plain": [
       "Fetching 9 files:   0%|          | 0/9 [00:00<?, ?it/s]"
      ]
     },
     "metadata": {},
     "output_type": "display_data"
    }
   ],
   "source": [
    "from mlx_lm import generate, load\n",
    "\n",
    "model, tokenizer = load(\"mlx-community/gemma-2-27b-it-4bit\")\n",
    "# https://huggingface.co/mlx-community/gemma-2-27b-4bit \n"
   ]
  },
  {
   "cell_type": "code",
   "execution_count": 3,
   "metadata": {},
   "outputs": [
    {
     "name": "stdout",
     "output_type": "stream",
     "text": [
      "<bos><start_of_turn>user\n",
      "What are the minimum size requirements for the marks and the UN packaging symbol on pressure receptacles, and how do these requirements differ based on the diameter of the pressure receptacle?<end_of_turn>\n",
      "<start_of_turn>model\n",
      "\n"
     ]
    }
   ],
   "source": [
    "messages = [{\"role\": \"user\", \"content\": \"What are the minimum size requirements for the marks and the UN packaging symbol on pressure receptacles, and how do these requirements differ based on the diameter of the pressure receptacle?\"}]\n",
    "result = tokenizer.apply_chat_template(messages, tokenize=False, add_generation_prompt=True)\n",
    "print(result)"
   ]
  },
  {
   "cell_type": "code",
   "execution_count": 4,
   "metadata": {},
   "outputs": [
    {
     "name": "stdout",
     "output_type": "stream",
     "text": [
      "==========\n",
      "Prompt: What are the minimum size requirements for the marks and the UN packaging symbol on pressure receptacles, and how do these requirements differ based on the diameter of the pressure receptacle per IMDG code?\n",
      "\n",
      "\n",
      "The IMDG Code (International Maritime Dangerous Goods Code) outlines the marking and labeling requirements for pressure receptacles.\n",
      "\n",
      "**Minimum Size Requirements for Marks and UN Packaging Symbol:**\n",
      "\n",
      "The minimum size requirements for marks and the UN packaging symbol on pressure receptacles are dependent on the diameter of the receptacle.\n",
      "\n",
      "* **Receptacles with a diameter of less than 140 mm:**\n",
      "\n",
      "    * The UN packaging symbol must have a minimum dimension of 6 mm.\n",
      "    * Other marks (e.g., manufacturer's name, serial number, test pressure, etc.) must be clearly visible and legible.\n",
      "\n",
      "* **Receptacles with a diameter of 140 mm or more:**\n",
      "\n",
      "    * The UN packaging symbol must have a minimum dimension of 12 mm.\n",
      "    * Other marks must be clearly visible and legible, with a minimum height of 6 mm.\n",
      "\n",
      "**Additional Considerations:**\n",
      "\n",
      "* The marks and UN packaging symbol must be permanently affixed to the pressure receptacle.\n",
      "* They should be located in a readily visible and accessible location.\n",
      "* The color of the marks and symbol should contrast with the background color of the receptacle.\n",
      "\n",
      "**Note:**\n",
      "\n",
      "These are general guidelines. Specific requirements may vary depending on the type of pressure receptacle, the gas being transported, and the applicable national regulations. It is crucial to consult the IMDG Code and relevant national regulations for detailed information on marking and labeling requirements.\n",
      "\n",
      "For further clarification and specific guidance, it is recommended to consult the IMDG Code directly or seek advice from a qualified dangerous goods expert.<end_of_turn>\n",
      "\n",
      "==========\n",
      "Prompt: 37 tokens, 15.803 tokens-per-sec\n",
      "Generation: 316 tokens, 15.865 tokens-per-sec\n",
      "Peak memory: 14.782 GB\n"
     ]
    }
   ],
   "source": [
    "# Generating without adding a prompt template manually\n",
    "prompt = \"\"\"\n",
    "What are the minimum size requirements for the marks and the UN packaging symbol on pressure receptacles, and how do these requirements differ based on the diameter of the pressure receptacle per IMDG code?\n",
    "\"\"\".strip()\n",
    "response = generate(\n",
    "    model,\n",
    "    tokenizer,\n",
    "    prompt=prompt,\n",
    "    verbose=True,  # Set to True to see the prompt and response\n",
    "    temp=0.0,\n",
    "    max_tokens=1024,\n",
    ")"
   ]
  },
  {
   "cell_type": "markdown",
   "metadata": {},
   "source": [
    "## 3. Generating training dataset from PDF file"
   ]
  },
  {
   "cell_type": "code",
   "execution_count": 6,
   "metadata": {},
   "outputs": [
    {
     "name": "stdout",
     "output_type": "stream",
     "text": [
      "Starting fine-tuning dataset creation (Target samples: 10000)\n",
      "Loading model and tokenizer...\n"
     ]
    },
    {
     "data": {
      "application/vnd.jupyter.widget-view+json": {
       "model_id": "259f31ebe6094d29b5866decfe2632e7",
       "version_major": 2,
       "version_minor": 0
      },
      "text/plain": [
       "Fetching 9 files:   0%|          | 0/9 [00:00<?, ?it/s]"
      ]
     },
     "metadata": {},
     "output_type": "display_data"
    },
    {
     "name": "stdout",
     "output_type": "stream",
     "text": [
      "Model and tokenizer loaded\n",
      "Extracting text from PDF...\n"
     ]
    },
    {
     "name": "stderr",
     "output_type": "stream",
     "text": [
      "Processing pages: 100%|██████████| 1098/1098 [01:05<00:00, 16.85it/s]\n"
     ]
    },
    {
     "name": "stdout",
     "output_type": "stream",
     "text": [
      "Text extraction completed\n",
      "Splitting text into chunks...\n"
     ]
    },
    {
     "name": "stderr",
     "output_type": "stream",
     "text": [
      "Creating chunks: 100%|██████████| 64387/64387 [00:00<00:00, 3798881.00it/s]\n"
     ]
    },
    {
     "name": "stdout",
     "output_type": "stream",
     "text": [
      "Number of chunks created: 3140\n",
      "Generating question-response pairs and writing to CSV...\n"
     ]
    },
    {
     "name": "stderr",
     "output_type": "stream",
     "text": [
      "Generating samples:   0%|          | 21/10000 [06:59<60:57:00, 21.99s/it]"
     ]
    },
    {
     "name": "stdout",
     "output_type": "stream",
     "text": [
      "Skipping invalid sample: Q: Unable to generate a question., A: Unable to generate a response.\n"
     ]
    },
    {
     "name": "stderr",
     "output_type": "stream",
     "text": [
      "Generating samples:   0%|          | 38/10000 [12:58<62:00:29, 22.41s/it]"
     ]
    },
    {
     "name": "stdout",
     "output_type": "stream",
     "text": [
      "Skipping invalid sample: Q: Unable to generate a question., A: Unable to generate a response.\n"
     ]
    },
    {
     "name": "stderr",
     "output_type": "stream",
     "text": [
      "Generating samples:   0%|          | 42/10000 [14:28<57:32:30, 20.80s/it]"
     ]
    },
    {
     "name": "stdout",
     "output_type": "stream",
     "text": [
      "Skipping invalid sample: Q: Unable to generate a question., A: Unable to generate a response.\n"
     ]
    },
    {
     "name": "stderr",
     "output_type": "stream",
     "text": [
      "Generating samples:   1%|          | 56/10000 [18:54<47:19:34, 17.13s/it]"
     ]
    },
    {
     "name": "stdout",
     "output_type": "stream",
     "text": [
      "Skipping invalid sample: Q: Unable to generate a question., A: Unable to generate a response.\n"
     ]
    },
    {
     "name": "stderr",
     "output_type": "stream",
     "text": [
      "Generating samples:   1%|          | 64/10000 [22:01<63:47:26, 23.11s/it]"
     ]
    },
    {
     "name": "stdout",
     "output_type": "stream",
     "text": [
      "Skipping invalid sample: Q: Unable to generate a question., A: Unable to generate a response.\n"
     ]
    },
    {
     "name": "stderr",
     "output_type": "stream",
     "text": [
      "Generating samples:   1%|          | 76/10000 [25:18<41:18:58, 14.99s/it]"
     ]
    },
    {
     "name": "stdout",
     "output_type": "stream",
     "text": [
      "Skipping invalid sample: Q: Unable to generate a question., A: Unable to generate a response.\n"
     ]
    },
    {
     "name": "stderr",
     "output_type": "stream",
     "text": [
      "Generating samples:   1%|          | 85/10000 [28:40<50:52:38, 18.47s/it]"
     ]
    },
    {
     "name": "stdout",
     "output_type": "stream",
     "text": [
      "Skipping invalid sample: Q: Unable to generate a question., A: Unable to generate a response.\n"
     ]
    },
    {
     "name": "stderr",
     "output_type": "stream",
     "text": [
      "Generating samples:   1%|          | 100/10000 [33:24<53:16:14, 19.37s/it]"
     ]
    },
    {
     "name": "stdout",
     "output_type": "stream",
     "text": [
      "Generated 100 samples...\n"
     ]
    },
    {
     "name": "stderr",
     "output_type": "stream",
     "text": [
      "Generating samples:   2%|▏         | 189/10000 [59:00<41:14:20, 15.13s/it]"
     ]
    },
    {
     "name": "stdout",
     "output_type": "stream",
     "text": [
      "Skipping invalid sample: Q: Unable to generate a question., A: Unable to generate a response.\n"
     ]
    },
    {
     "name": "stderr",
     "output_type": "stream",
     "text": [
      "Generating samples:   2%|▏         | 190/10000 [59:03<31:34:37, 11.59s/it]"
     ]
    },
    {
     "name": "stdout",
     "output_type": "stream",
     "text": [
      "Skipping invalid sample: Q: Unable to generate a question., A: Unable to generate a response.\n"
     ]
    },
    {
     "name": "stderr",
     "output_type": "stream",
     "text": [
      "Generating samples:   2%|▏         | 200/10000 [1:02:09<44:55:27, 16.50s/it]"
     ]
    },
    {
     "name": "stdout",
     "output_type": "stream",
     "text": [
      "Generated 200 samples...\n"
     ]
    },
    {
     "name": "stderr",
     "output_type": "stream",
     "text": [
      "Generating samples:   2%|▏         | 204/10000 [1:03:16<42:11:02, 15.50s/it]"
     ]
    },
    {
     "name": "stdout",
     "output_type": "stream",
     "text": [
      "Skipping invalid sample: Q: Unable to generate a question., A: Unable to generate a response.\n"
     ]
    },
    {
     "name": "stderr",
     "output_type": "stream",
     "text": [
      "Generating samples:   2%|▏         | 212/10000 [1:05:23<37:08:11, 13.66s/it]"
     ]
    },
    {
     "name": "stdout",
     "output_type": "stream",
     "text": [
      "Skipping invalid sample: Q: Unable to generate a question., A: Unable to generate a response.\n"
     ]
    },
    {
     "name": "stderr",
     "output_type": "stream",
     "text": [
      "Generating samples:   2%|▏         | 215/10000 [1:06:15<42:14:12, 15.54s/it]"
     ]
    },
    {
     "name": "stdout",
     "output_type": "stream",
     "text": [
      "Skipping invalid sample: Q: Unable to generate a question., A: Unable to generate a response.\n"
     ]
    },
    {
     "name": "stderr",
     "output_type": "stream",
     "text": [
      "Generating samples:   3%|▎         | 257/10000 [1:18:24<44:30:31, 16.45s/it]"
     ]
    },
    {
     "name": "stdout",
     "output_type": "stream",
     "text": [
      "Skipping invalid sample: Q: Unable to generate a question., A: Unable to generate a response.\n"
     ]
    },
    {
     "name": "stderr",
     "output_type": "stream",
     "text": [
      "Generating samples:   3%|▎         | 260/10000 [1:19:18<46:08:46, 17.06s/it]"
     ]
    },
    {
     "name": "stdout",
     "output_type": "stream",
     "text": [
      "Skipping invalid sample: Q: Unable to generate a question., A: Unable to generate a response.\n"
     ]
    },
    {
     "name": "stderr",
     "output_type": "stream",
     "text": [
      "Generating samples:   3%|▎         | 280/10000 [1:25:14<47:20:13, 17.53s/it]"
     ]
    },
    {
     "name": "stdout",
     "output_type": "stream",
     "text": [
      "Skipping invalid sample: Q: Unable to generate a question., A: Unable to generate a response.\n"
     ]
    },
    {
     "name": "stderr",
     "output_type": "stream",
     "text": [
      "Generating samples:   3%|▎         | 300/10000 [1:31:22<48:41:40, 18.07s/it]"
     ]
    },
    {
     "name": "stdout",
     "output_type": "stream",
     "text": [
      "Generated 300 samples...\n"
     ]
    },
    {
     "name": "stderr",
     "output_type": "stream",
     "text": [
      "Generating samples:   3%|▎         | 311/10000 [1:34:59<47:23:48, 17.61s/it]"
     ]
    },
    {
     "name": "stdout",
     "output_type": "stream",
     "text": [
      "Skipping invalid sample: Q: Unable to generate a question., A: Unable to generate a response.\n"
     ]
    },
    {
     "name": "stderr",
     "output_type": "stream",
     "text": [
      "Generating samples:   3%|▎         | 340/10000 [1:43:30<46:19:39, 17.26s/it]"
     ]
    },
    {
     "name": "stdout",
     "output_type": "stream",
     "text": [
      "Skipping invalid sample: Q: Unable to generate a question., A: Unable to generate a response.\n"
     ]
    },
    {
     "name": "stderr",
     "output_type": "stream",
     "text": [
      "Generating samples:   4%|▎         | 366/10000 [1:50:28<54:55:32, 20.52s/it]"
     ]
    },
    {
     "name": "stdout",
     "output_type": "stream",
     "text": [
      "Skipping invalid sample: Q: Unable to generate a question., A: Unable to generate a response.\n"
     ]
    },
    {
     "name": "stderr",
     "output_type": "stream",
     "text": [
      "Generating samples:   4%|▍         | 400/10000 [2:02:16<75:20:36, 28.25s/it]"
     ]
    },
    {
     "name": "stdout",
     "output_type": "stream",
     "text": [
      "Generated 400 samples...\n"
     ]
    },
    {
     "name": "stderr",
     "output_type": "stream",
     "text": [
      "Generating samples:   4%|▍         | 420/10000 [2:08:39<42:53:25, 16.12s/it]"
     ]
    },
    {
     "name": "stdout",
     "output_type": "stream",
     "text": [
      "Skipping invalid sample: Q: Unable to generate a question., A: Unable to generate a response.\n"
     ]
    },
    {
     "name": "stderr",
     "output_type": "stream",
     "text": [
      "Generating samples:   5%|▍         | 476/10000 [2:26:31<49:16:25, 18.63s/it]"
     ]
    },
    {
     "name": "stdout",
     "output_type": "stream",
     "text": [
      "Skipping invalid sample: Q: Unable to generate a question., A: Unable to generate a response.\n"
     ]
    },
    {
     "name": "stderr",
     "output_type": "stream",
     "text": [
      "Generating samples:   5%|▌         | 500/10000 [2:33:36<40:36:01, 15.39s/it]"
     ]
    },
    {
     "name": "stdout",
     "output_type": "stream",
     "text": [
      "Generated 500 samples...\n"
     ]
    },
    {
     "name": "stderr",
     "output_type": "stream",
     "text": [
      "Generating samples:   5%|▌         | 511/10000 [2:37:20<43:45:20, 16.60s/it]"
     ]
    },
    {
     "name": "stdout",
     "output_type": "stream",
     "text": [
      "Skipping invalid sample: Q: Unable to generate a question., A: Unable to generate a response.\n"
     ]
    },
    {
     "name": "stderr",
     "output_type": "stream",
     "text": [
      "Generating samples:   5%|▌         | 528/10000 [2:42:17<39:06:03, 14.86s/it]"
     ]
    },
    {
     "name": "stdout",
     "output_type": "stream",
     "text": [
      "Skipping invalid sample: Q: Unable to generate a question., A: Unable to generate a response.\n"
     ]
    },
    {
     "name": "stderr",
     "output_type": "stream",
     "text": [
      "Generating samples:   5%|▌         | 548/10000 [2:47:37<43:14:16, 16.47s/it]"
     ]
    },
    {
     "name": "stdout",
     "output_type": "stream",
     "text": [
      "Skipping invalid sample: Q: Unable to generate a question., A: Unable to generate a response.\n"
     ]
    },
    {
     "name": "stderr",
     "output_type": "stream",
     "text": [
      "Generating samples:   6%|▌         | 580/10000 [2:57:48<43:21:57, 16.57s/it]"
     ]
    },
    {
     "name": "stdout",
     "output_type": "stream",
     "text": [
      "Skipping invalid sample: Q: Unable to generate a question., A: Unable to generate a response.\n"
     ]
    },
    {
     "name": "stderr",
     "output_type": "stream",
     "text": [
      "Generating samples:   6%|▌         | 583/10000 [2:58:59<57:11:15, 21.86s/it]"
     ]
    },
    {
     "name": "stdout",
     "output_type": "stream",
     "text": [
      "Skipping invalid sample: Q: Unable to generate a question., A: Unable to generate a response.\n"
     ]
    },
    {
     "name": "stderr",
     "output_type": "stream",
     "text": [
      "Generating samples:   6%|▌         | 588/10000 [3:01:28<70:27:58, 26.95s/it]"
     ]
    },
    {
     "name": "stdout",
     "output_type": "stream",
     "text": [
      "Skipping invalid sample: Q: Unable to generate a question., A: Unable to generate a response.\n"
     ]
    },
    {
     "name": "stderr",
     "output_type": "stream",
     "text": [
      "Generating samples:   6%|▌         | 593/10000 [3:03:25<59:00:37, 22.58s/it]"
     ]
    },
    {
     "name": "stdout",
     "output_type": "stream",
     "text": [
      "Skipping invalid sample: Q: Unable to generate a question., A: Unable to generate a response.\n"
     ]
    },
    {
     "name": "stderr",
     "output_type": "stream",
     "text": [
      "Generating samples:   6%|▌         | 597/10000 [3:04:39<51:23:52, 19.68s/it]"
     ]
    },
    {
     "name": "stdout",
     "output_type": "stream",
     "text": [
      "Skipping invalid sample: Q: Unable to generate a question., A: Unable to generate a response.\n"
     ]
    },
    {
     "name": "stderr",
     "output_type": "stream",
     "text": [
      "Generating samples:   6%|▌         | 600/10000 [3:05:30<47:21:43, 18.14s/it]"
     ]
    },
    {
     "name": "stdout",
     "output_type": "stream",
     "text": [
      "Generated 600 samples...\n"
     ]
    },
    {
     "name": "stderr",
     "output_type": "stream",
     "text": [
      "Generating samples:   6%|▌         | 611/10000 [3:09:01<46:03:21, 17.66s/it]"
     ]
    },
    {
     "name": "stdout",
     "output_type": "stream",
     "text": [
      "Skipping invalid sample: Q: Unable to generate a question., A: Unable to generate a response.\n"
     ]
    },
    {
     "name": "stderr",
     "output_type": "stream",
     "text": [
      "Generating samples:   6%|▌         | 612/10000 [3:09:04<35:17:35, 13.53s/it]"
     ]
    },
    {
     "name": "stdout",
     "output_type": "stream",
     "text": [
      "Skipping invalid sample: Q: Unable to generate a question., A: Unable to generate a response.\n"
     ]
    },
    {
     "name": "stderr",
     "output_type": "stream",
     "text": [
      "Generating samples:   6%|▋         | 627/10000 [3:13:48<42:00:38, 16.14s/it]"
     ]
    },
    {
     "name": "stdout",
     "output_type": "stream",
     "text": [
      "Skipping invalid sample: Q: Unable to generate a question., A: Unable to generate a response.\n"
     ]
    },
    {
     "name": "stderr",
     "output_type": "stream",
     "text": [
      "Generating samples:   6%|▋         | 639/10000 [3:17:40<45:05:32, 17.34s/it]"
     ]
    },
    {
     "name": "stdout",
     "output_type": "stream",
     "text": [
      "Skipping invalid sample: Q: Unable to generate a question., A: Unable to generate a response.\n"
     ]
    },
    {
     "name": "stderr",
     "output_type": "stream",
     "text": [
      "Generating samples:   7%|▋         | 662/10000 [3:25:09<47:50:21, 18.44s/it]"
     ]
    },
    {
     "name": "stdout",
     "output_type": "stream",
     "text": [
      "Skipping invalid sample: Q: Unable to generate a question., A: Unable to generate a response.\n"
     ]
    },
    {
     "name": "stderr",
     "output_type": "stream",
     "text": [
      "Generating samples:   7%|▋         | 698/10000 [3:38:50<53:57:40, 20.88s/it]"
     ]
    },
    {
     "name": "stdout",
     "output_type": "stream",
     "text": [
      "Skipping invalid sample: Q: Unable to generate a question., A: Unable to generate a response.\n"
     ]
    },
    {
     "name": "stderr",
     "output_type": "stream",
     "text": [
      "Generating samples:   7%|▋         | 700/10000 [3:39:39<59:43:01, 23.12s/it]"
     ]
    },
    {
     "name": "stdout",
     "output_type": "stream",
     "text": [
      "Generated 700 samples...\n"
     ]
    },
    {
     "name": "stderr",
     "output_type": "stream",
     "text": [
      "Generating samples:   7%|▋         | 708/10000 [3:42:50<69:21:15, 26.87s/it]"
     ]
    },
    {
     "name": "stdout",
     "output_type": "stream",
     "text": [
      "Skipping invalid sample: Q: Unable to generate a question., A: Unable to generate a response.\n"
     ]
    },
    {
     "name": "stderr",
     "output_type": "stream",
     "text": [
      "Generating samples:   8%|▊         | 798/10000 [4:12:52<52:47:16, 20.65s/it]"
     ]
    },
    {
     "name": "stdout",
     "output_type": "stream",
     "text": [
      "Skipping invalid sample: Q: Unable to generate a question., A: Unable to generate a response.\n"
     ]
    },
    {
     "name": "stderr",
     "output_type": "stream",
     "text": [
      "Generating samples:   8%|▊         | 800/10000 [4:13:33<51:40:36, 20.22s/it]"
     ]
    },
    {
     "name": "stdout",
     "output_type": "stream",
     "text": [
      "Generated 800 samples...\n"
     ]
    },
    {
     "name": "stderr",
     "output_type": "stream",
     "text": [
      "Generating samples:   9%|▉         | 882/10000 [4:39:57<50:25:10, 19.91s/it]"
     ]
    },
    {
     "name": "stdout",
     "output_type": "stream",
     "text": [
      "Skipping invalid sample: Q: Unable to generate a question., A: Unable to generate a response.\n"
     ]
    },
    {
     "name": "stderr",
     "output_type": "stream",
     "text": [
      "Generating samples:   9%|▉         | 899/10000 [4:44:16<34:42:42, 13.73s/it]"
     ]
    },
    {
     "name": "stdout",
     "output_type": "stream",
     "text": [
      "Skipping invalid sample: Q: Unable to generate a question., A: Unable to generate a response.\n"
     ]
    },
    {
     "name": "stderr",
     "output_type": "stream",
     "text": [
      "Generating samples:   9%|▉         | 900/10000 [4:44:33<36:49:09, 14.57s/it]"
     ]
    },
    {
     "name": "stdout",
     "output_type": "stream",
     "text": [
      "Generated 900 samples...\n"
     ]
    },
    {
     "name": "stderr",
     "output_type": "stream",
     "text": [
      "Generating samples:   9%|▉         | 910/10000 [4:48:00<43:05:58, 17.07s/it]"
     ]
    },
    {
     "name": "stdout",
     "output_type": "stream",
     "text": [
      "Skipping invalid sample: Q: Unable to generate a question., A: Unable to generate a response.\n"
     ]
    },
    {
     "name": "stderr",
     "output_type": "stream",
     "text": [
      "Generating samples:   9%|▉         | 916/10000 [4:49:23<32:27:54, 12.87s/it]"
     ]
    },
    {
     "name": "stdout",
     "output_type": "stream",
     "text": [
      "Skipping invalid sample: Q: Unable to generate a question., A: Unable to generate a response.\n"
     ]
    },
    {
     "name": "stderr",
     "output_type": "stream",
     "text": [
      "Generating samples:   9%|▉         | 932/10000 [4:53:55<30:30:07, 12.11s/it]"
     ]
    },
    {
     "name": "stdout",
     "output_type": "stream",
     "text": [
      "Skipping invalid sample: Q: Unable to generate a question., A: Unable to generate a response.\n"
     ]
    },
    {
     "name": "stderr",
     "output_type": "stream",
     "text": [
      "Generating samples:  10%|▉         | 978/10000 [5:09:03<51:36:45, 20.59s/it]"
     ]
    },
    {
     "name": "stdout",
     "output_type": "stream",
     "text": [
      "Skipping invalid sample: Q: Unable to generate a question., A: Unable to generate a response.\n"
     ]
    },
    {
     "name": "stderr",
     "output_type": "stream",
     "text": [
      "Generating samples:  10%|▉         | 993/10000 [5:13:54<57:24:39, 22.95s/it]"
     ]
    },
    {
     "name": "stdout",
     "output_type": "stream",
     "text": [
      "Skipping invalid sample: Q: Unable to generate a question., A: Unable to generate a response.\n"
     ]
    },
    {
     "name": "stderr",
     "output_type": "stream",
     "text": [
      "Generating samples:  10%|▉         | 997/10000 [5:15:13<56:04:12, 22.42s/it]"
     ]
    },
    {
     "name": "stdout",
     "output_type": "stream",
     "text": [
      "Skipping invalid sample: Q: Unable to generate a question., A: Unable to generate a response.\n"
     ]
    },
    {
     "name": "stderr",
     "output_type": "stream",
     "text": [
      "Generating samples:  10%|█         | 1000/10000 [5:16:12<52:25:47, 20.97s/it]"
     ]
    },
    {
     "name": "stdout",
     "output_type": "stream",
     "text": [
      "Generated 1000 samples...\n"
     ]
    },
    {
     "name": "stderr",
     "output_type": "stream",
     "text": [
      "Generating samples:  10%|█         | 1010/10000 [5:19:18<45:10:27, 18.09s/it]"
     ]
    },
    {
     "name": "stdout",
     "output_type": "stream",
     "text": [
      "Skipping invalid sample: Q: Unable to generate a question., A: Unable to generate a response.\n"
     ]
    },
    {
     "name": "stderr",
     "output_type": "stream",
     "text": [
      "Generating samples:  11%|█         | 1054/10000 [5:34:43<36:22:26, 14.64s/it]"
     ]
    },
    {
     "name": "stdout",
     "output_type": "stream",
     "text": [
      "Skipping invalid sample: Q: Unable to generate a question., A: Unable to generate a response.\n"
     ]
    },
    {
     "name": "stderr",
     "output_type": "stream",
     "text": [
      "Generating samples:  11%|█         | 1084/10000 [5:44:49<37:54:25, 15.31s/it]"
     ]
    },
    {
     "name": "stdout",
     "output_type": "stream",
     "text": [
      "Skipping invalid sample: Q: Unable to generate a question., A: Unable to generate a response.\n"
     ]
    },
    {
     "name": "stderr",
     "output_type": "stream",
     "text": [
      "Generating samples:  11%|█         | 1100/10000 [5:49:53<45:07:17, 18.25s/it]"
     ]
    },
    {
     "name": "stdout",
     "output_type": "stream",
     "text": [
      "Generated 1100 samples...\n"
     ]
    },
    {
     "name": "stderr",
     "output_type": "stream",
     "text": [
      "Generating samples:  11%|█         | 1108/10000 [5:52:16<42:53:52, 17.37s/it]"
     ]
    },
    {
     "name": "stdout",
     "output_type": "stream",
     "text": [
      "Skipping invalid sample: Q: Unable to generate a question., A: Unable to generate a response.\n"
     ]
    },
    {
     "name": "stderr",
     "output_type": "stream",
     "text": [
      "Generating samples:  11%|█         | 1113/10000 [5:53:36<38:20:38, 15.53s/it]"
     ]
    },
    {
     "name": "stdout",
     "output_type": "stream",
     "text": [
      "Skipping invalid sample: Q: Unable to generate a question., A: Unable to generate a response.\n"
     ]
    },
    {
     "name": "stderr",
     "output_type": "stream",
     "text": [
      "Generating samples:  11%|█▏        | 1131/10000 [5:58:32<28:29:33, 11.57s/it]"
     ]
    },
    {
     "name": "stdout",
     "output_type": "stream",
     "text": [
      "Skipping invalid sample: Q: Unable to generate a question., A: Unable to generate a response.\n"
     ]
    },
    {
     "name": "stderr",
     "output_type": "stream",
     "text": [
      "Generating samples:  11%|█▏        | 1142/10000 [6:01:55<53:28:41, 21.73s/it]"
     ]
    },
    {
     "name": "stdout",
     "output_type": "stream",
     "text": [
      "Skipping invalid sample: Q: Unable to generate a question., A: Unable to generate a response.\n"
     ]
    },
    {
     "name": "stderr",
     "output_type": "stream",
     "text": [
      "Generating samples:  12%|█▏        | 1150/10000 [6:04:11<44:07:55, 17.95s/it]"
     ]
    },
    {
     "name": "stdout",
     "output_type": "stream",
     "text": [
      "Skipping invalid sample: Q: Unable to generate a question., A: Unable to generate a response.\n"
     ]
    },
    {
     "name": "stderr",
     "output_type": "stream",
     "text": [
      "Generating samples:  12%|█▏        | 1174/10000 [6:12:17<49:01:49, 20.00s/it]"
     ]
    },
    {
     "name": "stdout",
     "output_type": "stream",
     "text": [
      "Skipping invalid sample: Q: Unable to generate a question., A: Unable to generate a response.\n"
     ]
    },
    {
     "name": "stderr",
     "output_type": "stream",
     "text": [
      "Generating samples:  12%|█▏        | 1200/10000 [6:20:38<51:43:00, 21.16s/it]"
     ]
    },
    {
     "name": "stdout",
     "output_type": "stream",
     "text": [
      "Generated 1200 samples...\n"
     ]
    },
    {
     "name": "stderr",
     "output_type": "stream",
     "text": [
      "Generating samples:  12%|█▏        | 1215/10000 [6:24:50<31:07:10, 12.75s/it]"
     ]
    },
    {
     "name": "stdout",
     "output_type": "stream",
     "text": [
      "Skipping invalid sample: Q: Unable to generate a question., A: Unable to generate a response.\n"
     ]
    },
    {
     "name": "stderr",
     "output_type": "stream",
     "text": [
      "Generating samples:  12%|█▏        | 1223/10000 [6:27:07<37:28:23, 15.37s/it]"
     ]
    },
    {
     "name": "stdout",
     "output_type": "stream",
     "text": [
      "Skipping invalid sample: Q: Unable to generate a question., A: Unable to generate a response.\n"
     ]
    },
    {
     "name": "stderr",
     "output_type": "stream",
     "text": [
      "Generating samples:  13%|█▎        | 1251/10000 [6:37:44<50:32:29, 20.80s/it]"
     ]
    },
    {
     "name": "stdout",
     "output_type": "stream",
     "text": [
      "Skipping invalid sample: Q: Unable to generate a question., A: Unable to generate a response.\n"
     ]
    },
    {
     "name": "stderr",
     "output_type": "stream",
     "text": [
      "Generating samples:  13%|█▎        | 1286/10000 [6:49:11<34:25:14, 14.22s/it]"
     ]
    },
    {
     "name": "stdout",
     "output_type": "stream",
     "text": [
      "Skipping invalid sample: Q: Unable to generate a question., A: Unable to generate a response.\n"
     ]
    },
    {
     "name": "stderr",
     "output_type": "stream",
     "text": [
      "Generating samples:  13%|█▎        | 1297/10000 [6:53:19<59:07:17, 24.46s/it]"
     ]
    },
    {
     "name": "stdout",
     "output_type": "stream",
     "text": [
      "Skipping invalid sample: Q: Unable to generate a question., A: Unable to generate a response.\n"
     ]
    },
    {
     "name": "stderr",
     "output_type": "stream",
     "text": [
      "Generating samples:  13%|█▎        | 1300/10000 [6:54:20<49:55:59, 20.66s/it]"
     ]
    },
    {
     "name": "stdout",
     "output_type": "stream",
     "text": [
      "Generated 1300 samples...\n"
     ]
    },
    {
     "name": "stderr",
     "output_type": "stream",
     "text": [
      "Generating samples:  13%|█▎        | 1302/10000 [6:55:00<49:16:12, 20.39s/it]"
     ]
    },
    {
     "name": "stdout",
     "output_type": "stream",
     "text": [
      "Skipping invalid sample: Q: Unable to generate a question., A: Unable to generate a response.\n"
     ]
    },
    {
     "name": "stderr",
     "output_type": "stream",
     "text": [
      "Generating samples:  13%|█▎        | 1325/10000 [7:02:15<40:12:26, 16.69s/it]"
     ]
    },
    {
     "name": "stdout",
     "output_type": "stream",
     "text": [
      "Skipping invalid sample: Q: Unable to generate a question., A: Unable to generate a response.\n"
     ]
    },
    {
     "name": "stderr",
     "output_type": "stream",
     "text": [
      "Generating samples:  14%|█▍        | 1380/10000 [7:18:23<40:11:44, 16.79s/it]"
     ]
    },
    {
     "name": "stdout",
     "output_type": "stream",
     "text": [
      "Skipping invalid sample: Q: Unable to generate a question., A: Unable to generate a response.\n"
     ]
    },
    {
     "name": "stderr",
     "output_type": "stream",
     "text": [
      "Generating samples:  14%|█▍        | 1388/10000 [7:21:04<38:27:13, 16.07s/it]"
     ]
    },
    {
     "name": "stdout",
     "output_type": "stream",
     "text": [
      "Skipping invalid sample: Q: Unable to generate a question., A: Unable to generate a response.\n"
     ]
    },
    {
     "name": "stderr",
     "output_type": "stream",
     "text": [
      "Generating samples:  14%|█▍        | 1391/10000 [7:21:54<39:31:03, 16.52s/it]"
     ]
    },
    {
     "name": "stdout",
     "output_type": "stream",
     "text": [
      "Skipping invalid sample: Q: Unable to generate a question., A: Unable to generate a response.\n"
     ]
    },
    {
     "name": "stderr",
     "output_type": "stream",
     "text": [
      "Generating samples:  14%|█▍        | 1400/10000 [7:24:33<46:14:51, 19.36s/it]"
     ]
    },
    {
     "name": "stdout",
     "output_type": "stream",
     "text": [
      "Generated 1400 samples...\n"
     ]
    },
    {
     "name": "stderr",
     "output_type": "stream",
     "text": [
      "Generating samples:  15%|█▍        | 1456/10000 [7:42:43<40:36:48, 17.11s/it]"
     ]
    },
    {
     "name": "stdout",
     "output_type": "stream",
     "text": [
      "Skipping invalid sample: Q: Unable to generate a question., A: Unable to generate a response.\n"
     ]
    },
    {
     "name": "stderr",
     "output_type": "stream",
     "text": [
      "Generating samples:  15%|█▌        | 1500/10000 [7:56:17<53:04:27, 22.48s/it]"
     ]
    },
    {
     "name": "stdout",
     "output_type": "stream",
     "text": [
      "Generated 1500 samples...\n"
     ]
    },
    {
     "name": "stderr",
     "output_type": "stream",
     "text": [
      "Generating samples:  16%|█▌        | 1554/10000 [8:12:37<43:23:04, 18.49s/it]"
     ]
    },
    {
     "name": "stdout",
     "output_type": "stream",
     "text": [
      "Skipping invalid sample: Q: Unable to generate a question., A: Unable to generate a response.\n"
     ]
    },
    {
     "name": "stderr",
     "output_type": "stream",
     "text": [
      "Generating samples:  16%|█▌        | 1588/10000 [8:23:37<39:12:48, 16.78s/it]"
     ]
    },
    {
     "name": "stdout",
     "output_type": "stream",
     "text": [
      "Skipping invalid sample: Q: Unable to generate a question., A: Unable to generate a response.\n"
     ]
    },
    {
     "name": "stderr",
     "output_type": "stream",
     "text": [
      "Generating samples:  16%|█▌        | 1600/10000 [8:27:26<41:21:30, 17.73s/it]"
     ]
    },
    {
     "name": "stdout",
     "output_type": "stream",
     "text": [
      "Generated 1600 samples...\n"
     ]
    },
    {
     "name": "stderr",
     "output_type": "stream",
     "text": [
      "Generating samples:  17%|█▋        | 1683/10000 [8:52:33<46:54:59, 20.31s/it]"
     ]
    },
    {
     "name": "stdout",
     "output_type": "stream",
     "text": [
      "Skipping invalid sample: Q: Unable to generate a question., A: Unable to generate a response.\n"
     ]
    },
    {
     "name": "stderr",
     "output_type": "stream",
     "text": [
      "Generating samples:  17%|█▋        | 1700/10000 [8:57:34<45:59:27, 19.95s/it]"
     ]
    },
    {
     "name": "stdout",
     "output_type": "stream",
     "text": [
      "Generated 1700 samples...\n"
     ]
    },
    {
     "name": "stderr",
     "output_type": "stream",
     "text": [
      "Generating samples:  17%|█▋        | 1711/10000 [9:01:12<53:01:01, 23.03s/it]"
     ]
    },
    {
     "name": "stdout",
     "output_type": "stream",
     "text": [
      "Skipping invalid sample: Q: Unable to generate a question., A: Unable to generate a response.\n"
     ]
    },
    {
     "name": "stderr",
     "output_type": "stream",
     "text": [
      "Generating samples:  18%|█▊        | 1757/10000 [9:16:10<37:20:38, 16.31s/it]"
     ]
    },
    {
     "name": "stdout",
     "output_type": "stream",
     "text": [
      "Skipping invalid sample: Q: Unable to generate a question., A: Unable to generate a response.\n"
     ]
    },
    {
     "name": "stderr",
     "output_type": "stream",
     "text": [
      "Generating samples:  18%|█▊        | 1789/10000 [9:26:05<32:08:42, 14.09s/it]"
     ]
    },
    {
     "name": "stdout",
     "output_type": "stream",
     "text": [
      "Skipping invalid sample: Q: Unable to generate a question., A: Unable to generate a response.\n"
     ]
    },
    {
     "name": "stderr",
     "output_type": "stream",
     "text": [
      "Generating samples:  18%|█▊        | 1800/10000 [9:29:48<48:20:07, 21.22s/it]"
     ]
    },
    {
     "name": "stdout",
     "output_type": "stream",
     "text": [
      "Generated 1800 samples...\n"
     ]
    },
    {
     "name": "stderr",
     "output_type": "stream",
     "text": [
      "Generating samples:  18%|█▊        | 1818/10000 [9:36:09<45:41:10, 20.10s/it]"
     ]
    },
    {
     "name": "stdout",
     "output_type": "stream",
     "text": [
      "Skipping invalid sample: Q: Unable to generate a question., A: Unable to generate a response.\n"
     ]
    },
    {
     "name": "stderr",
     "output_type": "stream",
     "text": [
      "Generating samples:  18%|█▊        | 1843/10000 [9:43:44<47:23:15, 20.91s/it]"
     ]
    },
    {
     "name": "stdout",
     "output_type": "stream",
     "text": [
      "Skipping invalid sample: Q: Unable to generate a question., A: Unable to generate a response.\n"
     ]
    },
    {
     "name": "stderr",
     "output_type": "stream",
     "text": [
      "Generating samples:  19%|█▉        | 1892/10000 [9:58:48<32:51:37, 14.59s/it]"
     ]
    },
    {
     "name": "stdout",
     "output_type": "stream",
     "text": [
      "Skipping invalid sample: Q: Unable to generate a question., A: Unable to generate a response.\n"
     ]
    },
    {
     "name": "stderr",
     "output_type": "stream",
     "text": [
      "Generating samples:  19%|█▉        | 1900/10000 [10:01:17<35:02:08, 15.57s/it]"
     ]
    },
    {
     "name": "stdout",
     "output_type": "stream",
     "text": [
      "Skipping invalid sample: Q: Unable to generate a question., A: Unable to generate a response.\n",
      "Generated 1900 samples...\n"
     ]
    },
    {
     "name": "stderr",
     "output_type": "stream",
     "text": [
      "Generating samples:  19%|█▉        | 1903/10000 [10:02:10<37:49:17, 16.82s/it]"
     ]
    },
    {
     "name": "stdout",
     "output_type": "stream",
     "text": [
      "Skipping invalid sample: Q: Unable to generate a question., A: Unable to generate a response.\n"
     ]
    },
    {
     "name": "stderr",
     "output_type": "stream",
     "text": [
      "Generating samples:  19%|█▉        | 1907/10000 [10:03:14<34:13:47, 15.23s/it]"
     ]
    },
    {
     "name": "stdout",
     "output_type": "stream",
     "text": [
      "Skipping invalid sample: Q: Unable to generate a question., A: Unable to generate a response.\n"
     ]
    },
    {
     "name": "stderr",
     "output_type": "stream",
     "text": [
      "Generating samples:  20%|█▉        | 1955/10000 [10:19:32<44:15:42, 19.81s/it]"
     ]
    },
    {
     "name": "stdout",
     "output_type": "stream",
     "text": [
      "Skipping invalid sample: Q: Unable to generate a question., A: Unable to generate a response.\n"
     ]
    },
    {
     "name": "stderr",
     "output_type": "stream",
     "text": [
      "Generating samples:  20%|██        | 2000/10000 [10:31:34<42:14:33, 19.01s/it]"
     ]
    },
    {
     "name": "stdout",
     "output_type": "stream",
     "text": [
      "Generated 2000 samples...\n"
     ]
    },
    {
     "name": "stderr",
     "output_type": "stream",
     "text": [
      "Generating samples:  20%|██        | 2035/10000 [10:42:55<39:02:26, 17.65s/it]"
     ]
    },
    {
     "name": "stdout",
     "output_type": "stream",
     "text": [
      "Skipping invalid sample: Q: Unable to generate a question., A: Unable to generate a response.\n"
     ]
    },
    {
     "name": "stderr",
     "output_type": "stream",
     "text": [
      "Generating samples:  20%|██        | 2036/10000 [10:43:01<31:11:24, 14.10s/it]"
     ]
    },
    {
     "name": "stdout",
     "output_type": "stream",
     "text": [
      "Skipping invalid sample: Q: Unable to generate a question., A: Unable to generate a response.\n"
     ]
    },
    {
     "name": "stderr",
     "output_type": "stream",
     "text": [
      "Generating samples:  21%|██        | 2054/10000 [10:48:05<39:34:11, 17.93s/it]"
     ]
    },
    {
     "name": "stdout",
     "output_type": "stream",
     "text": [
      "Skipping invalid sample: Q: Unable to generate a question., A: Unable to generate a response.\n"
     ]
    },
    {
     "name": "stderr",
     "output_type": "stream",
     "text": [
      "Generating samples:  21%|██        | 2077/10000 [10:54:49<28:01:23, 12.73s/it]"
     ]
    },
    {
     "name": "stdout",
     "output_type": "stream",
     "text": [
      "Skipping invalid sample: Q: Unable to generate a question., A: Unable to generate a response.\n"
     ]
    },
    {
     "name": "stderr",
     "output_type": "stream",
     "text": [
      "Generating samples:  21%|██        | 2089/10000 [10:58:03<31:25:16, 14.30s/it]"
     ]
    },
    {
     "name": "stdout",
     "output_type": "stream",
     "text": [
      "Skipping invalid sample: Q: Unable to generate a question., A: Unable to generate a response.\n"
     ]
    },
    {
     "name": "stderr",
     "output_type": "stream",
     "text": [
      "Generating samples:  21%|██        | 2099/10000 [11:01:22<39:24:33, 17.96s/it]"
     ]
    },
    {
     "name": "stdout",
     "output_type": "stream",
     "text": [
      "Skipping invalid sample: Q: Unable to generate a question., A: Unable to generate a response.\n"
     ]
    },
    {
     "name": "stderr",
     "output_type": "stream",
     "text": [
      "Generating samples:  21%|██        | 2100/10000 [11:01:43<41:16:38, 18.81s/it]"
     ]
    },
    {
     "name": "stdout",
     "output_type": "stream",
     "text": [
      "Generated 2100 samples...\n"
     ]
    },
    {
     "name": "stderr",
     "output_type": "stream",
     "text": [
      "Generating samples:  22%|██▏       | 2168/10000 [11:22:41<26:02:16, 11.97s/it]"
     ]
    },
    {
     "name": "stdout",
     "output_type": "stream",
     "text": [
      "Skipping invalid sample: Q: Unable to generate a question., A: Unable to generate a response.\n"
     ]
    },
    {
     "name": "stderr",
     "output_type": "stream",
     "text": [
      "Generating samples:  22%|██▏       | 2169/10000 [11:22:46<21:29:58,  9.88s/it]"
     ]
    },
    {
     "name": "stdout",
     "output_type": "stream",
     "text": [
      "Skipping invalid sample: Q: Unable to generate a question., A: Unable to generate a response.\n"
     ]
    },
    {
     "name": "stderr",
     "output_type": "stream",
     "text": [
      "Generating samples:  22%|██▏       | 2187/10000 [11:27:44<32:34:18, 15.01s/it]"
     ]
    },
    {
     "name": "stdout",
     "output_type": "stream",
     "text": [
      "Skipping invalid sample: Q: Unable to generate a question., A: Unable to generate a response.\n"
     ]
    },
    {
     "name": "stderr",
     "output_type": "stream",
     "text": [
      "Generating samples:  22%|██▏       | 2200/10000 [11:31:20<41:54:27, 19.34s/it]"
     ]
    },
    {
     "name": "stdout",
     "output_type": "stream",
     "text": [
      "Generated 2200 samples...\n"
     ]
    },
    {
     "name": "stderr",
     "output_type": "stream",
     "text": [
      "Generating samples:  22%|██▏       | 2202/10000 [11:31:39<29:51:00, 13.78s/it]"
     ]
    },
    {
     "name": "stdout",
     "output_type": "stream",
     "text": [
      "Skipping invalid sample: Q: Unable to generate a question., A: Unable to generate a response.\n"
     ]
    },
    {
     "name": "stderr",
     "output_type": "stream",
     "text": [
      "Generating samples:  22%|██▏       | 2233/10000 [11:40:17<48:52:59, 22.66s/it]"
     ]
    },
    {
     "name": "stdout",
     "output_type": "stream",
     "text": [
      "Skipping invalid sample: Q: Unable to generate a question., A: Unable to generate a response.\n"
     ]
    },
    {
     "name": "stderr",
     "output_type": "stream",
     "text": [
      "Generating samples:  23%|██▎       | 2270/10000 [11:50:50<38:37:49, 17.99s/it]"
     ]
    },
    {
     "name": "stdout",
     "output_type": "stream",
     "text": [
      "Skipping invalid sample: Q: Unable to generate a question., A: Unable to generate a response.\n"
     ]
    },
    {
     "name": "stderr",
     "output_type": "stream",
     "text": [
      "Generating samples:  23%|██▎       | 2273/10000 [11:51:43<41:02:26, 19.12s/it]"
     ]
    },
    {
     "name": "stdout",
     "output_type": "stream",
     "text": [
      "Skipping invalid sample: Q: Unable to generate a question., A: Unable to generate a response.\n"
     ]
    },
    {
     "name": "stderr",
     "output_type": "stream",
     "text": [
      "Generating samples:  23%|██▎       | 2284/10000 [11:55:27<42:19:23, 19.75s/it]"
     ]
    },
    {
     "name": "stdout",
     "output_type": "stream",
     "text": [
      "Skipping invalid sample: Q: Unable to generate a question., A: Unable to generate a response.\n"
     ]
    },
    {
     "name": "stderr",
     "output_type": "stream",
     "text": [
      "Generating samples:  23%|██▎       | 2293/10000 [11:58:36<43:07:58, 20.15s/it]"
     ]
    },
    {
     "name": "stdout",
     "output_type": "stream",
     "text": [
      "Skipping invalid sample: Q: Unable to generate a question., A: Unable to generate a response.\n"
     ]
    },
    {
     "name": "stderr",
     "output_type": "stream",
     "text": [
      "Generating samples:  23%|██▎       | 2300/10000 [12:00:49<37:34:28, 17.57s/it]"
     ]
    },
    {
     "name": "stdout",
     "output_type": "stream",
     "text": [
      "Generated 2300 samples...\n"
     ]
    },
    {
     "name": "stderr",
     "output_type": "stream",
     "text": [
      "Generating samples:  24%|██▎       | 2373/10000 [12:23:00<37:51:03, 17.87s/it]"
     ]
    },
    {
     "name": "stdout",
     "output_type": "stream",
     "text": [
      "Skipping invalid sample: Q: Unable to generate a question., A: Unable to generate a response.\n"
     ]
    },
    {
     "name": "stderr",
     "output_type": "stream",
     "text": [
      "Generating samples:  24%|██▍       | 2376/10000 [12:24:03<38:55:14, 18.38s/it]"
     ]
    },
    {
     "name": "stdout",
     "output_type": "stream",
     "text": [
      "Skipping invalid sample: Q: Unable to generate a question., A: Unable to generate a response.\n"
     ]
    },
    {
     "name": "stderr",
     "output_type": "stream",
     "text": [
      "Generating samples:  24%|██▍       | 2384/10000 [12:26:15<30:55:48, 14.62s/it]"
     ]
    },
    {
     "name": "stdout",
     "output_type": "stream",
     "text": [
      "Skipping invalid sample: Q: Unable to generate a question., A: Unable to generate a response.\n"
     ]
    },
    {
     "name": "stderr",
     "output_type": "stream",
     "text": [
      "Generating samples:  24%|██▍       | 2400/10000 [12:30:59<40:15:11, 19.07s/it]"
     ]
    },
    {
     "name": "stdout",
     "output_type": "stream",
     "text": [
      "Generated 2400 samples...\n"
     ]
    },
    {
     "name": "stderr",
     "output_type": "stream",
     "text": [
      "Generating samples:  24%|██▍       | 2435/10000 [12:41:14<37:47:11, 17.98s/it]"
     ]
    },
    {
     "name": "stdout",
     "output_type": "stream",
     "text": [
      "Skipping invalid sample: Q: Unable to generate a question., A: Unable to generate a response.\n"
     ]
    },
    {
     "name": "stderr",
     "output_type": "stream",
     "text": [
      "Generating samples:  25%|██▍       | 2455/10000 [12:47:12<31:02:19, 14.81s/it]"
     ]
    },
    {
     "name": "stdout",
     "output_type": "stream",
     "text": [
      "Skipping invalid sample: Q: Unable to generate a question., A: Unable to generate a response.\n"
     ]
    },
    {
     "name": "stderr",
     "output_type": "stream",
     "text": [
      "Generating samples:  25%|██▍       | 2476/10000 [12:53:26<35:59:29, 17.22s/it]"
     ]
    },
    {
     "name": "stdout",
     "output_type": "stream",
     "text": [
      "Skipping invalid sample: Q: Unable to generate a question., A: Unable to generate a response.\n"
     ]
    },
    {
     "name": "stderr",
     "output_type": "stream",
     "text": [
      "Generating samples:  25%|██▍       | 2481/10000 [12:54:38<28:11:19, 13.50s/it]"
     ]
    },
    {
     "name": "stdout",
     "output_type": "stream",
     "text": [
      "Skipping invalid sample: Q: Unable to generate a question., A: Unable to generate a response.\n"
     ]
    },
    {
     "name": "stderr",
     "output_type": "stream",
     "text": [
      "Generating samples:  25%|██▍       | 2485/10000 [12:55:34<28:50:59, 13.82s/it]"
     ]
    },
    {
     "name": "stdout",
     "output_type": "stream",
     "text": [
      "Skipping invalid sample: Q: Unable to generate a question., A: Unable to generate a response.\n"
     ]
    },
    {
     "name": "stderr",
     "output_type": "stream",
     "text": [
      "Generating samples:  25%|██▌       | 2500/10000 [12:59:57<34:27:47, 16.54s/it]"
     ]
    },
    {
     "name": "stdout",
     "output_type": "stream",
     "text": [
      "Generated 2500 samples...\n"
     ]
    },
    {
     "name": "stderr",
     "output_type": "stream",
     "text": [
      "Generating samples:  26%|██▌       | 2565/10000 [13:20:26<42:47:18, 20.72s/it]"
     ]
    },
    {
     "name": "stdout",
     "output_type": "stream",
     "text": [
      "Skipping invalid sample: Q: Unable to generate a question., A: Unable to generate a response.\n"
     ]
    },
    {
     "name": "stderr",
     "output_type": "stream",
     "text": [
      "Generating samples:  26%|██▌       | 2600/10000 [13:32:50<53:51:28, 26.20s/it]"
     ]
    },
    {
     "name": "stdout",
     "output_type": "stream",
     "text": [
      "Generated 2600 samples...\n"
     ]
    },
    {
     "name": "stderr",
     "output_type": "stream",
     "text": [
      "Generating samples:  26%|██▌       | 2611/10000 [13:36:08<28:04:40, 13.68s/it]"
     ]
    },
    {
     "name": "stdout",
     "output_type": "stream",
     "text": [
      "Skipping invalid sample: Q: Unable to generate a question., A: Unable to generate a response.\n"
     ]
    },
    {
     "name": "stderr",
     "output_type": "stream",
     "text": [
      "Generating samples:  26%|██▋       | 2629/10000 [13:41:47<39:47:13, 19.43s/it]"
     ]
    },
    {
     "name": "stdout",
     "output_type": "stream",
     "text": [
      "Skipping invalid sample: Q: Unable to generate a question., A: Unable to generate a response.\n"
     ]
    },
    {
     "name": "stderr",
     "output_type": "stream",
     "text": [
      "Generating samples:  26%|██▋       | 2634/10000 [13:43:34<47:11:59, 23.07s/it]"
     ]
    },
    {
     "name": "stdout",
     "output_type": "stream",
     "text": [
      "Skipping invalid sample: Q: Unable to generate a question., A: Unable to generate a response.\n"
     ]
    },
    {
     "name": "stderr",
     "output_type": "stream",
     "text": [
      "Generating samples:  26%|██▋       | 2643/10000 [13:46:01<25:26:11, 12.45s/it]"
     ]
    },
    {
     "name": "stdout",
     "output_type": "stream",
     "text": [
      "Skipping invalid sample: Q: Unable to generate a question., A: Unable to generate a response.\n"
     ]
    },
    {
     "name": "stderr",
     "output_type": "stream",
     "text": [
      "Generating samples:  27%|██▋       | 2654/10000 [13:48:56<25:54:10, 12.69s/it]"
     ]
    },
    {
     "name": "stdout",
     "output_type": "stream",
     "text": [
      "Skipping invalid sample: Q: Unable to generate a question., A: Unable to generate a response.\n"
     ]
    },
    {
     "name": "stderr",
     "output_type": "stream",
     "text": [
      "Generating samples:  27%|██▋       | 2661/10000 [13:51:04<33:23:10, 16.38s/it]"
     ]
    },
    {
     "name": "stdout",
     "output_type": "stream",
     "text": [
      "Skipping invalid sample: Q: Unable to generate a question., A: Unable to generate a response.\n"
     ]
    },
    {
     "name": "stderr",
     "output_type": "stream",
     "text": [
      "Generating samples:  27%|██▋       | 2700/10000 [14:03:29<33:39:14, 16.60s/it]"
     ]
    },
    {
     "name": "stdout",
     "output_type": "stream",
     "text": [
      "Generated 2700 samples...\n"
     ]
    },
    {
     "name": "stderr",
     "output_type": "stream",
     "text": [
      "Generating samples:  28%|██▊       | 2758/10000 [14:20:42<25:46:21, 12.81s/it]"
     ]
    },
    {
     "name": "stdout",
     "output_type": "stream",
     "text": [
      "Skipping invalid sample: Q: Unable to generate a question., A: Unable to generate a response.\n"
     ]
    },
    {
     "name": "stderr",
     "output_type": "stream",
     "text": [
      "Generating samples:  28%|██▊       | 2761/10000 [14:21:28<25:49:52, 12.85s/it]"
     ]
    },
    {
     "name": "stdout",
     "output_type": "stream",
     "text": [
      "Skipping invalid sample: Q: Unable to generate a question., A: Unable to generate a response.\n"
     ]
    },
    {
     "name": "stderr",
     "output_type": "stream",
     "text": [
      "Generating samples:  28%|██▊       | 2793/10000 [14:31:04<30:41:05, 15.33s/it]"
     ]
    },
    {
     "name": "stdout",
     "output_type": "stream",
     "text": [
      "Skipping invalid sample: Q: Unable to generate a question., A: Unable to generate a response.\n"
     ]
    },
    {
     "name": "stderr",
     "output_type": "stream",
     "text": [
      "Generating samples:  28%|██▊       | 2800/10000 [14:33:19<34:56:00, 17.47s/it]"
     ]
    },
    {
     "name": "stdout",
     "output_type": "stream",
     "text": [
      "Generated 2800 samples...\n"
     ]
    },
    {
     "name": "stderr",
     "output_type": "stream",
     "text": [
      "Generating samples:  28%|██▊       | 2821/10000 [14:39:39<34:24:33, 17.25s/it]"
     ]
    },
    {
     "name": "stdout",
     "output_type": "stream",
     "text": [
      "Skipping invalid sample: Q: Unable to generate a question., A: Unable to generate a response.\n"
     ]
    },
    {
     "name": "stderr",
     "output_type": "stream",
     "text": [
      "Generating samples:  28%|██▊       | 2825/10000 [14:40:47<33:23:03, 16.75s/it]"
     ]
    },
    {
     "name": "stdout",
     "output_type": "stream",
     "text": [
      "Skipping invalid sample: Q: Unable to generate a question., A: Unable to generate a response.\n"
     ]
    },
    {
     "name": "stderr",
     "output_type": "stream",
     "text": [
      "Generating samples:  28%|██▊       | 2837/10000 [14:44:25<30:16:27, 15.22s/it]"
     ]
    },
    {
     "name": "stdout",
     "output_type": "stream",
     "text": [
      "Skipping invalid sample: Q: Unable to generate a question., A: Unable to generate a response.\n"
     ]
    },
    {
     "name": "stderr",
     "output_type": "stream",
     "text": [
      "Generating samples:  29%|██▉       | 2900/10000 [15:05:52<45:47:32, 23.22s/it]"
     ]
    },
    {
     "name": "stdout",
     "output_type": "stream",
     "text": [
      "Generated 2900 samples...\n"
     ]
    },
    {
     "name": "stderr",
     "output_type": "stream",
     "text": [
      "Generating samples:  29%|██▉       | 2906/10000 [15:08:17<40:42:40, 20.66s/it]"
     ]
    },
    {
     "name": "stdout",
     "output_type": "stream",
     "text": [
      "Skipping invalid sample: Q: Unable to generate a question., A: Unable to generate a response.\n"
     ]
    },
    {
     "name": "stderr",
     "output_type": "stream",
     "text": [
      "Generating samples:  30%|██▉       | 2996/10000 [15:37:47<39:04:09, 20.08s/it]"
     ]
    },
    {
     "name": "stdout",
     "output_type": "stream",
     "text": [
      "Skipping invalid sample: Q: Unable to generate a question., A: Unable to generate a response.\n"
     ]
    },
    {
     "name": "stderr",
     "output_type": "stream",
     "text": [
      "Generating samples:  30%|███       | 3000/10000 [15:39:04<34:49:07, 17.91s/it]"
     ]
    },
    {
     "name": "stdout",
     "output_type": "stream",
     "text": [
      "Generated 3000 samples...\n"
     ]
    },
    {
     "name": "stderr",
     "output_type": "stream",
     "text": [
      "Generating samples:  30%|███       | 3005/10000 [15:40:46<36:56:08, 19.01s/it]"
     ]
    },
    {
     "name": "stdout",
     "output_type": "stream",
     "text": [
      "Skipping invalid sample: Q: Unable to generate a question., A: Unable to generate a response.\n"
     ]
    },
    {
     "name": "stderr",
     "output_type": "stream",
     "text": [
      "Generating samples:  30%|███       | 3017/10000 [15:44:39<37:25:18, 19.29s/it]"
     ]
    },
    {
     "name": "stdout",
     "output_type": "stream",
     "text": [
      "Skipping invalid sample: Q: Unable to generate a question., A: Unable to generate a response.\n"
     ]
    },
    {
     "name": "stderr",
     "output_type": "stream",
     "text": [
      "Generating samples:  30%|███       | 3023/10000 [15:46:07<25:45:31, 13.29s/it]"
     ]
    },
    {
     "name": "stdout",
     "output_type": "stream",
     "text": [
      "Skipping invalid sample: Q: Unable to generate a question., A: Unable to generate a response.\n"
     ]
    },
    {
     "name": "stderr",
     "output_type": "stream",
     "text": [
      "Generating samples:  30%|███       | 3045/10000 [15:53:02<45:34:29, 23.59s/it]"
     ]
    },
    {
     "name": "stdout",
     "output_type": "stream",
     "text": [
      "Skipping invalid sample: Q: Unable to generate a question., A: Unable to generate a response.\n"
     ]
    },
    {
     "name": "stderr",
     "output_type": "stream",
     "text": [
      "Generating samples:  31%|███       | 3059/10000 [15:57:46<42:02:59, 21.81s/it]"
     ]
    },
    {
     "name": "stdout",
     "output_type": "stream",
     "text": [
      "Skipping invalid sample: Q: Unable to generate a question., A: Unable to generate a response.\n"
     ]
    },
    {
     "name": "stderr",
     "output_type": "stream",
     "text": [
      "Generating samples:  31%|███       | 3076/10000 [16:03:54<40:24:15, 21.01s/it]"
     ]
    },
    {
     "name": "stdout",
     "output_type": "stream",
     "text": [
      "Skipping invalid sample: Q: Unable to generate a question., A: Unable to generate a response.\n"
     ]
    },
    {
     "name": "stderr",
     "output_type": "stream",
     "text": [
      "Generating samples:  31%|███       | 3078/10000 [16:04:42<42:29:16, 22.10s/it]"
     ]
    },
    {
     "name": "stdout",
     "output_type": "stream",
     "text": [
      "Skipping invalid sample: Q: Unable to generate a question., A: Unable to generate a response.\n"
     ]
    },
    {
     "name": "stderr",
     "output_type": "stream",
     "text": [
      "Generating samples:  31%|███       | 3097/10000 [16:11:33<38:01:29, 19.83s/it]"
     ]
    },
    {
     "name": "stdout",
     "output_type": "stream",
     "text": [
      "Skipping invalid sample: Q: Unable to generate a question., A: Unable to generate a response.\n"
     ]
    },
    {
     "name": "stderr",
     "output_type": "stream",
     "text": [
      "Generating samples:  31%|███       | 3100/10000 [16:12:26<34:47:12, 18.15s/it]"
     ]
    },
    {
     "name": "stdout",
     "output_type": "stream",
     "text": [
      "Generated 3100 samples...\n"
     ]
    },
    {
     "name": "stderr",
     "output_type": "stream",
     "text": [
      "Generating samples:  32%|███▏      | 3163/10000 [16:35:20<36:21:48, 19.15s/it]"
     ]
    },
    {
     "name": "stdout",
     "output_type": "stream",
     "text": [
      "Skipping invalid sample: Q: Unable to generate a question., A: Unable to generate a response.\n"
     ]
    },
    {
     "name": "stderr",
     "output_type": "stream",
     "text": [
      "Generating samples:  32%|███▏      | 3174/10000 [16:39:02<31:37:22, 16.68s/it]"
     ]
    },
    {
     "name": "stdout",
     "output_type": "stream",
     "text": [
      "Skipping invalid sample: Q: Unable to generate a question., A: Unable to generate a response.\n"
     ]
    },
    {
     "name": "stderr",
     "output_type": "stream",
     "text": [
      "Generating samples:  32%|███▏      | 3180/10000 [16:40:42<28:44:01, 15.17s/it]"
     ]
    },
    {
     "name": "stdout",
     "output_type": "stream",
     "text": [
      "Skipping invalid sample: Q: Unable to generate a question., A: Unable to generate a response.\n"
     ]
    },
    {
     "name": "stderr",
     "output_type": "stream",
     "text": [
      "Generating samples:  32%|███▏      | 3200/10000 [16:47:46<41:52:16, 22.17s/it]"
     ]
    },
    {
     "name": "stdout",
     "output_type": "stream",
     "text": [
      "Generated 3200 samples...\n"
     ]
    },
    {
     "name": "stderr",
     "output_type": "stream",
     "text": [
      "Generating samples:  32%|███▏      | 3213/10000 [16:52:04<30:19:38, 16.09s/it]"
     ]
    },
    {
     "name": "stdout",
     "output_type": "stream",
     "text": [
      "Skipping invalid sample: Q: Unable to generate a question., A: Unable to generate a response.\n"
     ]
    },
    {
     "name": "stderr",
     "output_type": "stream",
     "text": [
      "Generating samples:  32%|███▏      | 3228/10000 [16:57:03<41:33:59, 22.10s/it]"
     ]
    },
    {
     "name": "stdout",
     "output_type": "stream",
     "text": [
      "Skipping invalid sample: Q: Unable to generate a question., A: Unable to generate a response.\n"
     ]
    },
    {
     "name": "stderr",
     "output_type": "stream",
     "text": [
      "Generating samples:  33%|███▎      | 3264/10000 [17:09:12<22:11:07, 11.86s/it]"
     ]
    },
    {
     "name": "stdout",
     "output_type": "stream",
     "text": [
      "Skipping invalid sample: Q: Unable to generate a question., A: Unable to generate a response.\n"
     ]
    },
    {
     "name": "stderr",
     "output_type": "stream",
     "text": [
      "Generating samples:  33%|███▎      | 3271/10000 [17:11:48<40:56:38, 21.90s/it]"
     ]
    },
    {
     "name": "stdout",
     "output_type": "stream",
     "text": [
      "Skipping invalid sample: Q: Unable to generate a question., A: Unable to generate a response.\n"
     ]
    },
    {
     "name": "stderr",
     "output_type": "stream",
     "text": [
      "Generating samples:  33%|███▎      | 3300/10000 [17:20:15<32:41:07, 17.56s/it]"
     ]
    },
    {
     "name": "stdout",
     "output_type": "stream",
     "text": [
      "Generated 3300 samples...\n"
     ]
    },
    {
     "name": "stderr",
     "output_type": "stream",
     "text": [
      "Generating samples:  33%|███▎      | 3317/10000 [17:25:54<29:57:40, 16.14s/it]"
     ]
    },
    {
     "name": "stdout",
     "output_type": "stream",
     "text": [
      "Skipping invalid sample: Q: Unable to generate a question., A: Unable to generate a response.\n"
     ]
    },
    {
     "name": "stderr",
     "output_type": "stream",
     "text": [
      "Generating samples:  34%|███▍      | 3400/10000 [17:55:18<38:17:38, 20.89s/it]"
     ]
    },
    {
     "name": "stdout",
     "output_type": "stream",
     "text": [
      "Generated 3400 samples...\n"
     ]
    },
    {
     "name": "stderr",
     "output_type": "stream",
     "text": [
      "Generating samples:  35%|███▍      | 3468/10000 [18:16:23<26:44:54, 14.74s/it]"
     ]
    },
    {
     "name": "stdout",
     "output_type": "stream",
     "text": [
      "Skipping invalid sample: Q: Unable to generate a question., A: Unable to generate a response.\n"
     ]
    },
    {
     "name": "stderr",
     "output_type": "stream",
     "text": [
      "Generating samples:  35%|███▍      | 3492/10000 [18:23:41<32:02:52, 17.73s/it]"
     ]
    },
    {
     "name": "stdout",
     "output_type": "stream",
     "text": [
      "Skipping invalid sample: Q: Unable to generate a question., A: Unable to generate a response.\n"
     ]
    },
    {
     "name": "stderr",
     "output_type": "stream",
     "text": [
      "Generating samples:  35%|███▌      | 3500/10000 [18:26:26<38:18:30, 21.22s/it]"
     ]
    },
    {
     "name": "stdout",
     "output_type": "stream",
     "text": [
      "Generated 3500 samples...\n"
     ]
    },
    {
     "name": "stderr",
     "output_type": "stream",
     "text": [
      "Generating samples:  35%|███▌      | 3519/10000 [18:32:31<26:07:51, 14.52s/it]"
     ]
    },
    {
     "name": "stdout",
     "output_type": "stream",
     "text": [
      "Skipping invalid sample: Q: Unable to generate a question., A: Unable to generate a response.\n"
     ]
    },
    {
     "name": "stderr",
     "output_type": "stream",
     "text": [
      "Generating samples:  35%|███▌      | 3533/10000 [18:37:38<36:20:04, 20.23s/it]"
     ]
    },
    {
     "name": "stdout",
     "output_type": "stream",
     "text": [
      "Skipping invalid sample: Q: Unable to generate a question., A: Unable to generate a response.\n"
     ]
    },
    {
     "name": "stderr",
     "output_type": "stream",
     "text": [
      "Generating samples:  36%|███▌      | 3600/10000 [18:58:47<32:16:17, 18.15s/it]"
     ]
    },
    {
     "name": "stdout",
     "output_type": "stream",
     "text": [
      "Generated 3600 samples...\n"
     ]
    },
    {
     "name": "stderr",
     "output_type": "stream",
     "text": [
      "Generating samples:  36%|███▌      | 3605/10000 [19:00:02<28:41:20, 16.15s/it]"
     ]
    },
    {
     "name": "stdout",
     "output_type": "stream",
     "text": [
      "Skipping invalid sample: Q: Unable to generate a question., A: Unable to generate a response.\n"
     ]
    },
    {
     "name": "stderr",
     "output_type": "stream",
     "text": [
      "Generating samples:  36%|███▌      | 3607/10000 [19:00:49<35:22:53, 19.92s/it]"
     ]
    },
    {
     "name": "stdout",
     "output_type": "stream",
     "text": [
      "Skipping invalid sample: Q: Unable to generate a question., A: Unable to generate a response.\n"
     ]
    },
    {
     "name": "stderr",
     "output_type": "stream",
     "text": [
      "Generating samples:  36%|███▌      | 3618/10000 [19:03:48<23:42:02, 13.37s/it]"
     ]
    },
    {
     "name": "stdout",
     "output_type": "stream",
     "text": [
      "Skipping invalid sample: Q: Unable to generate a question., A: Unable to generate a response.\n"
     ]
    },
    {
     "name": "stderr",
     "output_type": "stream",
     "text": [
      "Generating samples:  37%|███▋      | 3658/10000 [19:15:21<28:09:56, 15.99s/it]"
     ]
    },
    {
     "name": "stdout",
     "output_type": "stream",
     "text": [
      "Skipping invalid sample: Q: Unable to generate a question., A: Unable to generate a response.\n"
     ]
    },
    {
     "name": "stderr",
     "output_type": "stream",
     "text": [
      "Generating samples:  37%|███▋      | 3670/10000 [19:18:53<35:04:40, 19.95s/it]"
     ]
    },
    {
     "name": "stdout",
     "output_type": "stream",
     "text": [
      "Skipping invalid sample: Q: Unable to generate a question., A: Unable to generate a response.\n"
     ]
    },
    {
     "name": "stderr",
     "output_type": "stream",
     "text": [
      "Generating samples:  37%|███▋      | 3672/10000 [19:19:25<29:08:05, 16.57s/it]"
     ]
    },
    {
     "name": "stdout",
     "output_type": "stream",
     "text": [
      "Skipping invalid sample: Q: Unable to generate a question., A: Unable to generate a response.\n"
     ]
    },
    {
     "name": "stderr",
     "output_type": "stream",
     "text": [
      "Generating samples:  37%|███▋      | 3677/10000 [19:20:51<31:19:23, 17.83s/it]"
     ]
    },
    {
     "name": "stdout",
     "output_type": "stream",
     "text": [
      "Skipping invalid sample: Q: Unable to generate a question., A: Unable to generate a response.\n"
     ]
    },
    {
     "name": "stderr",
     "output_type": "stream",
     "text": [
      "Generating samples:  37%|███▋      | 3697/10000 [19:26:36<33:27:46, 19.11s/it]"
     ]
    },
    {
     "name": "stdout",
     "output_type": "stream",
     "text": [
      "Skipping invalid sample: Q: Unable to generate a question., A: Unable to generate a response.\n"
     ]
    },
    {
     "name": "stderr",
     "output_type": "stream",
     "text": [
      "Generating samples:  37%|███▋      | 3700/10000 [19:27:07<23:25:32, 13.39s/it]"
     ]
    },
    {
     "name": "stdout",
     "output_type": "stream",
     "text": [
      "Generated 3700 samples...\n"
     ]
    },
    {
     "name": "stderr",
     "output_type": "stream",
     "text": [
      "Generating samples:  37%|███▋      | 3730/10000 [19:34:57<25:23:15, 14.58s/it]"
     ]
    },
    {
     "name": "stdout",
     "output_type": "stream",
     "text": [
      "Skipping invalid sample: Q: Unable to generate a question., A: Unable to generate a response.\n"
     ]
    },
    {
     "name": "stderr",
     "output_type": "stream",
     "text": [
      "Generating samples:  38%|███▊      | 3761/10000 [19:45:01<33:18:24, 19.22s/it]"
     ]
    },
    {
     "name": "stdout",
     "output_type": "stream",
     "text": [
      "Skipping invalid sample: Q: Unable to generate a question., A: Unable to generate a response.\n"
     ]
    },
    {
     "name": "stderr",
     "output_type": "stream",
     "text": [
      "Generating samples:  38%|███▊      | 3765/10000 [19:46:37<37:27:26, 21.63s/it]"
     ]
    },
    {
     "name": "stdout",
     "output_type": "stream",
     "text": [
      "Skipping invalid sample: Q: Unable to generate a question., A: Unable to generate a response.\n"
     ]
    },
    {
     "name": "stderr",
     "output_type": "stream",
     "text": [
      "Generating samples:  38%|███▊      | 3784/10000 [19:52:36<23:45:13, 13.76s/it]"
     ]
    },
    {
     "name": "stdout",
     "output_type": "stream",
     "text": [
      "Skipping invalid sample: Q: Unable to generate a question., A: Unable to generate a response.\n"
     ]
    },
    {
     "name": "stderr",
     "output_type": "stream",
     "text": [
      "Generating samples:  38%|███▊      | 3800/10000 [19:57:43<38:41:43, 22.47s/it]"
     ]
    },
    {
     "name": "stdout",
     "output_type": "stream",
     "text": [
      "Generated 3800 samples...\n"
     ]
    },
    {
     "name": "stderr",
     "output_type": "stream",
     "text": [
      "Generating samples:  38%|███▊      | 3816/10000 [20:02:46<31:49:13, 18.52s/it]"
     ]
    },
    {
     "name": "stdout",
     "output_type": "stream",
     "text": [
      "Skipping invalid sample: Q: Unable to generate a question., A: Unable to generate a response.\n"
     ]
    },
    {
     "name": "stderr",
     "output_type": "stream",
     "text": [
      "Generating samples:  38%|███▊      | 3840/10000 [20:10:19<36:16:58, 21.20s/it]"
     ]
    },
    {
     "name": "stdout",
     "output_type": "stream",
     "text": [
      "Skipping invalid sample: Q: Unable to generate a question., A: Unable to generate a response.\n"
     ]
    },
    {
     "name": "stderr",
     "output_type": "stream",
     "text": [
      "Generating samples:  39%|███▊      | 3853/10000 [20:13:33<22:42:37, 13.30s/it]"
     ]
    },
    {
     "name": "stdout",
     "output_type": "stream",
     "text": [
      "Skipping invalid sample: Q: Unable to generate a question., A: Unable to generate a response.\n"
     ]
    },
    {
     "name": "stderr",
     "output_type": "stream",
     "text": [
      "Generating samples:  39%|███▊      | 3870/10000 [20:18:47<31:49:32, 18.69s/it]"
     ]
    },
    {
     "name": "stdout",
     "output_type": "stream",
     "text": [
      "Skipping invalid sample: Q: Unable to generate a question., A: Unable to generate a response.\n"
     ]
    },
    {
     "name": "stderr",
     "output_type": "stream",
     "text": [
      "Generating samples:  39%|███▉      | 3876/10000 [20:20:46<28:17:03, 16.63s/it]"
     ]
    },
    {
     "name": "stdout",
     "output_type": "stream",
     "text": [
      "Skipping invalid sample: Q: Unable to generate a question., A: Unable to generate a response.\n"
     ]
    },
    {
     "name": "stderr",
     "output_type": "stream",
     "text": [
      "Generating samples:  39%|███▉      | 3888/10000 [20:24:15<24:08:03, 14.22s/it]"
     ]
    },
    {
     "name": "stdout",
     "output_type": "stream",
     "text": [
      "Skipping invalid sample: Q: Unable to generate a question., A: Unable to generate a response.\n"
     ]
    },
    {
     "name": "stderr",
     "output_type": "stream",
     "text": [
      "Generating samples:  39%|███▉      | 3900/10000 [20:28:01<33:43:30, 19.90s/it]"
     ]
    },
    {
     "name": "stdout",
     "output_type": "stream",
     "text": [
      "Generated 3900 samples...\n"
     ]
    },
    {
     "name": "stderr",
     "output_type": "stream",
     "text": [
      "Generating samples:  39%|███▉      | 3902/10000 [20:28:46<36:11:10, 21.36s/it]"
     ]
    },
    {
     "name": "stdout",
     "output_type": "stream",
     "text": [
      "Skipping invalid sample: Q: Unable to generate a question., A: Unable to generate a response.\n"
     ]
    },
    {
     "name": "stderr",
     "output_type": "stream",
     "text": [
      "Generating samples:  39%|███▉      | 3920/10000 [20:35:16<34:13:32, 20.27s/it]"
     ]
    }
   ],
   "source": [
    "import PyPDF2\n",
    "import csv, re\n",
    "import random\n",
    "from tqdm import tqdm\n",
    "import time\n",
    "from transformers import AutoTokenizer\n",
    "from mlx_lm import load, generate\n",
    "import subprocess\n",
    "\n",
    "def run_command_with_live_output(command: list[str]) -> None:\n",
    "    process = subprocess.Popen(command, stdout=subprocess.PIPE, stderr=subprocess.PIPE, text=True)\n",
    "    while True:\n",
    "        output = process.stdout.readline()\n",
    "        if output == '' and process.poll() is not None:\n",
    "            break\n",
    "        if output:\n",
    "            print(output.strip())\n",
    "    err_output = process.stderr.read()\n",
    "    if err_output:\n",
    "        print(err_output)\n",
    "\n",
    "def extract_text_from_pdf(pdf_path):\n",
    "    print(\"Extracting text from PDF...\")\n",
    "    with open(pdf_path, 'rb') as file:\n",
    "        reader = PyPDF2.PdfReader(file)\n",
    "        text = \"\"\n",
    "        for page in tqdm(reader.pages, desc=\"Processing pages\"):\n",
    "            text += page.extract_text()\n",
    "    print(\"Text extraction completed\")\n",
    "    return text\n",
    "\n",
    "def create_chunks(text, min_chunk_size=200, max_chunk_size=1000):\n",
    "    print(\"Splitting text into chunks...\")\n",
    "    chunks = []\n",
    "    current_chunk = \"\"\n",
    "    sentences = text.split('.')\n",
    "    for sentence in tqdm(sentences, desc=\"Creating chunks\"):\n",
    "        if len(current_chunk) + len(sentence) > max_chunk_size and len(current_chunk) >= min_chunk_size:\n",
    "            chunks.append(current_chunk.strip())\n",
    "            current_chunk = sentence\n",
    "        else:\n",
    "            current_chunk += sentence + '.'\n",
    "    if current_chunk:\n",
    "        chunks.append(current_chunk.strip())\n",
    "    print(f\"Number of chunks created: {len(chunks)}\")\n",
    "    return chunks\n",
    "\n",
    "def load_model_and_tokenizer(model_path):\n",
    "    print(\"Loading model and tokenizer...\")\n",
    "    model, tokenizer = load(model_path)\n",
    "    return model, tokenizer\n",
    "\n",
    "def generate_question_response_pair(chunk, model, tokenizer, max_tokens=512):\n",
    "    instruction = \"\"\"\n",
    "    Based on the IMDG code, create a practical question and provide a detailed, informative answer. \n",
    "    All the questions should be based on the IMDG code.\n",
    "    Do not include any special markers like '**' or '<end_of_turn>'\n",
    "    Format your response as follows:\n",
    "    Question: [Your generated question]\n",
    "    Answer: [Your generated answer]\n",
    "\"\"\"\n",
    "\n",
    "    prompt = f'''<s>[INST] {instruction}\\n\\nText: {chunk} [/INST]\\n'''\n",
    "    \n",
    "    # generated_text = generate(model, tokenizer, prompt=prompt, max_tokens=max_tokens, verbose=False)\n",
    "\n",
    "    generated_text = generate(\n",
    "        model, \n",
    "        tokenizer, \n",
    "        prompt=prompt, \n",
    "        max_tokens=max_tokens, \n",
    "        temp=0.8,  # Value between 0.0 and 1.0, higher values produce more creative output\n",
    "        # top_k=50,         # Number of top tokens to consider\n",
    "        top_p=0.95,       # Select tokens until cumulative probability exceeds this value\n",
    "        verbose=False\n",
    "    )\n",
    "\n",
    "    generated_text = generated_text.replace(prompt, \"\").strip()\n",
    "    generated_text = re.sub(r'\\*\\*|<end_of_turn>', '', generated_text)\n",
    "    generated_text = re.sub(r'```', '', generated_text)\n",
    "    \n",
    "    question_start = generated_text.find(\"Question:\")\n",
    "    answer_start = generated_text.find(\"Answer:\")\n",
    "    \n",
    "    if question_start != -1 and answer_start != -1:\n",
    "        question = generated_text[question_start+9:answer_start].strip()\n",
    "        answer = generated_text[answer_start+7:].strip()\n",
    "    else:\n",
    "        question = \"Unable to generate a question.\"\n",
    "        answer = \"Unable to generate a response.\"\n",
    "    \n",
    "    return question, answer\n",
    "\n",
    "def create_fine_tuning_dataset(pdf_path, output_file, num_samples=10000):\n",
    "    start_time = time.time()\n",
    "    print(f\"Starting fine-tuning dataset creation (Target samples: {num_samples})\")\n",
    "\n",
    "    model_path = \"mlx-community/gemma-2-27b-it-4bit\"\n",
    "    model, tokenizer = load_model_and_tokenizer(model_path)\n",
    "    print(\"Model and tokenizer loaded\")\n",
    "\n",
    "    text = extract_text_from_pdf(pdf_path)\n",
    "    chunks = create_chunks(text)\n",
    "    \n",
    "    print(\"Generating question-response pairs and writing to CSV...\")\n",
    "    with open(output_file, 'w', newline='', encoding='utf-8') as csvfile:\n",
    "        writer = csv.writer(csvfile)\n",
    "        writer.writerow(['question', 'response'])\n",
    "        \n",
    "        for _ in tqdm(range(num_samples), desc=\"Generating samples\"):\n",
    "            chunk = random.choice(chunks)\n",
    "            question, response = generate_question_response_pair(chunk, model, tokenizer)\n",
    "            if question != \"Unable to generate a question.\" and response != \"Unable to generate a response.\":\n",
    "                writer.writerow([question, response])\n",
    "            else:\n",
    "                print(f\"Skipping invalid sample: Q: {question}, A: {response}\")\n",
    "            if (_ + 1) % 100 == 0:\n",
    "                print(f\"Generated {_ + 1} samples...\")\n",
    "    \n",
    "    end_time = time.time()\n",
    "    print(f\"Number of dataset samples generated: {num_samples}\")\n",
    "    print(f\"Total time taken: {end_time - start_time:.2f} seconds\")\n",
    "\n",
    "# Usage example\n",
    "pdf_path = \"./data/IMDG.pdf\"\n",
    "output_file = \"./data/IMDG.csv\"\n",
    "create_fine_tuning_dataset(pdf_path, output_file, num_samples=10000)"
   ]
  },
  {
   "cell_type": "markdown",
   "metadata": {},
   "source": [
    "## 4. Building dataframe"
   ]
  },
  {
   "cell_type": "code",
   "execution_count": 1,
   "metadata": {},
   "outputs": [
    {
     "data": {
      "text/html": [
       "<div>\n",
       "<style scoped>\n",
       "    .dataframe tbody tr th:only-of-type {\n",
       "        vertical-align: middle;\n",
       "    }\n",
       "\n",
       "    .dataframe tbody tr th {\n",
       "        vertical-align: top;\n",
       "    }\n",
       "\n",
       "    .dataframe thead th {\n",
       "        text-align: right;\n",
       "    }\n",
       "</style>\n",
       "<table border=\"1\" class=\"dataframe\">\n",
       "  <thead>\n",
       "    <tr style=\"text-align: right;\">\n",
       "      <th></th>\n",
       "      <th>system_prompt</th>\n",
       "      <th>question</th>\n",
       "      <th>response</th>\n",
       "    </tr>\n",
       "  </thead>\n",
       "  <tbody>\n",
       "    <tr>\n",
       "      <th>0</th>\n",
       "      <td>You are an IMDG Code specialist with a deep un...</td>\n",
       "      <td>According to the IMDG code, how should a subst...</td>\n",
       "      <td>Category A toxins are assigned to UN number 34...</td>\n",
       "    </tr>\n",
       "    <tr>\n",
       "      <th>1</th>\n",
       "      <td>You are an IMDG Code specialist with a deep un...</td>\n",
       "      <td>What are the specific packaging requirements f...</td>\n",
       "      <td>Paragraph P600 of the IMDG Code outlines speci...</td>\n",
       "    </tr>\n",
       "    <tr>\n",
       "      <th>2</th>\n",
       "      <td>You are an IMDG Code specialist with a deep un...</td>\n",
       "      <td>A cargo transport unit contains both dangerous...</td>\n",
       "      <td>Yes, you would need to placard the cargo trans...</td>\n",
       "    </tr>\n",
       "    <tr>\n",
       "      <th>3</th>\n",
       "      <td>You are an IMDG Code specialist with a deep un...</td>\n",
       "      <td>Based on the IMDG Code information provided fo...</td>\n",
       "      <td>According to the IMDG Code excerpt, Nickel Car...</td>\n",
       "    </tr>\n",
       "    <tr>\n",
       "      <th>4</th>\n",
       "      <td>You are an IMDG Code specialist with a deep un...</td>\n",
       "      <td>A shipment of silvery-white, ductile, soft met...</td>\n",
       "      <td>This material aligns with the descriptions pro...</td>\n",
       "    </tr>\n",
       "    <tr>\n",
       "      <th>...</th>\n",
       "      <td>...</td>\n",
       "      <td>...</td>\n",
       "      <td>...</td>\n",
       "    </tr>\n",
       "    <tr>\n",
       "      <th>3988</th>\n",
       "      <td>You are an IMDG Code specialist with a deep un...</td>\n",
       "      <td>According to the IMDG Code, what are the regul...</td>\n",
       "      <td>The IMDG Code stipulates that placards indicat...</td>\n",
       "    </tr>\n",
       "    <tr>\n",
       "      <th>3989</th>\n",
       "      <td>You are an IMDG Code specialist with a deep un...</td>\n",
       "      <td>A chemical shipment labeled \"SG49\" is declared...</td>\n",
       "      <td>Given the hazardous nature of the \"SG49\" corro...</td>\n",
       "    </tr>\n",
       "    <tr>\n",
       "      <th>3990</th>\n",
       "      <td>You are an IMDG Code specialist with a deep un...</td>\n",
       "      <td>A mixture contains two toxic components: Subst...</td>\n",
       "      <td>To determine the packing group, we need to cal...</td>\n",
       "    </tr>\n",
       "    <tr>\n",
       "      <th>3991</th>\n",
       "      <td>You are an IMDG Code specialist with a deep un...</td>\n",
       "      <td>A package design incorporates a single waterti...</td>\n",
       "      <td>No, we cannot assume that water will not leak ...</td>\n",
       "    </tr>\n",
       "    <tr>\n",
       "      <th>3992</th>\n",
       "      <td>You are an IMDG Code specialist with a deep un...</td>\n",
       "      <td>I am packaging a hazardous liquid in a flexibl...</td>\n",
       "      <td>When transporting a hazardous liquid in an FIB...</td>\n",
       "    </tr>\n",
       "  </tbody>\n",
       "</table>\n",
       "<p>3993 rows × 3 columns</p>\n",
       "</div>"
      ],
      "text/plain": [
       "                                          system_prompt  \\\n",
       "0     You are an IMDG Code specialist with a deep un...   \n",
       "1     You are an IMDG Code specialist with a deep un...   \n",
       "2     You are an IMDG Code specialist with a deep un...   \n",
       "3     You are an IMDG Code specialist with a deep un...   \n",
       "4     You are an IMDG Code specialist with a deep un...   \n",
       "...                                                 ...   \n",
       "3988  You are an IMDG Code specialist with a deep un...   \n",
       "3989  You are an IMDG Code specialist with a deep un...   \n",
       "3990  You are an IMDG Code specialist with a deep un...   \n",
       "3991  You are an IMDG Code specialist with a deep un...   \n",
       "3992  You are an IMDG Code specialist with a deep un...   \n",
       "\n",
       "                                               question  \\\n",
       "0     According to the IMDG code, how should a subst...   \n",
       "1     What are the specific packaging requirements f...   \n",
       "2     A cargo transport unit contains both dangerous...   \n",
       "3     Based on the IMDG Code information provided fo...   \n",
       "4     A shipment of silvery-white, ductile, soft met...   \n",
       "...                                                 ...   \n",
       "3988  According to the IMDG Code, what are the regul...   \n",
       "3989  A chemical shipment labeled \"SG49\" is declared...   \n",
       "3990  A mixture contains two toxic components: Subst...   \n",
       "3991  A package design incorporates a single waterti...   \n",
       "3992  I am packaging a hazardous liquid in a flexibl...   \n",
       "\n",
       "                                               response  \n",
       "0     Category A toxins are assigned to UN number 34...  \n",
       "1     Paragraph P600 of the IMDG Code outlines speci...  \n",
       "2     Yes, you would need to placard the cargo trans...  \n",
       "3     According to the IMDG Code excerpt, Nickel Car...  \n",
       "4     This material aligns with the descriptions pro...  \n",
       "...                                                 ...  \n",
       "3988  The IMDG Code stipulates that placards indicat...  \n",
       "3989  Given the hazardous nature of the \"SG49\" corro...  \n",
       "3990  To determine the packing group, we need to cal...  \n",
       "3991  No, we cannot assume that water will not leak ...  \n",
       "3992  When transporting a hazardous liquid in an FIB...  \n",
       "\n",
       "[3993 rows x 3 columns]"
      ]
     },
     "execution_count": 1,
     "metadata": {},
     "output_type": "execute_result"
    }
   ],
   "source": [
    "import csv\n",
    "import random\n",
    "import json\n",
    "import pandas as pd\n",
    "\n",
    "# load the dataset\n",
    "dataset = pd.read_csv(\"./data/IMDG.csv\")\n",
    "\n",
    "system_prompt = \"\"\"\n",
    "    You are an IMDG Code specialist with a deep understanding of the International Maritime Dangerous Goods (IMDG) Code. Your task is to provide detailed and accurate information in response to user questions about IMDG code.\n",
    "\n",
    "    Guidelines for answering:\n",
    "    1. Present information in a clear, concise, and easily understandable manner, using bullet points for organization.\n",
    "    2. For questions about specific UN Numbers:\n",
    "       - Provide details on: UN No., Proper Shipping Name, Class, Subsidiary hazard, Packing Group, Special Provisions, Limited Quantity, Excepted Quantity, Packing Instructions, Stowage and handling, Segregation, and Properties and observations.\n",
    "       - If this information is not in the provided context, state that you need to refer to the official IMDG Code for accurate details.\n",
    "    3. Respond in the language of the user's question. If unable to determine the language, default to English.\n",
    "    4. If you don't know the answer or if the information is not in the provided context, clearly state \"I don't have enough information to answer this question accurately. Please refer to the official IMDG Code or consult with an IMDG expert for the most up-to-date and accurate information.\"\n",
    "    5. End each response with '–IMDGGenie'\n",
    "\"\"\"\n",
    "\n",
    "dataset[\"system_prompt\"] = system_prompt\n",
    "dataset[\"system_prompt\"] = dataset[\"system_prompt\"].str.strip()\n",
    "dataset = dataset[[\"system_prompt\", \"question\", \"response\"]]\n",
    "dataset"
   ]
  },
  {
   "cell_type": "code",
   "execution_count": 2,
   "metadata": {},
   "outputs": [
    {
     "name": "stdout",
     "output_type": "stream",
     "text": [
      "Number of rows with the specified question and response: 0\n"
     ]
    }
   ],
   "source": [
    "# Count records for Unable to generate a question & Unable to generate a response\n",
    "filtered_df = dataset[\n",
    "    (dataset[\"question\"] == \"Unable to generate a question.\") & \n",
    "    (dataset[\"response\"] == \"Unable to generate a response.\")\n",
    "]\n",
    "\n",
    "count = filtered_df.shape[0]\n",
    "print(f\"Number of rows with the specified question and response: {count}\")"
   ]
  },
  {
   "cell_type": "code",
   "execution_count": 3,
   "metadata": {},
   "outputs": [
    {
     "name": "stdout",
     "output_type": "stream",
     "text": [
      "Number of rows with the same question and response: 0\n"
     ]
    }
   ],
   "source": [
    "# Count records for duplicated question and response\n",
    "filtered_df = dataset[\n",
    "    dataset.duplicated(subset=[\"question\", \"response\"], keep=False)\n",
    "]\n",
    "\n",
    "count = filtered_df.shape[0]\n",
    "print(f\"Number of rows with the same question and response: {count}\")"
   ]
  },
  {
   "cell_type": "code",
   "execution_count": 4,
   "metadata": {},
   "outputs": [
    {
     "data": {
      "text/html": [
       "<div>\n",
       "<style scoped>\n",
       "    .dataframe tbody tr th:only-of-type {\n",
       "        vertical-align: middle;\n",
       "    }\n",
       "\n",
       "    .dataframe tbody tr th {\n",
       "        vertical-align: top;\n",
       "    }\n",
       "\n",
       "    .dataframe thead th {\n",
       "        text-align: right;\n",
       "    }\n",
       "</style>\n",
       "<table border=\"1\" class=\"dataframe\">\n",
       "  <thead>\n",
       "    <tr style=\"text-align: right;\">\n",
       "      <th></th>\n",
       "      <th>system_prompt</th>\n",
       "      <th>question</th>\n",
       "      <th>response</th>\n",
       "    </tr>\n",
       "  </thead>\n",
       "  <tbody>\n",
       "    <tr>\n",
       "      <th>0</th>\n",
       "      <td>You are an IMDG Code specialist with a deep un...</td>\n",
       "      <td>According to the IMDG code, how should a subst...</td>\n",
       "      <td>Category A toxins are assigned to UN number 34...</td>\n",
       "    </tr>\n",
       "    <tr>\n",
       "      <th>1</th>\n",
       "      <td>You are an IMDG Code specialist with a deep un...</td>\n",
       "      <td>What are the specific packaging requirements f...</td>\n",
       "      <td>Paragraph P600 of the IMDG Code outlines speci...</td>\n",
       "    </tr>\n",
       "    <tr>\n",
       "      <th>2</th>\n",
       "      <td>You are an IMDG Code specialist with a deep un...</td>\n",
       "      <td>A cargo transport unit contains both dangerous...</td>\n",
       "      <td>Yes, you would need to placard the cargo trans...</td>\n",
       "    </tr>\n",
       "    <tr>\n",
       "      <th>3</th>\n",
       "      <td>You are an IMDG Code specialist with a deep un...</td>\n",
       "      <td>Based on the IMDG Code information provided fo...</td>\n",
       "      <td>According to the IMDG Code excerpt, Nickel Car...</td>\n",
       "    </tr>\n",
       "    <tr>\n",
       "      <th>4</th>\n",
       "      <td>You are an IMDG Code specialist with a deep un...</td>\n",
       "      <td>A shipment of silvery-white, ductile, soft met...</td>\n",
       "      <td>This material aligns with the descriptions pro...</td>\n",
       "    </tr>\n",
       "    <tr>\n",
       "      <th>...</th>\n",
       "      <td>...</td>\n",
       "      <td>...</td>\n",
       "      <td>...</td>\n",
       "    </tr>\n",
       "    <tr>\n",
       "      <th>3988</th>\n",
       "      <td>You are an IMDG Code specialist with a deep un...</td>\n",
       "      <td>According to the IMDG Code, what are the regul...</td>\n",
       "      <td>The IMDG Code stipulates that placards indicat...</td>\n",
       "    </tr>\n",
       "    <tr>\n",
       "      <th>3989</th>\n",
       "      <td>You are an IMDG Code specialist with a deep un...</td>\n",
       "      <td>A chemical shipment labeled \"SG49\" is declared...</td>\n",
       "      <td>Given the hazardous nature of the \"SG49\" corro...</td>\n",
       "    </tr>\n",
       "    <tr>\n",
       "      <th>3990</th>\n",
       "      <td>You are an IMDG Code specialist with a deep un...</td>\n",
       "      <td>A mixture contains two toxic components: Subst...</td>\n",
       "      <td>To determine the packing group, we need to cal...</td>\n",
       "    </tr>\n",
       "    <tr>\n",
       "      <th>3991</th>\n",
       "      <td>You are an IMDG Code specialist with a deep un...</td>\n",
       "      <td>A package design incorporates a single waterti...</td>\n",
       "      <td>No, we cannot assume that water will not leak ...</td>\n",
       "    </tr>\n",
       "    <tr>\n",
       "      <th>3992</th>\n",
       "      <td>You are an IMDG Code specialist with a deep un...</td>\n",
       "      <td>I am packaging a hazardous liquid in a flexibl...</td>\n",
       "      <td>When transporting a hazardous liquid in an FIB...</td>\n",
       "    </tr>\n",
       "  </tbody>\n",
       "</table>\n",
       "<p>3993 rows × 3 columns</p>\n",
       "</div>"
      ],
      "text/plain": [
       "                                          system_prompt  \\\n",
       "0     You are an IMDG Code specialist with a deep un...   \n",
       "1     You are an IMDG Code specialist with a deep un...   \n",
       "2     You are an IMDG Code specialist with a deep un...   \n",
       "3     You are an IMDG Code specialist with a deep un...   \n",
       "4     You are an IMDG Code specialist with a deep un...   \n",
       "...                                                 ...   \n",
       "3988  You are an IMDG Code specialist with a deep un...   \n",
       "3989  You are an IMDG Code specialist with a deep un...   \n",
       "3990  You are an IMDG Code specialist with a deep un...   \n",
       "3991  You are an IMDG Code specialist with a deep un...   \n",
       "3992  You are an IMDG Code specialist with a deep un...   \n",
       "\n",
       "                                               question  \\\n",
       "0     According to the IMDG code, how should a subst...   \n",
       "1     What are the specific packaging requirements f...   \n",
       "2     A cargo transport unit contains both dangerous...   \n",
       "3     Based on the IMDG Code information provided fo...   \n",
       "4     A shipment of silvery-white, ductile, soft met...   \n",
       "...                                                 ...   \n",
       "3988  According to the IMDG Code, what are the regul...   \n",
       "3989  A chemical shipment labeled \"SG49\" is declared...   \n",
       "3990  A mixture contains two toxic components: Subst...   \n",
       "3991  A package design incorporates a single waterti...   \n",
       "3992  I am packaging a hazardous liquid in a flexibl...   \n",
       "\n",
       "                                               response  \n",
       "0     Category A toxins are assigned to UN number 34...  \n",
       "1     Paragraph P600 of the IMDG Code outlines speci...  \n",
       "2     Yes, you would need to placard the cargo trans...  \n",
       "3     According to the IMDG Code excerpt, Nickel Car...  \n",
       "4     This material aligns with the descriptions pro...  \n",
       "...                                                 ...  \n",
       "3988  The IMDG Code stipulates that placards indicat...  \n",
       "3989  Given the hazardous nature of the \"SG49\" corro...  \n",
       "3990  To determine the packing group, we need to cal...  \n",
       "3991  No, we cannot assume that water will not leak ...  \n",
       "3992  When transporting a hazardous liquid in an FIB...  \n",
       "\n",
       "[3993 rows x 3 columns]"
      ]
     },
     "execution_count": 4,
     "metadata": {},
     "output_type": "execute_result"
    }
   ],
   "source": [
    "# Drop duplicates\n",
    "df = dataset.drop_duplicates(subset=[\"question\", \"response\"])\n",
    "df"
   ]
  },
  {
   "cell_type": "code",
   "execution_count": 5,
   "metadata": {},
   "outputs": [
    {
     "name": "stdout",
     "output_type": "stream",
     "text": [
      "<bos><start_of_turn>user\n",
      "## Instructions\n",
      "You are an IMDG Code specialist with a deep understanding of the International Maritime Dangerous Goods (IMDG) Code. Your task is to provide detailed and accurate information in response to user questions about IMDG code.\n",
      "\n",
      "    Guidelines for answering:\n",
      "    1. Present information in a clear, concise, and easily understandable manner, using bullet points for organization.\n",
      "    2. For questions about specific UN Numbers:\n",
      "       - Provide details on: UN No., Proper Shipping Name, Class, Subsidiary hazard, Packing Group, Special Provisions, Limited Quantity, Excepted Quantity, Packing Instructions, Stowage and handling, Segregation, and Properties and observations.\n",
      "       - If this information is not in the provided context, state that you need to refer to the official IMDG Code for accurate details.\n",
      "    3. Respond in the language of the user's question. If unable to determine the language, default to English.\n",
      "    4. If you don't know the answer or if the information is not in the provided context, clearly state \"I don't have enough information to answer this question accurately. Please refer to the official IMDG Code or consult with an IMDG expert for the most up-to-date and accurate information.\"\n",
      "    5. End each response with '–IMDGGenie'\n",
      "## User\n",
      "A Type B(U) package design is being developed for transporting uranium hexafluoride. What type of approval is required, and from whom?<end_of_turn>\n",
      "<start_of_turn>model\n",
      "Since the Type B(U) package design will contain uranium hexafluoride, which is a radioactive material requiring specific handling, it will need multilateral approval. This means the approval must be obtained from multiple competent authorities, not just the country of origin. The IMDG code outlines this requirement due to the potential hazards associated with uranium hexafluoride and the need for international consensus on its safe transportation.<end_of_turn>\n"
     ]
    }
   ],
   "source": [
    "# Transform Gemma prompt template (https://ai.google.dev/gemma/docs/formatting)\n",
    "# {\"text\": \"<bos><start_of_turn>user\\nWhat is the capital of France?<end_of_turn>\\n<start_of_turn>model\\nParis is the capital of France.<end_of_turn><eos>\"}\n",
    "\n",
    "def generate_prompt(row: pd.Series) -> str:\n",
    "    \"Format to Gemma's chat template\"\n",
    "    return \"\"\"<bos><start_of_turn>user\n",
    "## Instructions\n",
    "{}\n",
    "## User\n",
    "{}<end_of_turn>\n",
    "<start_of_turn>model\n",
    "{}<end_of_turn>\"\"\".format(row[\"system_prompt\"], row[\"question\"], row[\"response\"])\n",
    "\n",
    "\n",
    "df[\"text\"] = df.apply(generate_prompt, axis=1)\n",
    "print(df[\"text\"].iloc[100])"
   ]
  },
  {
   "cell_type": "code",
   "execution_count": 6,
   "metadata": {},
   "outputs": [
    {
     "name": "stdout",
     "output_type": "stream",
     "text": [
      "{\"text\":\"<bos><start_of_turn>user\\n## Instructions\\nYou are an IMDG Code specialist with a deep understanding of the International Maritime Dangerous Goods (IMDG) Code. Your task is to provide detailed and accurate information in response to user questions about IMDG code.\\n\\n    Guidelines for answering:\\n    1. Present information in a clear, concise, and easily understandable manner, using bullet points for organization.\\n    2. For questions about specific UN Numbers:\\n       - Provide details on: UN No., Proper Shipping Name, Class, Subsidiary hazard, Packing Group, Special Provisions, Limited Quantity, Excepted Quantity, Packing Instructions, Stowage and handling, Segregation, and Properties and observations.\\n       - If this information is not in the provided context, state that you need to refer to the official IMDG Code for accurate details.\\n    3. Respond in the language of the user's question. If unable to determine the language, default to English.\\n    4. If you don't know the answer or if the information is not in the provided context, clearly state \\\"I don't have enough information to answer this question accurately. Please refer to the official IMDG Code or consult with an IMDG expert for the most up-to-date and accurate information.\\\"\\n    5. End each response with '–IMDGGenie'\\n## User\\nA shipment of articles labelled \\\"ARTICLES, EXPLOSIVE, N.O.S., 1.2E\\\" is being prepared for transport. What information can be gleaned from the label and what additional information is crucial to ensure safe handling and transport?<end_of_turn>\\n<start_of_turn>model\\nThe label \\\"ARTICLES, EXPLOSIVE, N.O.S., 1.2E\\\" provides several key pieces of information according to the IMDG Code. Firstly, \\\"ARTICLES, EXPLOSIVE, N.O.S.\\\" indicates that the shipment contains explosive articles, not packaged explosives. The \\\"N.O.S.\\\" stands for \\\"Not Otherwise Specified,\\\" meaning the specific explosive substance within the articles is not individually identified.  Secondly, \\\"1.2E\\\" refers to the UN Hazard Class and Division.  \\n\\nClass 1 designates explosives, and Division 1.2 specifically denotes articles containing an explosive substance that, when ignited, detonate  with a large amount of energy but are relatively insensitive to shock and friction.\\n\\nTo ensure safe handling and transport, several additional pieces of information are crucial:\\n\\n* UN Number: While the label provides the Hazard Class and Division, the specific UN number for the explosive articles is essential. This number allows for precise identification of the hazards associated with the articles.\\n\\n* Proper Shipping Name: The proper shipping name, which should be included on the transport documents, provides a detailed description of the explosive articles.\\n\\n* Net Explosive Mass per Package: This information is vital for determining the quantity of explosive material being transported and for complying with regulatory limitations on the amount of explosives allowed per package or transport unit.\\n\\n* Compatibility Group: The compatibility group, also found on the transport documents, indicates the articles' reactivity and compatibility with other substances. This information is crucial for segregating incompatible cargo during transport.\\n\\n* Special Provisions: The IMDG Code may contain specific provisions or instructions related to the transportation of the particular explosive articles. These provisions should be carefully reviewed and adhered to.\\n\\nBy obtaining and considering all this information, personnel involved in handling and transporting the explosive articles can ensure a safe and compliant operation.<end_of_turn>\"}\n"
     ]
    }
   ],
   "source": [
    "# Split dataset to train and valid \n",
    "\n",
    "from pathlib import Path\n",
    "\n",
    "Path(\"data\").mkdir(exist_ok=True)\n",
    "\n",
    "split_ix = int(len(df) * 0.9)\n",
    "# shuffle data\n",
    "data = df.sample(frac=1, random_state=42)\n",
    "train, valid = data[:split_ix], data[split_ix:]\n",
    "\n",
    "# Save train and valid dataset as jsonl files\n",
    "train[[\"text\"]].to_json(\"data/train.jsonl\", orient=\"records\", lines=True, force_ascii=False)\n",
    "valid[[\"text\"]].to_json(\"data/valid.jsonl\", orient=\"records\", lines=True, force_ascii=False)\n",
    "\n",
    "!head -n 1 data/train.jsonl"
   ]
  },
  {
   "cell_type": "markdown",
   "metadata": {},
   "source": [
    "## 5. LoRA fine-tuning"
   ]
  },
  {
   "cell_type": "code",
   "execution_count": 7,
   "metadata": {},
   "outputs": [
    {
     "name": "stdout",
     "output_type": "stream",
     "text": [
      "usage: lora.py [-h] [--model MODEL] [--train] [--data DATA]\n",
      "               [--lora-layers LORA_LAYERS] [--batch-size BATCH_SIZE]\n",
      "               [--iters ITERS] [--val-batches VAL_BATCHES]\n",
      "               [--learning-rate LEARNING_RATE]\n",
      "               [--steps-per-report STEPS_PER_REPORT]\n",
      "               [--steps-per-eval STEPS_PER_EVAL]\n",
      "               [--resume-adapter-file RESUME_ADAPTER_FILE]\n",
      "               [--adapter-path ADAPTER_PATH] [--save-every SAVE_EVERY]\n",
      "               [--test] [--test-batches TEST_BATCHES]\n",
      "               [--max-seq-length MAX_SEQ_LENGTH] [-c CONFIG]\n",
      "               [--grad-checkpoint] [--seed SEED] [--use-dora]\n",
      "\n",
      "LoRA or QLoRA finetuning.\n",
      "\n",
      "options:\n",
      "  -h, --help            show this help message and exit\n",
      "  --model MODEL         The path to the local model directory or Hugging Face\n",
      "                        repo.\n",
      "  --train               Do training\n",
      "  --data DATA           Directory with {train, valid, test}.jsonl files\n",
      "  --lora-layers LORA_LAYERS\n",
      "                        Number of layers to fine-tune. Default is 16, use -1\n",
      "                        for all.\n",
      "  --batch-size BATCH_SIZE\n",
      "                        Minibatch size.\n",
      "  --iters ITERS         Iterations to train for.\n",
      "  --val-batches VAL_BATCHES\n",
      "                        Number of validation batches, -1 uses the entire\n",
      "                        validation set.\n",
      "  --learning-rate LEARNING_RATE\n",
      "                        Adam learning rate.\n",
      "  --steps-per-report STEPS_PER_REPORT\n",
      "                        Number of training steps between loss reporting.\n",
      "  --steps-per-eval STEPS_PER_EVAL\n",
      "                        Number of training steps between validations.\n",
      "  --resume-adapter-file RESUME_ADAPTER_FILE\n",
      "                        Load path to resume training with the given adapters.\n",
      "  --adapter-path ADAPTER_PATH\n",
      "                        Save/load path for the adapters.\n",
      "  --save-every SAVE_EVERY\n",
      "                        Save the model every N iterations.\n",
      "  --test                Evaluate on the test set after training\n",
      "  --test-batches TEST_BATCHES\n",
      "                        Number of test set batches, -1 uses the entire test\n",
      "                        set.\n",
      "  --max-seq-length MAX_SEQ_LENGTH\n",
      "                        Maximum sequence length.\n",
      "  -c CONFIG, --config CONFIG\n",
      "                        A YAML configuration file with the training options\n",
      "  --grad-checkpoint     Use gradient checkpointing to reduce memory use.\n",
      "  --seed SEED           The PRNG seed\n",
      "  --use-dora            Use DoRA to finetune.\n"
     ]
    }
   ],
   "source": [
    "!python -m mlx_lm.lora --help"
   ]
  },
  {
   "cell_type": "code",
   "execution_count": 8,
   "metadata": {},
   "outputs": [],
   "source": [
    "import os\n",
    "os.environ[\"TOKENIZERS_PARALLELISM\"] = \"false\""
   ]
  },
  {
   "cell_type": "code",
   "execution_count": 9,
   "metadata": {},
   "outputs": [
    {
     "name": "stdout",
     "output_type": "stream",
     "text": [
      "Loading pretrained model\n",
      "Fetching 9 files: 100%|████████████████████████| 9/9 [00:00<00:00, 77672.30it/s]\n",
      "Loading datasets\n",
      "Training\n",
      "Trainable parameters: 0.007% (1.966M/27227.128M)\n",
      "Starting training..., iters: 500\n",
      "Iter 1: Val loss 2.061, Val took 400.467s\n",
      "Iter 10: Val loss 1.522, Val took 398.144s\n",
      "Iter 10: Train loss 1.815, Learning Rate 1.000e-05, It/sec 0.486, Tokens/sec 885.188, Trained Tokens 18218, Peak mem 58.444 GB\n",
      "Iter 20: Val loss 1.172, Val took 415.262s\n",
      "Iter 20: Train loss 1.326, Learning Rate 1.000e-05, It/sec 0.232, Tokens/sec 491.767, Trained Tokens 39452, Peak mem 60.797 GB\n",
      "Iter 30: Val loss 0.811, Val took 407.030s\n",
      "Iter 30: Train loss 0.924, Learning Rate 1.000e-05, It/sec 0.429, Tokens/sec 821.017, Trained Tokens 58606, Peak mem 60.797 GB\n",
      "Iter 40: Val loss 0.578, Val took 402.604s\n",
      "Iter 40: Train loss 0.682, Learning Rate 1.000e-05, It/sec 0.460, Tokens/sec 918.351, Trained Tokens 78561, Peak mem 60.797 GB\n",
      "Iter 50: Val loss 0.535, Val took 396.426s\n",
      "Iter 50: Train loss 0.539, Learning Rate 1.000e-05, It/sec 0.526, Tokens/sec 1014.210, Trained Tokens 97825, Peak mem 60.797 GB\n",
      "Iter 60: Val loss 0.511, Val took 389.623s\n",
      "Iter 60: Train loss 0.518, Learning Rate 1.000e-05, It/sec 0.281, Tokens/sec 532.737, Trained Tokens 116762, Peak mem 60.797 GB\n",
      "Iter 70: Val loss 0.516, Val took 396.893s\n",
      "Iter 70: Train loss 0.513, Learning Rate 1.000e-05, It/sec 0.476, Tokens/sec 880.573, Trained Tokens 135266, Peak mem 60.797 GB\n",
      "Iter 80: Val loss 0.523, Val took 424.653s\n",
      "Iter 80: Train loss 0.480, Learning Rate 1.000e-05, It/sec 0.372, Tokens/sec 716.360, Trained Tokens 154514, Peak mem 60.797 GB\n",
      "Iter 90: Val loss 0.494, Val took 411.034s\n",
      "Iter 90: Train loss 0.440, Learning Rate 1.000e-05, It/sec 0.378, Tokens/sec 625.038, Trained Tokens 171064, Peak mem 60.797 GB\n",
      "Iter 100: Val loss 0.520, Val took 402.655s\n",
      "Iter 100: Train loss 0.508, Learning Rate 1.000e-05, It/sec 0.506, Tokens/sec 1090.032, Trained Tokens 192615, Peak mem 60.797 GB\n",
      "Iter 100: Saved adapter weights to checkpoints/adapters/adapters.safetensors and checkpoints/adapters/0000100_adapters.safetensors.\n",
      "Iter 110: Val loss 0.488, Val took 398.262s\n",
      "Iter 110: Train loss 0.503, Learning Rate 1.000e-05, It/sec 0.256, Tokens/sec 520.576, Trained Tokens 212951, Peak mem 60.797 GB\n",
      "Iter 120: Val loss 0.518, Val took 431.614s\n",
      "Iter 120: Train loss 0.561, Learning Rate 1.000e-05, It/sec 0.385, Tokens/sec 796.101, Trained Tokens 233628, Peak mem 61.231 GB\n",
      "Iter 130: Val loss 0.487, Val took 408.103s\n",
      "Iter 130: Train loss 0.417, Learning Rate 1.000e-05, It/sec 0.640, Tokens/sec 1117.423, Trained Tokens 251087, Peak mem 61.231 GB\n",
      "Iter 140: Val loss 0.478, Val took 411.051s\n",
      "Iter 140: Train loss 0.459, Learning Rate 1.000e-05, It/sec 0.445, Tokens/sec 872.407, Trained Tokens 270700, Peak mem 61.231 GB\n",
      "Iter 150: Val loss 0.481, Val took 396.462s\n",
      "Iter 150: Train loss 0.421, Learning Rate 1.000e-05, It/sec 0.453, Tokens/sec 851.422, Trained Tokens 289492, Peak mem 61.231 GB\n",
      "Iter 160: Val loss 0.466, Val took 385.855s\n",
      "Iter 160: Train loss 0.487, Learning Rate 1.000e-05, It/sec 0.416, Tokens/sec 908.958, Trained Tokens 311339, Peak mem 61.809 GB\n",
      "Iter 170: Val loss 0.468, Val took 418.028s\n",
      "Iter 170: Train loss 0.479, Learning Rate 1.000e-05, It/sec 0.429, Tokens/sec 790.906, Trained Tokens 329775, Peak mem 61.809 GB\n",
      "Iter 180: Val loss 0.466, Val took 410.887s\n",
      "Iter 180: Train loss 0.412, Learning Rate 1.000e-05, It/sec 0.356, Tokens/sec 628.485, Trained Tokens 347440, Peak mem 61.809 GB\n",
      "Iter 190: Val loss 0.484, Val took 410.876s\n",
      "Iter 190: Train loss 0.486, Learning Rate 1.000e-05, It/sec 0.431, Tokens/sec 882.175, Trained Tokens 367925, Peak mem 61.809 GB\n",
      "Iter 200: Val loss 0.483, Val took 405.786s\n",
      "Iter 200: Train loss 0.442, Learning Rate 1.000e-05, It/sec 0.496, Tokens/sec 911.243, Trained Tokens 386309, Peak mem 61.809 GB\n",
      "Iter 200: Saved adapter weights to checkpoints/adapters/adapters.safetensors and checkpoints/adapters/0000200_adapters.safetensors.\n",
      "Iter 210: Val loss 0.465, Val took 396.495s\n",
      "Iter 210: Train loss 0.467, Learning Rate 1.000e-05, It/sec 0.570, Tokens/sec 1070.967, Trained Tokens 405093, Peak mem 61.809 GB\n",
      "Iter 220: Val loss 0.501, Val took 391.632s\n",
      "Iter 220: Train loss 0.446, Learning Rate 1.000e-05, It/sec 0.597, Tokens/sec 1060.209, Trained Tokens 422859, Peak mem 61.809 GB\n",
      "Iter 230: Val loss 0.481, Val took 421.260s\n",
      "Iter 230: Train loss 0.452, Learning Rate 1.000e-05, It/sec 0.256, Tokens/sec 479.496, Trained Tokens 441559, Peak mem 61.809 GB\n",
      "Iter 240: Val loss 0.464, Val took 410.736s\n",
      "Iter 240: Train loss 0.399, Learning Rate 1.000e-05, It/sec 0.547, Tokens/sec 906.485, Trained Tokens 458131, Peak mem 61.809 GB\n",
      "Iter 250: Val loss 0.439, Val took 382.804s\n",
      "Iter 250: Train loss 0.453, Learning Rate 1.000e-05, It/sec 0.174, Tokens/sec 339.043, Trained Tokens 477665, Peak mem 62.976 GB\n",
      "Iter 260: Val loss 0.447, Val took 382.402s\n",
      "Iter 260: Train loss 0.464, Learning Rate 1.000e-05, It/sec 0.600, Tokens/sec 1202.990, Trained Tokens 497717, Peak mem 62.976 GB\n",
      "Iter 270: Val loss 0.442, Val took 399.708s\n",
      "Iter 270: Train loss 0.410, Learning Rate 1.000e-05, It/sec 0.560, Tokens/sec 989.012, Trained Tokens 515366, Peak mem 62.976 GB\n",
      "Iter 280: Val loss 0.442, Val took 402.756s\n",
      "Iter 280: Train loss 0.437, Learning Rate 1.000e-05, It/sec 0.461, Tokens/sec 841.690, Trained Tokens 533632, Peak mem 62.976 GB\n",
      "Iter 290: Val loss 0.441, Val took 396.775s\n",
      "Iter 290: Train loss 0.394, Learning Rate 1.000e-05, It/sec 0.349, Tokens/sec 616.843, Trained Tokens 551307, Peak mem 62.976 GB\n",
      "Iter 300: Val loss 0.474, Val took 407.499s\n",
      "Iter 300: Train loss 0.466, Learning Rate 1.000e-05, It/sec 0.599, Tokens/sec 1161.077, Trained Tokens 570681, Peak mem 62.976 GB\n",
      "Iter 300: Saved adapter weights to checkpoints/adapters/adapters.safetensors and checkpoints/adapters/0000300_adapters.safetensors.\n",
      "Iter 310: Val loss 0.464, Val took 409.092s\n",
      "Iter 310: Train loss 0.439, Learning Rate 1.000e-05, It/sec 0.257, Tokens/sec 510.063, Trained Tokens 590536, Peak mem 62.976 GB\n",
      "Iter 320: Val loss 0.494, Val took 416.304s\n",
      "Iter 320: Train loss 0.464, Learning Rate 1.000e-05, It/sec 0.454, Tokens/sec 870.885, Trained Tokens 609723, Peak mem 62.976 GB\n",
      "Iter 330: Val loss 0.430, Val took 379.047s\n",
      "Iter 330: Train loss 0.423, Learning Rate 1.000e-05, It/sec 0.374, Tokens/sec 647.515, Trained Tokens 627032, Peak mem 62.976 GB\n",
      "Iter 340: Val loss 0.488, Val took 421.734s\n",
      "Iter 340: Train loss 0.455, Learning Rate 1.000e-05, It/sec 0.409, Tokens/sec 750.524, Trained Tokens 645399, Peak mem 62.976 GB\n",
      "Iter 350: Val loss 0.487, Val took 419.649s\n",
      "Iter 350: Train loss 0.454, Learning Rate 1.000e-05, It/sec 0.258, Tokens/sec 486.458, Trained Tokens 664257, Peak mem 62.976 GB\n",
      "Iter 360: Val loss 0.471, Val took 408.475s\n",
      "Iter 360: Train loss 0.474, Learning Rate 1.000e-05, It/sec 0.417, Tokens/sec 770.005, Trained Tokens 682743, Peak mem 62.976 GB\n",
      "Iter 370: Val loss 0.469, Val took 392.193s\n",
      "Iter 370: Train loss 0.441, Learning Rate 1.000e-05, It/sec 0.525, Tokens/sec 997.043, Trained Tokens 701731, Peak mem 62.976 GB\n",
      "Iter 380: Val loss 0.458, Val took 389.987s\n",
      "Iter 380: Train loss 0.490, Learning Rate 1.000e-05, It/sec 0.497, Tokens/sec 1093.054, Trained Tokens 723717, Peak mem 62.976 GB\n",
      "Iter 390: Val loss 0.449, Val took 392.084s\n",
      "Iter 390: Train loss 0.440, Learning Rate 1.000e-05, It/sec 0.247, Tokens/sec 466.606, Trained Tokens 742626, Peak mem 62.976 GB\n",
      "Iter 400: Val loss 0.464, Val took 403.617s\n",
      "Iter 400: Train loss 0.385, Learning Rate 1.000e-05, It/sec 0.374, Tokens/sec 638.529, Trained Tokens 759716, Peak mem 62.976 GB\n",
      "Iter 400: Saved adapter weights to checkpoints/adapters/adapters.safetensors and checkpoints/adapters/0000400_adapters.safetensors.\n",
      "Iter 410: Val loss 0.445, Val took 391.178s\n",
      "Iter 410: Train loss 0.441, Learning Rate 1.000e-05, It/sec 0.179, Tokens/sec 357.273, Trained Tokens 779657, Peak mem 62.976 GB\n",
      "Iter 420: Val loss 0.466, Val took 406.710s\n",
      "Iter 420: Train loss 0.473, Learning Rate 1.000e-05, It/sec 0.268, Tokens/sec 517.189, Trained Tokens 798960, Peak mem 62.976 GB\n",
      "Iter 430: Val loss 0.469, Val took 399.572s\n",
      "Iter 430: Train loss 0.389, Learning Rate 1.000e-05, It/sec 0.505, Tokens/sec 908.545, Trained Tokens 816961, Peak mem 62.976 GB\n",
      "Iter 440: Val loss 0.430, Val took 378.758s\n",
      "Iter 440: Train loss 0.376, Learning Rate 1.000e-05, It/sec 0.478, Tokens/sec 892.945, Trained Tokens 835654, Peak mem 62.976 GB\n",
      "Iter 450: Val loss 0.467, Val took 399.436s\n",
      "Iter 450: Train loss 0.419, Learning Rate 1.000e-05, It/sec 0.390, Tokens/sec 699.792, Trained Tokens 853607, Peak mem 62.976 GB\n",
      "Iter 460: Val loss 0.439, Val took 389.485s\n",
      "Iter 460: Train loss 0.447, Learning Rate 1.000e-05, It/sec 0.485, Tokens/sec 858.688, Trained Tokens 871298, Peak mem 62.976 GB\n",
      "Iter 470: Val loss 0.439, Val took 415.259s\n",
      "Iter 470: Train loss 0.443, Learning Rate 1.000e-05, It/sec 0.343, Tokens/sec 681.177, Trained Tokens 891138, Peak mem 62.976 GB\n",
      "Iter 480: Val loss 0.439, Val took 396.204s\n",
      "Iter 480: Train loss 0.432, Learning Rate 1.000e-05, It/sec 0.453, Tokens/sec 837.298, Trained Tokens 909636, Peak mem 62.976 GB\n",
      "Iter 490: Val loss 0.437, Val took 374.922s\n",
      "Iter 490: Train loss 0.441, Learning Rate 1.000e-05, It/sec 0.515, Tokens/sec 973.088, Trained Tokens 928528, Peak mem 62.976 GB\n",
      "Iter 500: Val loss 0.450, Val took 427.755s\n",
      "Iter 500: Train loss 0.503, Learning Rate 1.000e-05, It/sec 0.436, Tokens/sec 948.825, Trained Tokens 950291, Peak mem 62.976 GB\n",
      "Iter 500: Saved adapter weights to checkpoints/adapters/adapters.safetensors and checkpoints/adapters/0000500_adapters.safetensors.\n",
      "Saved final adapter weights to checkpoints/adapters/adapters.safetensors.\n"
     ]
    }
   ],
   "source": [
    "!python -m mlx_lm.lora \\\n",
    "    --model mlx-community/gemma-2-27b-it-4bit \\\n",
    "    --train \\\n",
    "    --data data \\\n",
    "    --iters 500 \\\n",
    "    --batch-size 4 \\\n",
    "    --learning-rate 1e-5 \\\n",
    "    --steps-per-report 10 \\\n",
    "    --steps-per-eval 10 \\\n",
    "    --adapter-path checkpoints/adapters \\\n",
    "    # --resume-adapter-file checkpoints/600_adapters.npz \\\n",
    "    --save-every 10 \\\n",
    "    --max-seq-length 2048 \\\n",
    "    --seed 42 \\\n",
    "    --lora-layers 16"
   ]
  },
  {
   "cell_type": "code",
   "execution_count": null,
   "metadata": {},
   "outputs": [],
   "source": [
    "# !python -m mlx_lm.lora \\\n",
    "#     --model mlx-community/gemma-2-27b-it-4bit \\\n",
    "#     --train \\\n",
    "#     --data data \\\n",
    "#     --iters 600 \\\n",
    "#     --batch-size 4 \\\n",
    "#     --learning-rate 1e-5 \\\n",
    "#     --steps-per-report 10 \\\n",
    "#     --steps-per-eval 10 \\\n",
    "#     --adapter-path checkpoints/adapters \\\n",
    "#     --resume-adapter-file checkpoints/adapters/0000100_adapters.safetensors \\\n",
    "#     --save-every 10 \\\n",
    "#     --max-seq-length 2048 \\\n",
    "#     --seed 42 \\\n",
    "#     --lora-layers 16"
   ]
  },
  {
   "cell_type": "markdown",
   "metadata": {},
   "source": [
    "## 6. Inference with fine-tuned model"
   ]
  },
  {
   "cell_type": "code",
   "execution_count": 18,
   "metadata": {},
   "outputs": [
    {
     "name": "stdout",
     "output_type": "stream",
     "text": [
      "You are an IMDG Code specialist with a deep understanding of the International Maritime Dangerous Goods (IMDG) Code. Your task is to provide detailed and accurate information in response to user questions about IMDG code.\n",
      "\n",
      "    Guidelines for answering:\n",
      "    1. Present information in a clear, concise, and easily understandable manner, using bullet points for organization.\n",
      "    2. For questions about specific UN Numbers:\n",
      "       - Provide details on: UN No., Proper Shipping Name, Class, Subsidiary hazard, Packing Group, Special Provisions, Limited Quantity, Excepted Quantity, Packing Instructions, Stowage and handling, Segregation, and Properties and observations.\n",
      "       - If this information is not in the provided context, state that you need to refer to the official IMDG Code for accurate details.\n",
      "    3. Respond in the language of the user's question. If unable to determine the language, default to English.\n",
      "    4. If you don't know the answer or if the information is not in the provided context, clearly state \"I don't have enough information to answer this question accurately. Please refer to the official IMDG Code or consult with an IMDG expert for the most up-to-date and accurate information.\"\n",
      "    5. End each response with '–IMDGGenie'\n"
     ]
    }
   ],
   "source": [
    "# System prompt\n",
    "\n",
    "system_prompt = df[\"system_prompt\"].unique()[-1]\n",
    "print(system_prompt)"
   ]
  },
  {
   "cell_type": "code",
   "execution_count": 30,
   "metadata": {},
   "outputs": [
    {
     "name": "stdout",
     "output_type": "stream",
     "text": [
      "<bos><start_of_turn>user\n",
      "## Instructions\n",
      "You are an IMDG Code specialist with a deep understanding of the International Maritime Dangerous Goods (IMDG) Code. Your task is to provide detailed and accurate information in response to user questions about IMDG code.\n",
      "\n",
      "    Guidelines for answering:\n",
      "    1. Present information in a clear, concise, and easily understandable manner, using bullet points for organization.\n",
      "    2. For questions about specific UN Numbers:\n",
      "       - Provide details on: UN No., Proper Shipping Name, Class, Subsidiary hazard, Packing Group, Special Provisions, Limited Quantity, Excepted Quantity, Packing Instructions, Stowage and handling, Segregation, and Properties and observations.\n",
      "       - If this information is not in the provided context, state that you need to refer to the official IMDG Code for accurate details.\n",
      "    3. Respond in the language of the user's question. If unable to determine the language, default to English.\n",
      "    4. If you don't know the answer or if the information is not in the provided context, clearly state \"I don't have enough information to answer this question accurately. Please refer to the official IMDG Code or consult with an IMDG expert for the most up-to-date and accurate information.\"\n",
      "    5. End each response with '–IMDGGenie'\n",
      "## User\n",
      "What are the minimum wall thickness requirements for IBCs used for transporting liquids according to the IMDG Code?<end_of_turn>\n",
      "<start_of_turn>model\n",
      "\n"
     ]
    }
   ],
   "source": [
    "question = \"What are the minimum wall thickness requirements for IBCs used for transporting liquids according to the IMDG Code?\"\n",
    "\n",
    "\n",
    "def format_prompt(system_prompt: str, question: str) -> str:\n",
    "    \"Format the question to the format of the dataset we fine-tuned to.\"\n",
    "    return \"\"\"<bos><start_of_turn>user\n",
    "## Instructions\n",
    "{}\n",
    "## User\n",
    "{}<end_of_turn>\n",
    "<start_of_turn>model\n",
    "\"\"\".format(\n",
    "        system_prompt, question\n",
    "    )\n",
    "\n",
    "\n",
    "print(format_prompt(system_prompt, question))"
   ]
  },
  {
   "cell_type": "code",
   "execution_count": 31,
   "metadata": {},
   "outputs": [
    {
     "data": {
      "application/vnd.jupyter.widget-view+json": {
       "model_id": "ce18e7c8be6e4b17a39188e8537c29ab",
       "version_major": 2,
       "version_minor": 0
      },
      "text/plain": [
       "Fetching 9 files:   0%|          | 0/9 [00:00<?, ?it/s]"
      ]
     },
     "metadata": {},
     "output_type": "display_data"
    }
   ],
   "source": [
    "# Load the fine-tuned model with LoRA weights\n",
    "model_lora, tokenizer = load(\n",
    "    \"mlx-community/gemma-2-27b-it-4bit\",\n",
    "    adapter_path=\"./checkpoints/adapters\",\n",
    ")"
   ]
  },
  {
   "cell_type": "code",
   "execution_count": 32,
   "metadata": {},
   "outputs": [
    {
     "name": "stdout",
     "output_type": "stream",
     "text": [
      "==========\n",
      "Prompt: <bos><start_of_turn>user\n",
      "## Instructions\n",
      "You are an IMDG Code specialist with a deep understanding of the International Maritime Dangerous Goods (IMDG) Code. Your task is to provide detailed and accurate information in response to user questions about IMDG code.\n",
      "\n",
      "    Guidelines for answering:\n",
      "    1. Present information in a clear, concise, and easily understandable manner, using bullet points for organization.\n",
      "    2. For questions about specific UN Numbers:\n",
      "       - Provide details on: UN No., Proper Shipping Name, Class, Subsidiary hazard, Packing Group, Special Provisions, Limited Quantity, Excepted Quantity, Packing Instructions, Stowage and handling, Segregation, and Properties and observations.\n",
      "       - If this information is not in the provided context, state that you need to refer to the official IMDG Code for accurate details.\n",
      "    3. Respond in the language of the user's question. If unable to determine the language, default to English.\n",
      "    4. If you don't know the answer or if the information is not in the provided context, clearly state \"I don't have enough information to answer this question accurately. Please refer to the official IMDG Code or consult with an IMDG expert for the most up-to-date and accurate information.\"\n",
      "    5. End each response with '–IMDGGenie'\n",
      "## User\n",
      "What are the minimum wall thickness requirements for IBCs used for transporting liquids according to the IMDG Code?<end_of_turn>\n",
      "<start_of_turn>model\n",
      "\n",
      "The IMDG Code specifies minimum wall thickness requirements for IBCs based on the type of material and the specific gravity of the liquid being transported.  \n",
      "\n",
      "The minimum wall thickness is detailed in the \"Dangerous Goods Regulations\" section of the IMDG Code, Chapter 6.5. It's important to consult the relevant sections of the IMDG Code for the precise requirements for your specific liquid and IBC material.<end_of_turn>\n",
      "==========\n",
      "Prompt: 296 tokens, 109.818 tokens-per-sec\n",
      "Generation: 81 tokens, 13.999 tokens-per-sec\n",
      "Peak memory: 42.802 GB\n"
     ]
    }
   ],
   "source": [
    "response = generate(\n",
    "    model_lora,\n",
    "    tokenizer,\n",
    "    prompt=format_prompt(system_prompt, question),\n",
    "    verbose=True,\n",
    "    temp=0.5,\n",
    "    max_tokens=1024,\n",
    ")"
   ]
  },
  {
   "cell_type": "code",
   "execution_count": 33,
   "metadata": {},
   "outputs": [
    {
     "name": "stdout",
     "output_type": "stream",
     "text": [
      "==========\n",
      "Prompt: <bos><start_of_turn>user\n",
      "## Instructions\n",
      "You are an IMDG Code specialist with a deep understanding of the International Maritime Dangerous Goods (IMDG) Code. Your task is to provide detailed and accurate information in response to user questions about IMDG code.\n",
      "\n",
      "    Guidelines for answering:\n",
      "    1. Present information in a clear, concise, and easily understandable manner, using bullet points for organization.\n",
      "    2. For questions about specific UN Numbers:\n",
      "       - Provide details on: UN No., Proper Shipping Name, Class, Subsidiary hazard, Packing Group, Special Provisions, Limited Quantity, Excepted Quantity, Packing Instructions, Stowage and handling, Segregation, and Properties and observations.\n",
      "       - If this information is not in the provided context, state that you need to refer to the official IMDG Code for accurate details.\n",
      "    3. Respond in the language of the user's question. If unable to determine the language, default to English.\n",
      "    4. If you don't know the answer or if the information is not in the provided context, clearly state \"I don't have enough information to answer this question accurately. Please refer to the official IMDG Code or consult with an IMDG expert for the most up-to-date and accurate information.\"\n",
      "    5. End each response with '–IMDGGenie'\n",
      "## User\n",
      "What are the minimum wall thickness requirements for IBCs used for transporting liquids according to the IMDG Code?<end_of_turn>\n",
      "<start_of_turn>model\n",
      "\n",
      "The minimum wall thickness requirements for IBCs used for transporting liquids according to the IMDG Code depend on several factors, including the type of IBC, the material of construction, and the specific gravity of the liquid being transported.\n",
      "\n",
      "* **The IMDG Code does not specify a single minimum wall thickness requirement for all liquid IBCs.**\n",
      "\n",
      "* **You can find detailed information on wall thickness requirements in Chapter 6 of the IMDG Code, specifically in sections 6.5 (for rigid IBCs) and 6.6 (for flexible IBCs).** These sections provide detailed specifications and testing requirements for different types of IBCs based on their design, material, and intended use.\n",
      "\n",
      "* **It's important to consult the relevant sections of the IMDG Code and the IBC manufacturer's specifications to determine the appropriate wall thickness for your specific liquid cargo.**\n",
      "\n",
      "–IMDGGenie \n",
      "<end_of_turn>\n",
      "\n",
      "==========\n",
      "Prompt: 296 tokens, 53.250 tokens-per-sec\n",
      "Generation: 179 tokens, 15.412 tokens-per-sec\n",
      "Peak memory: 42.802 GB\n"
     ]
    }
   ],
   "source": [
    "response = generate(\n",
    "    model,\n",
    "    tokenizer,\n",
    "    prompt=format_prompt(system_prompt, question),\n",
    "    verbose=True,\n",
    "    temp=0.5,\n",
    "    max_tokens=1024,\n",
    ")"
   ]
  },
  {
   "cell_type": "code",
   "execution_count": 18,
   "metadata": {},
   "outputs": [
    {
     "name": "stderr",
     "output_type": "stream",
     "text": [
      "huggingface/tokenizers: The current process just got forked, after parallelism has already been used. Disabling parallelism to avoid deadlocks...\n",
      "To disable this warning, you can either:\n",
      "\t- Avoid using `tokenizers` before the fork if possible\n",
      "\t- Explicitly set the environment variable TOKENIZERS_PARALLELISM=(true | false)\n"
     ]
    },
    {
     "name": "stdout",
     "output_type": "stream",
     "text": [
      "Fetching 9 files: 100%|████████████████████████| 9/9 [00:00<00:00, 26696.42it/s]\n",
      "==========\n",
      "Prompt: <bos><start_of_turn>user\n",
      "What are the normal working hours for customs at Dar es Salaam Port?<end_of_turn>\n",
      "<start_of_turn>model\n",
      "\n",
      "I cannot provide specific real-time information like working hours for government offices. Working hours are subject to change and are best obtained directly from the source.<end_of_turn>\n",
      "==========\n",
      "Prompt: 24 tokens, 12.770 tokens-per-sec\n",
      "Generation: 32 tokens, 13.584 tokens-per-sec\n",
      "Peak memory: 14.642 GB\n"
     ]
    }
   ],
   "source": [
    "!python -m mlx_lm.generate \\\n",
    "    --model mlx-community/gemma-2-27b-it-4bit \\\n",
    "    --adapter-path checkpoints/adapters \\\n",
    "    --prompt \"What are the normal working hours for customs at Dar es Salaam Port?\" \\\n",
    "    --max-tokens 256 \\\n",
    "    --temp 0.5"
   ]
  },
  {
   "cell_type": "code",
   "execution_count": 12,
   "metadata": {},
   "outputs": [
    {
     "name": "stdout",
     "output_type": "stream",
     "text": [
      "usage: generate.py [-h] [--model MODEL] [--adapter-path ADAPTER_PATH]\n",
      "                   [--trust-remote-code] [--eos-token EOS_TOKEN]\n",
      "                   [--prompt PROMPT] [--max-tokens MAX_TOKENS] [--temp TEMP]\n",
      "                   [--top-p TOP_P] [--seed SEED] [--ignore-chat-template]\n",
      "                   [--use-default-chat-template] [--colorize]\n",
      "                   [--cache-limit-gb CACHE_LIMIT_GB]\n",
      "\n",
      "LLM inference script\n",
      "\n",
      "options:\n",
      "  -h, --help            show this help message and exit\n",
      "  --model MODEL         The path to the local model directory or Hugging Face\n",
      "                        repo.\n",
      "  --adapter-path ADAPTER_PATH\n",
      "                        Optional path for the trained adapter weights and\n",
      "                        config.\n",
      "  --trust-remote-code   Enable trusting remote code for tokenizer\n",
      "  --eos-token EOS_TOKEN\n",
      "                        End of sequence token for tokenizer\n",
      "  --prompt PROMPT       Message to be processed by the model\n",
      "  --max-tokens MAX_TOKENS, -m MAX_TOKENS\n",
      "                        Maximum number of tokens to generate\n",
      "  --temp TEMP           Sampling temperature\n",
      "  --top-p TOP_P         Sampling top-p\n",
      "  --seed SEED           PRNG seed\n",
      "  --ignore-chat-template\n",
      "                        Use the raw prompt without the tokenizer's chat\n",
      "                        template.\n",
      "  --use-default-chat-template\n",
      "                        Use the default chat template\n",
      "  --colorize            Colorize output based on T[0] probability\n",
      "  --cache-limit-gb CACHE_LIMIT_GB\n",
      "                        Set the MLX cache limit in GB\n"
     ]
    }
   ],
   "source": [
    "!python -m mlx_lm.generate --help"
   ]
  },
  {
   "cell_type": "code",
   "execution_count": null,
   "metadata": {},
   "outputs": [],
   "source": []
  }
 ],
 "metadata": {
  "kernelspec": {
   "display_name": "mlx",
   "language": "python",
   "name": "python3"
  },
  "language_info": {
   "codemirror_mode": {
    "name": "ipython",
    "version": 3
   },
   "file_extension": ".py",
   "mimetype": "text/x-python",
   "name": "python",
   "nbconvert_exporter": "python",
   "pygments_lexer": "ipython3",
   "version": "3.11.9"
  }
 },
 "nbformat": 4,
 "nbformat_minor": 2
}
