{
 "cells": [
  {
   "cell_type": "markdown",
   "metadata": {},
   "source": [
    "# Fine-tuning the latest Google Gemma model locally using MLX"
   ]
  },
  {
   "cell_type": "markdown",
   "metadata": {},
   "source": [
    "## 1. Preparation\n"
   ]
  },
  {
   "cell_type": "code",
   "execution_count": 58,
   "metadata": {},
   "outputs": [],
   "source": [
    "# !pip install -Uqq mlx mlx_lm transformers datasets"
   ]
  },
  {
   "cell_type": "markdown",
   "metadata": {},
   "source": [
    "## 2. Using MLX to Run Inference with Gemma Model using MLX"
   ]
  },
  {
   "cell_type": "code",
   "execution_count": 13,
   "metadata": {},
   "outputs": [
    {
     "data": {
      "application/vnd.jupyter.widget-view+json": {
       "model_id": "f22f0cc749974fc5975c33e8203d56c7",
       "version_major": 2,
       "version_minor": 0
      },
      "text/plain": [
       "Fetching 9 files:   0%|          | 0/9 [00:00<?, ?it/s]"
      ]
     },
     "metadata": {},
     "output_type": "display_data"
    }
   ],
   "source": [
    "from mlx_lm import generate, load\n",
    "\n",
    "model, tokenizer = load(\"mlx-community/gemma-2-27b-it-4bit\")\n",
    "# https://huggingface.co/mlx-community/gemma-2-27b-4bit \n"
   ]
  },
  {
   "cell_type": "code",
   "execution_count": 15,
   "metadata": {},
   "outputs": [
    {
     "name": "stdout",
     "output_type": "stream",
     "text": [
      "<bos><start_of_turn>user\n",
      "What are the minimum size requirements for the marks and the UN packaging symbol on pressure receptacles, and how do these requirements differ based on the diameter of the pressure receptacle?<end_of_turn>\n",
      "<start_of_turn>model\n",
      "\n"
     ]
    }
   ],
   "source": [
    "messages = [{\"role\": \"user\", \"content\": \"What are the minimum size requirements for the marks and the UN packaging symbol on pressure receptacles, and how do these requirements differ based on the diameter of the pressure receptacle?\"}]\n",
    "result = tokenizer.apply_chat_template(messages, tokenize=False, add_generation_prompt=True)\n",
    "print(result)"
   ]
  },
  {
   "cell_type": "code",
   "execution_count": 17,
   "metadata": {},
   "outputs": [
    {
     "name": "stdout",
     "output_type": "stream",
     "text": [
      "==========\n",
      "Prompt: What are the minimum size requirements for the marks and the UN packaging symbol on pressure receptacles, and how do these requirements differ based on the diameter of the pressure receptacle per IMDG code?\n",
      "\n",
      "\n",
      "The IMDG Code (International Maritime Dangerous Goods Code) outlines the marking and labeling requirements for pressure receptacles.\n",
      "\n",
      "**Minimum Size Requirements for Marks and UN Packaging Symbol:**\n",
      "\n",
      "The minimum size requirements for marks and the UN packaging symbol on pressure receptacles are dependent on the diameter of the receptacle.\n",
      "\n",
      "* **Receptacles with a diameter of less than 140 mm:**\n",
      "\n",
      "    * The UN packaging symbol must have a minimum dimension of 6 mm.\n",
      "    * Other marks (e.g., manufacturer's name, serial number, test pressure, etc.) must be clearly visible and legible.\n",
      "\n",
      "* **Receptacles with a diameter of 140 mm or more:**\n",
      "\n",
      "    * The UN packaging symbol must have a minimum dimension of 12 mm.\n",
      "    * Other marks must be clearly visible and legible, with a minimum height of 6 mm.\n",
      "\n",
      "**Additional Considerations:**\n",
      "\n",
      "* The marks and UN packaging symbol must be permanently affixed to the pressure receptacle.\n",
      "* They should be located in a readily visible and accessible location.\n",
      "* The color of the marks and symbol should contrast with the background color of the receptacle.\n",
      "\n",
      "**Note:**\n",
      "\n",
      "These are general guidelines. Specific requirements may vary depending on the type of pressure receptacle, the gas being transported, and the applicable national regulations. It is crucial to consult the IMDG Code and relevant national regulations for detailed information on marking and labeling requirements.\n",
      "\n",
      "For further clarification and specific guidance, it is recommended to consult the IMDG Code directly or seek advice from a qualified dangerous goods expert.<end_of_turn>\n",
      "\n",
      "==========\n",
      "Prompt: 37 tokens, 62.549 tokens-per-sec\n",
      "Generation: 316 tokens, 15.977 tokens-per-sec\n",
      "Peak memory: 14.782 GB\n"
     ]
    }
   ],
   "source": [
    "# Generating without adding a prompt template manually\n",
    "prompt = \"\"\"\n",
    "What are the minimum size requirements for the marks and the UN packaging symbol on pressure receptacles, and how do these requirements differ based on the diameter of the pressure receptacle per IMDG code?\n",
    "\"\"\".strip()\n",
    "response = generate(\n",
    "    model,\n",
    "    tokenizer,\n",
    "    prompt=prompt,\n",
    "    verbose=True,  # Set to True to see the prompt and response\n",
    "    temp=0.0,\n",
    "    max_tokens=1024,\n",
    ")"
   ]
  },
  {
   "cell_type": "markdown",
   "metadata": {},
   "source": [
    "## 3. Generating training dataset from PDF file"
   ]
  },
  {
   "cell_type": "code",
   "execution_count": 4,
   "metadata": {},
   "outputs": [
    {
     "name": "stdout",
     "output_type": "stream",
     "text": [
      "Starting fine-tuning dataset creation (Target samples: 10000)\n",
      "Loading model and tokenizer...\n"
     ]
    },
    {
     "data": {
      "application/vnd.jupyter.widget-view+json": {
       "model_id": "62ffa0db6e48420eab2a8b99edec5d99",
       "version_major": 2,
       "version_minor": 0
      },
      "text/plain": [
       "Fetching 9 files:   0%|          | 0/9 [00:00<?, ?it/s]"
      ]
     },
     "metadata": {},
     "output_type": "display_data"
    },
    {
     "name": "stdout",
     "output_type": "stream",
     "text": [
      "Model and tokenizer loaded\n",
      "Extracting text from PDF...\n"
     ]
    },
    {
     "name": "stderr",
     "output_type": "stream",
     "text": [
      "Processing pages: 100%|██████████| 1098/1098 [01:08<00:00, 15.99it/s]\n"
     ]
    },
    {
     "name": "stdout",
     "output_type": "stream",
     "text": [
      "Text extraction completed\n",
      "Splitting text into chunks...\n"
     ]
    },
    {
     "name": "stderr",
     "output_type": "stream",
     "text": [
      "Creating chunks: 100%|██████████| 64387/64387 [00:00<00:00, 3784772.43it/s]\n"
     ]
    },
    {
     "name": "stdout",
     "output_type": "stream",
     "text": [
      "Number of chunks created: 3140\n",
      "Generating question-response pairs and writing to CSV...\n"
     ]
    },
    {
     "name": "stderr",
     "output_type": "stream",
     "text": [
      "Generating samples:   0%|          | 3/10000 [00:59<52:24:33, 18.87s/it]"
     ]
    },
    {
     "name": "stdout",
     "output_type": "stream",
     "text": [
      "Skipping invalid sample: Q: Unable to generate a question., A: Unable to generate a response.\n"
     ]
    },
    {
     "name": "stderr",
     "output_type": "stream",
     "text": [
      "Generating samples:   0%|          | 19/10000 [05:25<42:56:21, 15.49s/it]"
     ]
    },
    {
     "name": "stdout",
     "output_type": "stream",
     "text": [
      "Skipping invalid sample: Q: Unable to generate a question., A: Unable to generate a response.\n"
     ]
    },
    {
     "name": "stderr",
     "output_type": "stream",
     "text": [
      "Generating samples:   0%|          | 31/10000 [08:53<37:44:59, 13.63s/it]"
     ]
    },
    {
     "name": "stdout",
     "output_type": "stream",
     "text": [
      "Skipping invalid sample: Q: Unable to generate a question., A: Unable to generate a response.\n"
     ]
    },
    {
     "name": "stderr",
     "output_type": "stream",
     "text": [
      "Generating samples:   1%|          | 61/10000 [17:41<50:10:46, 18.18s/it]"
     ]
    },
    {
     "name": "stdout",
     "output_type": "stream",
     "text": [
      "Skipping invalid sample: Q: Unable to generate a question., A: Unable to generate a response.\n"
     ]
    },
    {
     "name": "stderr",
     "output_type": "stream",
     "text": [
      "Generating samples:   1%|          | 66/10000 [18:37<28:43:51, 10.41s/it]"
     ]
    },
    {
     "name": "stdout",
     "output_type": "stream",
     "text": [
      "Skipping invalid sample: Q: Unable to generate a question., A: Unable to generate a response.\n"
     ]
    },
    {
     "name": "stderr",
     "output_type": "stream",
     "text": [
      "Generating samples:   1%|          | 92/10000 [26:21<46:18:52, 16.83s/it]"
     ]
    },
    {
     "name": "stdout",
     "output_type": "stream",
     "text": [
      "Skipping invalid sample: Q: Unable to generate a question., A: Unable to generate a response.\n"
     ]
    },
    {
     "name": "stderr",
     "output_type": "stream",
     "text": [
      "Generating samples:   1%|          | 100/10000 [28:49<56:26:57, 20.53s/it]"
     ]
    },
    {
     "name": "stdout",
     "output_type": "stream",
     "text": [
      "Generated 100 samples...\n"
     ]
    },
    {
     "name": "stderr",
     "output_type": "stream",
     "text": [
      "Generating samples:   1%|          | 106/10000 [30:16<39:23:03, 14.33s/it]"
     ]
    },
    {
     "name": "stdout",
     "output_type": "stream",
     "text": [
      "Skipping invalid sample: Q: Unable to generate a question., A: Unable to generate a response.\n"
     ]
    },
    {
     "name": "stderr",
     "output_type": "stream",
     "text": [
      "Generating samples:   2%|▏         | 167/10000 [48:11<43:29:00, 15.92s/it]"
     ]
    },
    {
     "name": "stdout",
     "output_type": "stream",
     "text": [
      "Skipping invalid sample: Q: Unable to generate a question., A: Unable to generate a response.\n"
     ]
    },
    {
     "name": "stderr",
     "output_type": "stream",
     "text": [
      "Generating samples:   2%|▏         | 200/10000 [57:58<47:18:09, 17.38s/it]"
     ]
    },
    {
     "name": "stdout",
     "output_type": "stream",
     "text": [
      "Generated 200 samples...\n"
     ]
    },
    {
     "name": "stderr",
     "output_type": "stream",
     "text": [
      "Generating samples:   2%|▏         | 222/10000 [1:04:36<46:24:10, 17.08s/it]"
     ]
    },
    {
     "name": "stdout",
     "output_type": "stream",
     "text": [
      "Skipping invalid sample: Q: Unable to generate a question., A: Unable to generate a response.\n"
     ]
    },
    {
     "name": "stderr",
     "output_type": "stream",
     "text": [
      "Generating samples:   3%|▎         | 261/10000 [1:16:06<55:56:15, 20.68s/it]"
     ]
    },
    {
     "name": "stdout",
     "output_type": "stream",
     "text": [
      "Skipping invalid sample: Q: Unable to generate a question., A: Unable to generate a response.\n"
     ]
    },
    {
     "name": "stderr",
     "output_type": "stream",
     "text": [
      "Generating samples:   3%|▎         | 267/10000 [1:17:29<36:17:56, 13.43s/it]"
     ]
    },
    {
     "name": "stdout",
     "output_type": "stream",
     "text": [
      "Skipping invalid sample: Q: Unable to generate a question., A: Unable to generate a response.\n"
     ]
    },
    {
     "name": "stderr",
     "output_type": "stream",
     "text": [
      "Generating samples:   3%|▎         | 284/10000 [1:21:47<28:26:15, 10.54s/it]"
     ]
    },
    {
     "name": "stdout",
     "output_type": "stream",
     "text": [
      "Skipping invalid sample: Q: Unable to generate a question., A: Unable to generate a response.\n"
     ]
    },
    {
     "name": "stderr",
     "output_type": "stream",
     "text": [
      "Generating samples:   3%|▎         | 300/10000 [1:26:17<40:56:13, 15.19s/it]"
     ]
    },
    {
     "name": "stdout",
     "output_type": "stream",
     "text": [
      "Generated 300 samples...\n"
     ]
    },
    {
     "name": "stderr",
     "output_type": "stream",
     "text": [
      "Generating samples:   3%|▎         | 307/10000 [1:27:59<32:49:55, 12.19s/it]"
     ]
    },
    {
     "name": "stdout",
     "output_type": "stream",
     "text": [
      "Skipping invalid sample: Q: Unable to generate a question., A: Unable to generate a response.\n"
     ]
    },
    {
     "name": "stderr",
     "output_type": "stream",
     "text": [
      "Generating samples:   3%|▎         | 309/10000 [1:28:24<32:13:56, 11.97s/it]"
     ]
    },
    {
     "name": "stdout",
     "output_type": "stream",
     "text": [
      "Skipping invalid sample: Q: Unable to generate a question., A: Unable to generate a response.\n"
     ]
    },
    {
     "name": "stderr",
     "output_type": "stream",
     "text": [
      "Generating samples:   3%|▎         | 312/10000 [1:29:26<42:23:24, 15.75s/it]"
     ]
    },
    {
     "name": "stdout",
     "output_type": "stream",
     "text": [
      "Skipping invalid sample: Q: Unable to generate a question., A: Unable to generate a response.\n"
     ]
    },
    {
     "name": "stderr",
     "output_type": "stream",
     "text": [
      "Generating samples:   3%|▎         | 316/10000 [1:30:35<47:42:15, 17.73s/it]"
     ]
    },
    {
     "name": "stdout",
     "output_type": "stream",
     "text": [
      "Skipping invalid sample: Q: Unable to generate a question., A: Unable to generate a response.\n"
     ]
    },
    {
     "name": "stderr",
     "output_type": "stream",
     "text": [
      "Generating samples:   3%|▎         | 329/10000 [1:34:31<53:46:24, 20.02s/it]"
     ]
    },
    {
     "name": "stdout",
     "output_type": "stream",
     "text": [
      "Skipping invalid sample: Q: Unable to generate a question., A: Unable to generate a response.\n"
     ]
    },
    {
     "name": "stderr",
     "output_type": "stream",
     "text": [
      "Generating samples:   4%|▍         | 399/10000 [1:55:08<43:05:50, 16.16s/it]"
     ]
    },
    {
     "name": "stdout",
     "output_type": "stream",
     "text": [
      "Skipping invalid sample: Q: Unable to generate a question., A: Unable to generate a response.\n"
     ]
    },
    {
     "name": "stderr",
     "output_type": "stream",
     "text": [
      "Generating samples:   4%|▍         | 400/10000 [1:55:44<58:47:15, 22.05s/it]"
     ]
    },
    {
     "name": "stdout",
     "output_type": "stream",
     "text": [
      "Generated 400 samples...\n"
     ]
    },
    {
     "name": "stderr",
     "output_type": "stream",
     "text": [
      "Generating samples:   4%|▍         | 430/10000 [2:03:12<33:52:53, 12.75s/it]"
     ]
    },
    {
     "name": "stdout",
     "output_type": "stream",
     "text": [
      "Skipping invalid sample: Q: Unable to generate a question., A: Unable to generate a response.\n"
     ]
    },
    {
     "name": "stderr",
     "output_type": "stream",
     "text": [
      "Generating samples:   4%|▍         | 440/10000 [2:05:41<30:34:35, 11.51s/it]"
     ]
    },
    {
     "name": "stdout",
     "output_type": "stream",
     "text": [
      "Skipping invalid sample: Q: Unable to generate a question., A: Unable to generate a response.\n"
     ]
    },
    {
     "name": "stderr",
     "output_type": "stream",
     "text": [
      "Generating samples:   4%|▍         | 450/10000 [2:09:06<54:56:13, 20.71s/it]"
     ]
    },
    {
     "name": "stdout",
     "output_type": "stream",
     "text": [
      "Skipping invalid sample: Q: Unable to generate a question., A: Unable to generate a response.\n"
     ]
    },
    {
     "name": "stderr",
     "output_type": "stream",
     "text": [
      "Generating samples:   5%|▍         | 488/10000 [2:21:32<50:30:03, 19.11s/it]"
     ]
    },
    {
     "name": "stdout",
     "output_type": "stream",
     "text": [
      "Skipping invalid sample: Q: Unable to generate a question., A: Unable to generate a response.\n"
     ]
    },
    {
     "name": "stderr",
     "output_type": "stream",
     "text": [
      "Generating samples:   5%|▌         | 500/10000 [2:25:08<51:20:31, 19.46s/it]"
     ]
    },
    {
     "name": "stdout",
     "output_type": "stream",
     "text": [
      "Generated 500 samples...\n"
     ]
    },
    {
     "name": "stderr",
     "output_type": "stream",
     "text": [
      "Generating samples:   5%|▌         | 530/10000 [2:33:15<38:12:17, 14.52s/it]"
     ]
    },
    {
     "name": "stdout",
     "output_type": "stream",
     "text": [
      "Skipping invalid sample: Q: Unable to generate a question., A: Unable to generate a response.\n"
     ]
    },
    {
     "name": "stderr",
     "output_type": "stream",
     "text": [
      "Generating samples:   6%|▌         | 562/10000 [2:42:10<39:26:09, 15.04s/it]"
     ]
    },
    {
     "name": "stdout",
     "output_type": "stream",
     "text": [
      "Skipping invalid sample: Q: Unable to generate a question., A: Unable to generate a response.\n"
     ]
    },
    {
     "name": "stderr",
     "output_type": "stream",
     "text": [
      "Generating samples:   6%|▌         | 593/10000 [2:49:43<38:03:09, 14.56s/it]"
     ]
    },
    {
     "name": "stdout",
     "output_type": "stream",
     "text": [
      "Skipping invalid sample: Q: Unable to generate a question., A: Unable to generate a response.\n"
     ]
    },
    {
     "name": "stderr",
     "output_type": "stream",
     "text": [
      "Generating samples:   6%|▌         | 600/10000 [2:51:41<40:54:09, 15.66s/it]"
     ]
    },
    {
     "name": "stdout",
     "output_type": "stream",
     "text": [
      "Generated 600 samples...\n"
     ]
    },
    {
     "name": "stderr",
     "output_type": "stream",
     "text": [
      "Generating samples:   6%|▌         | 610/10000 [2:53:58<28:26:09, 10.90s/it]"
     ]
    },
    {
     "name": "stdout",
     "output_type": "stream",
     "text": [
      "Skipping invalid sample: Q: Unable to generate a question., A: Unable to generate a response.\n"
     ]
    },
    {
     "name": "stderr",
     "output_type": "stream",
     "text": [
      "Generating samples:   6%|▌         | 612/10000 [2:54:25<32:03:38, 12.29s/it]"
     ]
    },
    {
     "name": "stdout",
     "output_type": "stream",
     "text": [
      "Skipping invalid sample: Q: Unable to generate a question., A: Unable to generate a response.\n"
     ]
    },
    {
     "name": "stderr",
     "output_type": "stream",
     "text": [
      "Generating samples:   7%|▋         | 700/10000 [3:18:06<47:20:18, 18.32s/it]"
     ]
    },
    {
     "name": "stdout",
     "output_type": "stream",
     "text": [
      "Generated 700 samples...\n"
     ]
    },
    {
     "name": "stderr",
     "output_type": "stream",
     "text": [
      "Generating samples:   7%|▋         | 714/10000 [3:22:38<53:04:09, 20.57s/it]"
     ]
    },
    {
     "name": "stdout",
     "output_type": "stream",
     "text": [
      "Skipping invalid sample: Q: Unable to generate a question., A: Unable to generate a response.\n"
     ]
    },
    {
     "name": "stderr",
     "output_type": "stream",
     "text": [
      "Generating samples:   7%|▋         | 728/10000 [3:26:45<51:03:20, 19.82s/it]"
     ]
    },
    {
     "name": "stdout",
     "output_type": "stream",
     "text": [
      "Skipping invalid sample: Q: Unable to generate a question., A: Unable to generate a response.\n"
     ]
    },
    {
     "name": "stderr",
     "output_type": "stream",
     "text": [
      "Generating samples:   8%|▊         | 772/10000 [3:39:45<47:34:50, 18.56s/it]"
     ]
    },
    {
     "name": "stdout",
     "output_type": "stream",
     "text": [
      "Skipping invalid sample: Q: Unable to generate a question., A: Unable to generate a response.\n"
     ]
    },
    {
     "name": "stderr",
     "output_type": "stream",
     "text": [
      "Generating samples:   8%|▊         | 800/10000 [3:47:43<46:48:04, 18.31s/it]"
     ]
    },
    {
     "name": "stdout",
     "output_type": "stream",
     "text": [
      "Generated 800 samples...\n"
     ]
    },
    {
     "name": "stderr",
     "output_type": "stream",
     "text": [
      "Generating samples:   9%|▉         | 892/10000 [4:13:51<36:46:47, 14.54s/it]"
     ]
    },
    {
     "name": "stdout",
     "output_type": "stream",
     "text": [
      "Skipping invalid sample: Q: Unable to generate a question., A: Unable to generate a response.\n"
     ]
    },
    {
     "name": "stderr",
     "output_type": "stream",
     "text": [
      "Generating samples:   9%|▉         | 900/10000 [4:16:16<40:00:50, 15.83s/it]"
     ]
    },
    {
     "name": "stdout",
     "output_type": "stream",
     "text": [
      "Generated 900 samples...\n"
     ]
    },
    {
     "name": "stderr",
     "output_type": "stream",
     "text": [
      "Generating samples:   9%|▉         | 937/10000 [4:27:25<54:01:53, 21.46s/it]"
     ]
    },
    {
     "name": "stdout",
     "output_type": "stream",
     "text": [
      "Skipping invalid sample: Q: Unable to generate a question., A: Unable to generate a response.\n"
     ]
    },
    {
     "name": "stderr",
     "output_type": "stream",
     "text": [
      "Generating samples:  10%|▉         | 952/10000 [4:31:02<30:57:28, 12.32s/it]"
     ]
    },
    {
     "name": "stdout",
     "output_type": "stream",
     "text": [
      "Skipping invalid sample: Q: Unable to generate a question., A: Unable to generate a response.\n"
     ]
    },
    {
     "name": "stderr",
     "output_type": "stream",
     "text": [
      "Generating samples:  10%|▉         | 973/10000 [4:36:25<37:55:12, 15.12s/it]"
     ]
    },
    {
     "name": "stdout",
     "output_type": "stream",
     "text": [
      "Skipping invalid sample: Q: Unable to generate a question., A: Unable to generate a response.\n"
     ]
    },
    {
     "name": "stderr",
     "output_type": "stream",
     "text": [
      "Generating samples:  10%|▉         | 987/10000 [4:40:08<39:11:20, 15.65s/it]"
     ]
    },
    {
     "name": "stdout",
     "output_type": "stream",
     "text": [
      "Skipping invalid sample: Q: Unable to generate a question., A: Unable to generate a response.\n"
     ]
    },
    {
     "name": "stderr",
     "output_type": "stream",
     "text": [
      "Generating samples:  10%|▉         | 992/10000 [4:41:14<30:19:16, 12.12s/it]"
     ]
    },
    {
     "name": "stdout",
     "output_type": "stream",
     "text": [
      "Skipping invalid sample: Q: Unable to generate a question., A: Unable to generate a response.\n"
     ]
    },
    {
     "name": "stderr",
     "output_type": "stream",
     "text": [
      "Generating samples:  10%|█         | 1000/10000 [4:43:49<45:19:00, 18.13s/it]"
     ]
    },
    {
     "name": "stdout",
     "output_type": "stream",
     "text": [
      "Generated 1000 samples...\n"
     ]
    },
    {
     "name": "stderr",
     "output_type": "stream",
     "text": [
      "Generating samples:  10%|█         | 1024/10000 [4:50:00<30:39:15, 12.29s/it]"
     ]
    },
    {
     "name": "stdout",
     "output_type": "stream",
     "text": [
      "Skipping invalid sample: Q: Unable to generate a question., A: Unable to generate a response.\n"
     ]
    },
    {
     "name": "stderr",
     "output_type": "stream",
     "text": [
      "Generating samples:  10%|█         | 1043/10000 [4:55:21<34:12:32, 13.75s/it]"
     ]
    },
    {
     "name": "stdout",
     "output_type": "stream",
     "text": [
      "Skipping invalid sample: Q: Unable to generate a question., A: Unable to generate a response.\n"
     ]
    },
    {
     "name": "stderr",
     "output_type": "stream",
     "text": [
      "Generating samples:  11%|█         | 1061/10000 [4:59:41<29:20:03, 11.81s/it]"
     ]
    },
    {
     "name": "stdout",
     "output_type": "stream",
     "text": [
      "Skipping invalid sample: Q: Unable to generate a question., A: Unable to generate a response.\n"
     ]
    },
    {
     "name": "stderr",
     "output_type": "stream",
     "text": [
      "Generating samples:  11%|█         | 1070/10000 [5:01:55<29:47:19, 12.01s/it]"
     ]
    },
    {
     "name": "stdout",
     "output_type": "stream",
     "text": [
      "Skipping invalid sample: Q: Unable to generate a question., A: Unable to generate a response.\n"
     ]
    },
    {
     "name": "stderr",
     "output_type": "stream",
     "text": [
      "Generating samples:  11%|█         | 1077/10000 [5:04:03<40:01:41, 16.15s/it]"
     ]
    },
    {
     "name": "stdout",
     "output_type": "stream",
     "text": [
      "Skipping invalid sample: Q: Unable to generate a question., A: Unable to generate a response.\n"
     ]
    },
    {
     "name": "stderr",
     "output_type": "stream",
     "text": [
      "Generating samples:  11%|█         | 1100/10000 [5:10:20<34:57:40, 14.14s/it]"
     ]
    },
    {
     "name": "stdout",
     "output_type": "stream",
     "text": [
      "Generated 1100 samples...\n"
     ]
    },
    {
     "name": "stderr",
     "output_type": "stream",
     "text": [
      "Generating samples:  12%|█▏        | 1179/10000 [5:32:16<46:14:56, 18.88s/it]"
     ]
    },
    {
     "name": "stdout",
     "output_type": "stream",
     "text": [
      "Skipping invalid sample: Q: Unable to generate a question., A: Unable to generate a response.\n"
     ]
    },
    {
     "name": "stderr",
     "output_type": "stream",
     "text": [
      "Generating samples:  12%|█▏        | 1190/10000 [5:35:34<44:00:29, 17.98s/it]"
     ]
    },
    {
     "name": "stdout",
     "output_type": "stream",
     "text": [
      "Skipping invalid sample: Q: Unable to generate a question., A: Unable to generate a response.\n"
     ]
    },
    {
     "name": "stderr",
     "output_type": "stream",
     "text": [
      "Generating samples:  12%|█▏        | 1200/10000 [5:38:03<37:31:21, 15.35s/it]"
     ]
    },
    {
     "name": "stdout",
     "output_type": "stream",
     "text": [
      "Generated 1200 samples...\n"
     ]
    },
    {
     "name": "stderr",
     "output_type": "stream",
     "text": [
      "Generating samples:  12%|█▏        | 1217/10000 [5:42:53<38:06:18, 15.62s/it]"
     ]
    },
    {
     "name": "stdout",
     "output_type": "stream",
     "text": [
      "Skipping invalid sample: Q: Unable to generate a question., A: Unable to generate a response.\n"
     ]
    },
    {
     "name": "stderr",
     "output_type": "stream",
     "text": [
      "Generating samples:  12%|█▏        | 1231/10000 [5:47:01<33:18:27, 13.67s/it]"
     ]
    },
    {
     "name": "stdout",
     "output_type": "stream",
     "text": [
      "Skipping invalid sample: Q: Unable to generate a question., A: Unable to generate a response.\n"
     ]
    },
    {
     "name": "stderr",
     "output_type": "stream",
     "text": [
      "Generating samples:  12%|█▏        | 1232/10000 [5:47:05<25:48:08, 10.59s/it]"
     ]
    },
    {
     "name": "stdout",
     "output_type": "stream",
     "text": [
      "Skipping invalid sample: Q: Unable to generate a question., A: Unable to generate a response.\n"
     ]
    },
    {
     "name": "stderr",
     "output_type": "stream",
     "text": [
      "Generating samples:  12%|█▏        | 1249/10000 [5:52:21<41:23:00, 17.02s/it]"
     ]
    },
    {
     "name": "stdout",
     "output_type": "stream",
     "text": [
      "Skipping invalid sample: Q: Unable to generate a question., A: Unable to generate a response.\n"
     ]
    },
    {
     "name": "stderr",
     "output_type": "stream",
     "text": [
      "Generating samples:  13%|█▎        | 1292/10000 [6:04:05<31:08:47, 12.88s/it]"
     ]
    },
    {
     "name": "stdout",
     "output_type": "stream",
     "text": [
      "Skipping invalid sample: Q: Unable to generate a question., A: Unable to generate a response.\n"
     ]
    },
    {
     "name": "stderr",
     "output_type": "stream",
     "text": [
      "Generating samples:  13%|█▎        | 1300/10000 [6:06:13<34:13:16, 14.16s/it]"
     ]
    },
    {
     "name": "stdout",
     "output_type": "stream",
     "text": [
      "Generated 1300 samples...\n"
     ]
    },
    {
     "name": "stderr",
     "output_type": "stream",
     "text": [
      "Generating samples:  13%|█▎        | 1310/10000 [6:09:17<53:07:52, 22.01s/it]"
     ]
    },
    {
     "name": "stdout",
     "output_type": "stream",
     "text": [
      "Skipping invalid sample: Q: Unable to generate a question., A: Unable to generate a response.\n"
     ]
    },
    {
     "name": "stderr",
     "output_type": "stream",
     "text": [
      "Generating samples:  13%|█▎        | 1327/10000 [6:14:17<35:55:52, 14.91s/it]"
     ]
    },
    {
     "name": "stdout",
     "output_type": "stream",
     "text": [
      "Skipping invalid sample: Q: Unable to generate a question., A: Unable to generate a response.\n"
     ]
    },
    {
     "name": "stderr",
     "output_type": "stream",
     "text": [
      "Generating samples:  13%|█▎        | 1331/10000 [6:15:19<35:39:38, 14.81s/it]"
     ]
    },
    {
     "name": "stdout",
     "output_type": "stream",
     "text": [
      "Skipping invalid sample: Q: Unable to generate a question., A: Unable to generate a response.\n"
     ]
    },
    {
     "name": "stderr",
     "output_type": "stream",
     "text": [
      "Generating samples:  14%|█▎        | 1362/10000 [6:24:31<32:39:57, 13.61s/it]"
     ]
    },
    {
     "name": "stdout",
     "output_type": "stream",
     "text": [
      "Skipping invalid sample: Q: Unable to generate a question., A: Unable to generate a response.\n"
     ]
    },
    {
     "name": "stderr",
     "output_type": "stream",
     "text": [
      "Generating samples:  14%|█▍        | 1387/10000 [6:31:30<35:39:42, 14.91s/it]"
     ]
    },
    {
     "name": "stdout",
     "output_type": "stream",
     "text": [
      "Skipping invalid sample: Q: Unable to generate a question., A: Unable to generate a response.\n"
     ]
    },
    {
     "name": "stderr",
     "output_type": "stream",
     "text": [
      "Generating samples:  14%|█▍        | 1400/10000 [6:35:03<45:16:21, 18.95s/it]"
     ]
    },
    {
     "name": "stdout",
     "output_type": "stream",
     "text": [
      "Generated 1400 samples...\n"
     ]
    },
    {
     "name": "stderr",
     "output_type": "stream",
     "text": [
      "Generating samples:  14%|█▍        | 1403/10000 [6:35:42<35:57:08, 15.06s/it]"
     ]
    },
    {
     "name": "stdout",
     "output_type": "stream",
     "text": [
      "Skipping invalid sample: Q: Unable to generate a question., A: Unable to generate a response.\n"
     ]
    },
    {
     "name": "stderr",
     "output_type": "stream",
     "text": [
      "Generating samples:  14%|█▍        | 1404/10000 [6:35:52<31:57:48, 13.39s/it]"
     ]
    },
    {
     "name": "stdout",
     "output_type": "stream",
     "text": [
      "Skipping invalid sample: Q: Unable to generate a question., A: Unable to generate a response.\n"
     ]
    },
    {
     "name": "stderr",
     "output_type": "stream",
     "text": [
      "Generating samples:  14%|█▍        | 1409/10000 [6:37:29<43:15:57, 18.13s/it]"
     ]
    },
    {
     "name": "stdout",
     "output_type": "stream",
     "text": [
      "Skipping invalid sample: Q: Unable to generate a question., A: Unable to generate a response.\n"
     ]
    },
    {
     "name": "stderr",
     "output_type": "stream",
     "text": [
      "Generating samples:  14%|█▍        | 1428/10000 [6:42:49<39:00:50, 16.38s/it]"
     ]
    },
    {
     "name": "stdout",
     "output_type": "stream",
     "text": [
      "Skipping invalid sample: Q: Unable to generate a question., A: Unable to generate a response.\n"
     ]
    },
    {
     "name": "stderr",
     "output_type": "stream",
     "text": [
      "Generating samples:  14%|█▍        | 1439/10000 [6:45:22<32:04:51, 13.49s/it]"
     ]
    },
    {
     "name": "stdout",
     "output_type": "stream",
     "text": [
      "Skipping invalid sample: Q: Unable to generate a question., A: Unable to generate a response.\n"
     ]
    },
    {
     "name": "stderr",
     "output_type": "stream",
     "text": [
      "Generating samples:  14%|█▍        | 1443/10000 [6:46:21<30:49:32, 12.97s/it]"
     ]
    },
    {
     "name": "stdout",
     "output_type": "stream",
     "text": [
      "Skipping invalid sample: Q: Unable to generate a question., A: Unable to generate a response.\n"
     ]
    },
    {
     "name": "stderr",
     "output_type": "stream",
     "text": [
      "Generating samples:  15%|█▍        | 1464/10000 [6:52:14<45:53:35, 19.36s/it]"
     ]
    },
    {
     "name": "stdout",
     "output_type": "stream",
     "text": [
      "Skipping invalid sample: Q: Unable to generate a question., A: Unable to generate a response.\n"
     ]
    },
    {
     "name": "stderr",
     "output_type": "stream",
     "text": [
      "Generating samples:  15%|█▍        | 1467/10000 [6:53:11<43:30:40, 18.36s/it]"
     ]
    },
    {
     "name": "stdout",
     "output_type": "stream",
     "text": [
      "Skipping invalid sample: Q: Unable to generate a question., A: Unable to generate a response.\n"
     ]
    },
    {
     "name": "stderr",
     "output_type": "stream",
     "text": [
      "Generating samples:  15%|█▍        | 1496/10000 [7:00:53<45:30:23, 19.26s/it]"
     ]
    },
    {
     "name": "stdout",
     "output_type": "stream",
     "text": [
      "Skipping invalid sample: Q: Unable to generate a question., A: Unable to generate a response.\n"
     ]
    },
    {
     "name": "stderr",
     "output_type": "stream",
     "text": [
      "Generating samples:  15%|█▌        | 1500/10000 [7:01:53<34:31:39, 14.62s/it]"
     ]
    },
    {
     "name": "stdout",
     "output_type": "stream",
     "text": [
      "Generated 1500 samples...\n"
     ]
    },
    {
     "name": "stderr",
     "output_type": "stream",
     "text": [
      "Generating samples:  16%|█▌        | 1600/10000 [7:30:52<31:50:09, 13.64s/it]"
     ]
    },
    {
     "name": "stdout",
     "output_type": "stream",
     "text": [
      "Generated 1600 samples...\n"
     ]
    },
    {
     "name": "stderr",
     "output_type": "stream",
     "text": [
      "Generating samples:  16%|█▌        | 1604/10000 [7:32:07<39:55:22, 17.12s/it]"
     ]
    },
    {
     "name": "stdout",
     "output_type": "stream",
     "text": [
      "Skipping invalid sample: Q: Unable to generate a question., A: Unable to generate a response.\n"
     ]
    },
    {
     "name": "stderr",
     "output_type": "stream",
     "text": [
      "Generating samples:  16%|█▌        | 1606/10000 [7:32:22<27:26:12, 11.77s/it]"
     ]
    },
    {
     "name": "stdout",
     "output_type": "stream",
     "text": [
      "Skipping invalid sample: Q: Unable to generate a question., A: Unable to generate a response.\n"
     ]
    },
    {
     "name": "stderr",
     "output_type": "stream",
     "text": [
      "Generating samples:  16%|█▌        | 1613/10000 [7:34:44<49:01:17, 21.04s/it]"
     ]
    },
    {
     "name": "stdout",
     "output_type": "stream",
     "text": [
      "Skipping invalid sample: Q: Unable to generate a question., A: Unable to generate a response.\n"
     ]
    },
    {
     "name": "stderr",
     "output_type": "stream",
     "text": [
      "Generating samples:  16%|█▌        | 1624/10000 [7:37:38<36:52:15, 15.85s/it]"
     ]
    },
    {
     "name": "stdout",
     "output_type": "stream",
     "text": [
      "Skipping invalid sample: Q: Unable to generate a question., A: Unable to generate a response.\n"
     ]
    },
    {
     "name": "stderr",
     "output_type": "stream",
     "text": [
      "Generating samples:  16%|█▋        | 1643/10000 [7:43:07<29:44:54, 12.81s/it]"
     ]
    },
    {
     "name": "stdout",
     "output_type": "stream",
     "text": [
      "Skipping invalid sample: Q: Unable to generate a question., A: Unable to generate a response.\n"
     ]
    },
    {
     "name": "stderr",
     "output_type": "stream",
     "text": [
      "Generating samples:  16%|█▋        | 1644/10000 [7:43:15<26:27:29, 11.40s/it]"
     ]
    },
    {
     "name": "stdout",
     "output_type": "stream",
     "text": [
      "Skipping invalid sample: Q: Unable to generate a question., A: Unable to generate a response.\n"
     ]
    },
    {
     "name": "stderr",
     "output_type": "stream",
     "text": [
      "Generating samples:  16%|█▋        | 1650/10000 [7:45:04<38:44:55, 16.71s/it]"
     ]
    },
    {
     "name": "stdout",
     "output_type": "stream",
     "text": [
      "Skipping invalid sample: Q: Unable to generate a question., A: Unable to generate a response.\n"
     ]
    },
    {
     "name": "stderr",
     "output_type": "stream",
     "text": [
      "Generating samples:  17%|█▋        | 1668/10000 [7:49:49<36:42:31, 15.86s/it]"
     ]
    },
    {
     "name": "stdout",
     "output_type": "stream",
     "text": [
      "Skipping invalid sample: Q: Unable to generate a question., A: Unable to generate a response.\n"
     ]
    },
    {
     "name": "stderr",
     "output_type": "stream",
     "text": [
      "Generating samples:  17%|█▋        | 1700/10000 [8:00:36<53:16:43, 23.11s/it]"
     ]
    },
    {
     "name": "stdout",
     "output_type": "stream",
     "text": [
      "Generated 1700 samples...\n"
     ]
    },
    {
     "name": "stderr",
     "output_type": "stream",
     "text": [
      "Generating samples:  18%|█▊        | 1763/10000 [8:17:31<30:13:35, 13.21s/it]"
     ]
    },
    {
     "name": "stdout",
     "output_type": "stream",
     "text": [
      "Skipping invalid sample: Q: Unable to generate a question., A: Unable to generate a response.\n"
     ]
    },
    {
     "name": "stderr",
     "output_type": "stream",
     "text": [
      "Generating samples:  18%|█▊        | 1800/10000 [8:27:05<33:15:40, 14.60s/it]"
     ]
    },
    {
     "name": "stdout",
     "output_type": "stream",
     "text": [
      "Generated 1800 samples...\n"
     ]
    },
    {
     "name": "stderr",
     "output_type": "stream",
     "text": [
      "Generating samples:  18%|█▊        | 1811/10000 [8:30:27<39:48:23, 17.50s/it]"
     ]
    },
    {
     "name": "stdout",
     "output_type": "stream",
     "text": [
      "Skipping invalid sample: Q: Unable to generate a question., A: Unable to generate a response.\n"
     ]
    },
    {
     "name": "stderr",
     "output_type": "stream",
     "text": [
      "Generating samples:  18%|█▊        | 1822/10000 [8:33:10<37:30:59, 16.52s/it]"
     ]
    },
    {
     "name": "stdout",
     "output_type": "stream",
     "text": [
      "Skipping invalid sample: Q: Unable to generate a question., A: Unable to generate a response.\n"
     ]
    },
    {
     "name": "stderr",
     "output_type": "stream",
     "text": [
      "Generating samples:  18%|█▊        | 1823/10000 [8:33:12<27:51:50, 12.27s/it]"
     ]
    },
    {
     "name": "stdout",
     "output_type": "stream",
     "text": [
      "Skipping invalid sample: Q: Unable to generate a question., A: Unable to generate a response.\n"
     ]
    },
    {
     "name": "stderr",
     "output_type": "stream",
     "text": [
      "Generating samples:  18%|█▊        | 1831/10000 [8:35:00<23:48:36, 10.49s/it]"
     ]
    },
    {
     "name": "stdout",
     "output_type": "stream",
     "text": [
      "Skipping invalid sample: Q: Unable to generate a question., A: Unable to generate a response.\n"
     ]
    },
    {
     "name": "stderr",
     "output_type": "stream",
     "text": [
      "Generating samples:  18%|█▊        | 1836/10000 [8:36:20<36:32:15, 16.11s/it]"
     ]
    },
    {
     "name": "stdout",
     "output_type": "stream",
     "text": [
      "Skipping invalid sample: Q: Unable to generate a question., A: Unable to generate a response.\n"
     ]
    },
    {
     "name": "stderr",
     "output_type": "stream",
     "text": [
      "Generating samples:  18%|█▊        | 1841/10000 [8:37:42<32:39:57, 14.41s/it]"
     ]
    },
    {
     "name": "stdout",
     "output_type": "stream",
     "text": [
      "Skipping invalid sample: Q: Unable to generate a question., A: Unable to generate a response.\n"
     ]
    },
    {
     "name": "stderr",
     "output_type": "stream",
     "text": [
      "Generating samples:  18%|█▊        | 1842/10000 [8:38:16<46:22:19, 20.46s/it]"
     ]
    },
    {
     "name": "stdout",
     "output_type": "stream",
     "text": [
      "Skipping invalid sample: Q: Unable to generate a question., A: Unable to generate a response.\n"
     ]
    },
    {
     "name": "stderr",
     "output_type": "stream",
     "text": [
      "Generating samples:  19%|█▊        | 1865/10000 [8:44:50<42:02:09, 18.60s/it]"
     ]
    },
    {
     "name": "stdout",
     "output_type": "stream",
     "text": [
      "Skipping invalid sample: Q: Unable to generate a question., A: Unable to generate a response.\n"
     ]
    },
    {
     "name": "stderr",
     "output_type": "stream",
     "text": [
      "Generating samples:  19%|█▊        | 1874/10000 [8:47:40<42:10:57, 18.69s/it]"
     ]
    },
    {
     "name": "stdout",
     "output_type": "stream",
     "text": [
      "Skipping invalid sample: Q: Unable to generate a question., A: Unable to generate a response.\n"
     ]
    },
    {
     "name": "stderr",
     "output_type": "stream",
     "text": [
      "Generating samples:  19%|█▉        | 1878/10000 [8:48:50<41:28:10, 18.38s/it]"
     ]
    },
    {
     "name": "stdout",
     "output_type": "stream",
     "text": [
      "Skipping invalid sample: Q: Unable to generate a question., A: Unable to generate a response.\n"
     ]
    },
    {
     "name": "stderr",
     "output_type": "stream",
     "text": [
      "Generating samples:  19%|█▉        | 1889/10000 [8:51:33<32:11:00, 14.28s/it]"
     ]
    },
    {
     "name": "stdout",
     "output_type": "stream",
     "text": [
      "Skipping invalid sample: Q: Unable to generate a question., A: Unable to generate a response.\n"
     ]
    },
    {
     "name": "stderr",
     "output_type": "stream",
     "text": [
      "Generating samples:  19%|█▉        | 1900/10000 [8:54:46<41:11:20, 18.31s/it]"
     ]
    },
    {
     "name": "stdout",
     "output_type": "stream",
     "text": [
      "Generated 1900 samples...\n"
     ]
    },
    {
     "name": "stderr",
     "output_type": "stream",
     "text": [
      "Generating samples:  19%|█▉        | 1935/10000 [9:04:46<33:49:42, 15.10s/it]"
     ]
    },
    {
     "name": "stdout",
     "output_type": "stream",
     "text": [
      "Skipping invalid sample: Q: Unable to generate a question., A: Unable to generate a response.\n"
     ]
    },
    {
     "name": "stderr",
     "output_type": "stream",
     "text": [
      "Generating samples:  19%|█▉        | 1940/10000 [9:06:00<28:55:51, 12.92s/it]"
     ]
    },
    {
     "name": "stdout",
     "output_type": "stream",
     "text": [
      "Skipping invalid sample: Q: Unable to generate a question., A: Unable to generate a response.\n"
     ]
    },
    {
     "name": "stderr",
     "output_type": "stream",
     "text": [
      "Generating samples:  19%|█▉        | 1941/10000 [9:06:14<30:03:16, 13.43s/it]"
     ]
    },
    {
     "name": "stdout",
     "output_type": "stream",
     "text": [
      "Skipping invalid sample: Q: Unable to generate a question., A: Unable to generate a response.\n"
     ]
    },
    {
     "name": "stderr",
     "output_type": "stream",
     "text": [
      "Generating samples:  19%|█▉        | 1942/10000 [9:06:17<22:48:14, 10.19s/it]"
     ]
    },
    {
     "name": "stdout",
     "output_type": "stream",
     "text": [
      "Skipping invalid sample: Q: Unable to generate a question., A: Unable to generate a response.\n"
     ]
    },
    {
     "name": "stderr",
     "output_type": "stream",
     "text": [
      "Generating samples:  20%|█▉        | 1999/10000 [9:22:16<27:57:36, 12.58s/it]"
     ]
    },
    {
     "name": "stdout",
     "output_type": "stream",
     "text": [
      "Skipping invalid sample: Q: Unable to generate a question., A: Unable to generate a response.\n"
     ]
    },
    {
     "name": "stderr",
     "output_type": "stream",
     "text": [
      "Generating samples:  20%|██        | 2000/10000 [9:22:41<36:36:44, 16.48s/it]"
     ]
    },
    {
     "name": "stdout",
     "output_type": "stream",
     "text": [
      "Generated 2000 samples...\n"
     ]
    },
    {
     "name": "stderr",
     "output_type": "stream",
     "text": [
      "Generating samples:  21%|██        | 2100/10000 [9:50:27<32:03:35, 14.61s/it]"
     ]
    },
    {
     "name": "stdout",
     "output_type": "stream",
     "text": [
      "Generated 2100 samples...\n"
     ]
    },
    {
     "name": "stderr",
     "output_type": "stream",
     "text": [
      "Generating samples:  21%|██▏       | 2135/10000 [10:01:15<31:34:42, 14.45s/it]"
     ]
    },
    {
     "name": "stdout",
     "output_type": "stream",
     "text": [
      "Skipping invalid sample: Q: Unable to generate a question., A: Unable to generate a response.\n"
     ]
    },
    {
     "name": "stderr",
     "output_type": "stream",
     "text": [
      "Generating samples:  21%|██▏       | 2138/10000 [10:01:54<29:32:34, 13.53s/it]"
     ]
    },
    {
     "name": "stdout",
     "output_type": "stream",
     "text": [
      "Skipping invalid sample: Q: Unable to generate a question., A: Unable to generate a response.\n"
     ]
    },
    {
     "name": "stderr",
     "output_type": "stream",
     "text": [
      "Generating samples:  21%|██▏       | 2139/10000 [10:01:56<22:26:44, 10.28s/it]"
     ]
    },
    {
     "name": "stdout",
     "output_type": "stream",
     "text": [
      "Skipping invalid sample: Q: Unable to generate a question., A: Unable to generate a response.\n"
     ]
    },
    {
     "name": "stderr",
     "output_type": "stream",
     "text": [
      "Generating samples:  22%|██▏       | 2154/10000 [10:05:54<33:17:28, 15.28s/it]"
     ]
    },
    {
     "name": "stdout",
     "output_type": "stream",
     "text": [
      "Skipping invalid sample: Q: Unable to generate a question., A: Unable to generate a response.\n"
     ]
    },
    {
     "name": "stderr",
     "output_type": "stream",
     "text": [
      "Generating samples:  22%|██▏       | 2189/10000 [10:15:02<31:40:43, 14.60s/it]"
     ]
    },
    {
     "name": "stdout",
     "output_type": "stream",
     "text": [
      "Skipping invalid sample: Q: Unable to generate a question., A: Unable to generate a response.\n"
     ]
    },
    {
     "name": "stderr",
     "output_type": "stream",
     "text": [
      "Generating samples:  22%|██▏       | 2191/10000 [10:15:28<30:43:31, 14.16s/it]"
     ]
    },
    {
     "name": "stdout",
     "output_type": "stream",
     "text": [
      "Skipping invalid sample: Q: Unable to generate a question., A: Unable to generate a response.\n"
     ]
    },
    {
     "name": "stderr",
     "output_type": "stream",
     "text": [
      "Generating samples:  22%|██▏       | 2200/10000 [10:18:08<35:28:09, 16.37s/it]"
     ]
    },
    {
     "name": "stdout",
     "output_type": "stream",
     "text": [
      "Generated 2200 samples...\n"
     ]
    },
    {
     "name": "stderr",
     "output_type": "stream",
     "text": [
      "Generating samples:  23%|██▎       | 2280/10000 [10:41:04<31:38:25, 14.75s/it]"
     ]
    },
    {
     "name": "stdout",
     "output_type": "stream",
     "text": [
      "Skipping invalid sample: Q: Unable to generate a question., A: Unable to generate a response.\n"
     ]
    },
    {
     "name": "stderr",
     "output_type": "stream",
     "text": [
      "Generating samples:  23%|██▎       | 2300/10000 [10:47:16<40:19:51, 18.86s/it]"
     ]
    },
    {
     "name": "stdout",
     "output_type": "stream",
     "text": [
      "Generated 2300 samples...\n"
     ]
    },
    {
     "name": "stderr",
     "output_type": "stream",
     "text": [
      "Generating samples:  24%|██▍       | 2376/10000 [11:09:49<28:57:45, 13.68s/it]"
     ]
    },
    {
     "name": "stdout",
     "output_type": "stream",
     "text": [
      "Skipping invalid sample: Q: Unable to generate a question., A: Unable to generate a response.\n"
     ]
    },
    {
     "name": "stderr",
     "output_type": "stream",
     "text": [
      "Generating samples:  24%|██▍       | 2399/10000 [11:16:23<36:59:05, 17.52s/it]"
     ]
    },
    {
     "name": "stdout",
     "output_type": "stream",
     "text": [
      "Skipping invalid sample: Q: Unable to generate a question., A: Unable to generate a response.\n"
     ]
    },
    {
     "name": "stderr",
     "output_type": "stream",
     "text": [
      "Generating samples:  24%|██▍       | 2400/10000 [11:16:58<48:26:03, 22.94s/it]"
     ]
    },
    {
     "name": "stdout",
     "output_type": "stream",
     "text": [
      "Generated 2400 samples...\n"
     ]
    },
    {
     "name": "stderr",
     "output_type": "stream",
     "text": [
      "Generating samples:  24%|██▍       | 2412/10000 [11:20:39<39:12:04, 18.60s/it]"
     ]
    },
    {
     "name": "stdout",
     "output_type": "stream",
     "text": [
      "Skipping invalid sample: Q: Unable to generate a question., A: Unable to generate a response.\n"
     ]
    },
    {
     "name": "stderr",
     "output_type": "stream",
     "text": [
      "Generating samples:  25%|██▍       | 2458/10000 [11:33:27<19:41:13,  9.40s/it]"
     ]
    },
    {
     "name": "stdout",
     "output_type": "stream",
     "text": [
      "Skipping invalid sample: Q: Unable to generate a question., A: Unable to generate a response.\n"
     ]
    },
    {
     "name": "stderr",
     "output_type": "stream",
     "text": [
      "Generating samples:  25%|██▍       | 2465/10000 [11:35:29<34:44:35, 16.60s/it]"
     ]
    },
    {
     "name": "stdout",
     "output_type": "stream",
     "text": [
      "Skipping invalid sample: Q: Unable to generate a question., A: Unable to generate a response.\n"
     ]
    },
    {
     "name": "stderr",
     "output_type": "stream",
     "text": [
      "Generating samples:  25%|██▌       | 2500/10000 [11:45:33<31:12:53, 14.98s/it]"
     ]
    },
    {
     "name": "stdout",
     "output_type": "stream",
     "text": [
      "Generated 2500 samples...\n"
     ]
    },
    {
     "name": "stderr",
     "output_type": "stream",
     "text": [
      "Generating samples:  25%|██▌       | 2530/10000 [11:54:11<35:21:58, 17.04s/it]"
     ]
    },
    {
     "name": "stdout",
     "output_type": "stream",
     "text": [
      "Skipping invalid sample: Q: Unable to generate a question., A: Unable to generate a response.\n"
     ]
    },
    {
     "name": "stderr",
     "output_type": "stream",
     "text": [
      "Generating samples:  25%|██▌       | 2536/10000 [11:55:42<27:13:13, 13.13s/it]"
     ]
    },
    {
     "name": "stdout",
     "output_type": "stream",
     "text": [
      "Skipping invalid sample: Q: Unable to generate a question., A: Unable to generate a response.\n"
     ]
    },
    {
     "name": "stderr",
     "output_type": "stream",
     "text": [
      "Generating samples:  25%|██▌       | 2542/10000 [11:57:18<25:55:32, 12.51s/it]"
     ]
    },
    {
     "name": "stdout",
     "output_type": "stream",
     "text": [
      "Skipping invalid sample: Q: Unable to generate a question., A: Unable to generate a response.\n"
     ]
    },
    {
     "name": "stderr",
     "output_type": "stream",
     "text": [
      "Generating samples:  26%|██▌       | 2553/10000 [12:00:23<29:22:29, 14.20s/it]"
     ]
    },
    {
     "name": "stdout",
     "output_type": "stream",
     "text": [
      "Skipping invalid sample: Q: Unable to generate a question., A: Unable to generate a response.\n"
     ]
    },
    {
     "name": "stderr",
     "output_type": "stream",
     "text": [
      "Generating samples:  26%|██▌       | 2600/10000 [12:13:38<35:14:31, 17.14s/it]"
     ]
    },
    {
     "name": "stdout",
     "output_type": "stream",
     "text": [
      "Generated 2600 samples...\n"
     ]
    },
    {
     "name": "stderr",
     "output_type": "stream",
     "text": [
      "Generating samples:  26%|██▌       | 2620/10000 [12:18:42<24:39:10, 12.03s/it]"
     ]
    },
    {
     "name": "stdout",
     "output_type": "stream",
     "text": [
      "Skipping invalid sample: Q: Unable to generate a question., A: Unable to generate a response.\n"
     ]
    },
    {
     "name": "stderr",
     "output_type": "stream",
     "text": [
      "Generating samples:  26%|██▋       | 2629/10000 [12:21:02<30:17:58, 14.80s/it]"
     ]
    },
    {
     "name": "stdout",
     "output_type": "stream",
     "text": [
      "Skipping invalid sample: Q: Unable to generate a question., A: Unable to generate a response.\n"
     ]
    },
    {
     "name": "stderr",
     "output_type": "stream",
     "text": [
      "Generating samples:  27%|██▋       | 2677/10000 [12:34:35<29:57:01, 14.72s/it]"
     ]
    },
    {
     "name": "stdout",
     "output_type": "stream",
     "text": [
      "Skipping invalid sample: Q: Unable to generate a question., A: Unable to generate a response.\n"
     ]
    },
    {
     "name": "stderr",
     "output_type": "stream",
     "text": [
      "Generating samples:  27%|██▋       | 2700/10000 [12:39:51<29:15:09, 14.43s/it]"
     ]
    },
    {
     "name": "stdout",
     "output_type": "stream",
     "text": [
      "Generated 2700 samples...\n"
     ]
    },
    {
     "name": "stderr",
     "output_type": "stream",
     "text": [
      "Generating samples:  27%|██▋       | 2727/10000 [12:46:45<32:41:31, 16.18s/it]"
     ]
    },
    {
     "name": "stdout",
     "output_type": "stream",
     "text": [
      "Skipping invalid sample: Q: Unable to generate a question., A: Unable to generate a response.\n"
     ]
    },
    {
     "name": "stderr",
     "output_type": "stream",
     "text": [
      "Generating samples:  27%|██▋       | 2733/10000 [12:48:18<31:31:13, 15.61s/it]"
     ]
    },
    {
     "name": "stdout",
     "output_type": "stream",
     "text": [
      "Skipping invalid sample: Q: Unable to generate a question., A: Unable to generate a response.\n"
     ]
    },
    {
     "name": "stderr",
     "output_type": "stream",
     "text": [
      "Generating samples:  27%|██▋       | 2737/10000 [12:49:37<38:23:45, 19.03s/it]"
     ]
    },
    {
     "name": "stdout",
     "output_type": "stream",
     "text": [
      "Skipping invalid sample: Q: Unable to generate a question., A: Unable to generate a response.\n"
     ]
    },
    {
     "name": "stderr",
     "output_type": "stream",
     "text": [
      "Generating samples:  28%|██▊       | 2780/10000 [13:01:28<37:56:10, 18.92s/it]"
     ]
    },
    {
     "name": "stdout",
     "output_type": "stream",
     "text": [
      "Skipping invalid sample: Q: Unable to generate a question., A: Unable to generate a response.\n"
     ]
    },
    {
     "name": "stderr",
     "output_type": "stream",
     "text": [
      "Generating samples:  28%|██▊       | 2791/10000 [13:04:15<32:12:20, 16.08s/it]"
     ]
    },
    {
     "name": "stdout",
     "output_type": "stream",
     "text": [
      "Skipping invalid sample: Q: Unable to generate a question., A: Unable to generate a response.\n"
     ]
    },
    {
     "name": "stderr",
     "output_type": "stream",
     "text": [
      "Generating samples:  28%|██▊       | 2800/10000 [13:06:38<29:58:32, 14.99s/it]"
     ]
    },
    {
     "name": "stdout",
     "output_type": "stream",
     "text": [
      "Generated 2800 samples...\n"
     ]
    },
    {
     "name": "stderr",
     "output_type": "stream",
     "text": [
      "Generating samples:  29%|██▉       | 2888/10000 [13:30:25<40:46:04, 20.64s/it]"
     ]
    },
    {
     "name": "stdout",
     "output_type": "stream",
     "text": [
      "Skipping invalid sample: Q: Unable to generate a question., A: Unable to generate a response.\n"
     ]
    },
    {
     "name": "stderr",
     "output_type": "stream",
     "text": [
      "Generating samples:  29%|██▉       | 2900/10000 [13:33:57<35:34:46, 18.04s/it]"
     ]
    },
    {
     "name": "stdout",
     "output_type": "stream",
     "text": [
      "Generated 2900 samples...\n"
     ]
    },
    {
     "name": "stderr",
     "output_type": "stream",
     "text": [
      "Generating samples:  29%|██▉       | 2926/10000 [13:41:41<30:08:03, 15.34s/it]"
     ]
    },
    {
     "name": "stdout",
     "output_type": "stream",
     "text": [
      "Skipping invalid sample: Q: Unable to generate a question., A: Unable to generate a response.\n"
     ]
    },
    {
     "name": "stderr",
     "output_type": "stream",
     "text": [
      "Generating samples:  29%|██▉       | 2929/10000 [13:42:37<32:14:32, 16.42s/it]"
     ]
    },
    {
     "name": "stdout",
     "output_type": "stream",
     "text": [
      "Skipping invalid sample: Q: Unable to generate a question., A: Unable to generate a response.\n"
     ]
    },
    {
     "name": "stderr",
     "output_type": "stream",
     "text": [
      "Generating samples:  29%|██▉       | 2943/10000 [13:46:14<27:42:09, 14.13s/it]"
     ]
    },
    {
     "name": "stdout",
     "output_type": "stream",
     "text": [
      "Skipping invalid sample: Q: Unable to generate a question., A: Unable to generate a response.\n"
     ]
    },
    {
     "name": "stderr",
     "output_type": "stream",
     "text": [
      "Generating samples:  29%|██▉       | 2944/10000 [13:46:37<32:59:03, 16.83s/it]"
     ]
    },
    {
     "name": "stdout",
     "output_type": "stream",
     "text": [
      "Skipping invalid sample: Q: Unable to generate a question., A: Unable to generate a response.\n"
     ]
    },
    {
     "name": "stderr",
     "output_type": "stream",
     "text": [
      "Generating samples:  30%|██▉       | 2972/10000 [13:54:33<33:30:41, 17.17s/it]"
     ]
    },
    {
     "name": "stdout",
     "output_type": "stream",
     "text": [
      "Skipping invalid sample: Q: Unable to generate a question., A: Unable to generate a response.\n"
     ]
    },
    {
     "name": "stderr",
     "output_type": "stream",
     "text": [
      "Generating samples:  30%|██▉       | 2995/10000 [14:02:09<45:25:39, 23.35s/it]"
     ]
    },
    {
     "name": "stdout",
     "output_type": "stream",
     "text": [
      "Skipping invalid sample: Q: Unable to generate a question., A: Unable to generate a response.\n"
     ]
    },
    {
     "name": "stderr",
     "output_type": "stream",
     "text": [
      "Generating samples:  30%|███       | 3000/10000 [14:03:32<33:36:43, 17.29s/it]"
     ]
    },
    {
     "name": "stdout",
     "output_type": "stream",
     "text": [
      "Generated 3000 samples...\n"
     ]
    },
    {
     "name": "stderr",
     "output_type": "stream",
     "text": [
      "Generating samples:  31%|███       | 3056/10000 [14:20:05<28:54:11, 14.98s/it]"
     ]
    },
    {
     "name": "stdout",
     "output_type": "stream",
     "text": [
      "Skipping invalid sample: Q: Unable to generate a question., A: Unable to generate a response.\n"
     ]
    },
    {
     "name": "stderr",
     "output_type": "stream",
     "text": [
      "Generating samples:  31%|███       | 3070/10000 [14:23:29<20:33:47, 10.68s/it]"
     ]
    },
    {
     "name": "stdout",
     "output_type": "stream",
     "text": [
      "Skipping invalid sample: Q: Unable to generate a question., A: Unable to generate a response.\n"
     ]
    },
    {
     "name": "stderr",
     "output_type": "stream",
     "text": [
      "Generating samples:  31%|███       | 3081/10000 [14:26:40<31:10:51, 16.22s/it]"
     ]
    },
    {
     "name": "stdout",
     "output_type": "stream",
     "text": [
      "Skipping invalid sample: Q: Unable to generate a question., A: Unable to generate a response.\n"
     ]
    },
    {
     "name": "stderr",
     "output_type": "stream",
     "text": [
      "Generating samples:  31%|███       | 3099/10000 [14:31:28<31:43:04, 16.55s/it]"
     ]
    },
    {
     "name": "stdout",
     "output_type": "stream",
     "text": [
      "Skipping invalid sample: Q: Unable to generate a question., A: Unable to generate a response.\n"
     ]
    },
    {
     "name": "stderr",
     "output_type": "stream",
     "text": [
      "Generating samples:  31%|███       | 3100/10000 [14:31:50<34:26:05, 17.97s/it]"
     ]
    },
    {
     "name": "stdout",
     "output_type": "stream",
     "text": [
      "Generated 3100 samples...\n"
     ]
    },
    {
     "name": "stderr",
     "output_type": "stream",
     "text": [
      "Generating samples:  31%|███       | 3123/10000 [14:38:34<40:21:14, 21.12s/it]"
     ]
    },
    {
     "name": "stdout",
     "output_type": "stream",
     "text": [
      "Skipping invalid sample: Q: Unable to generate a question., A: Unable to generate a response.\n"
     ]
    },
    {
     "name": "stderr",
     "output_type": "stream",
     "text": [
      "Generating samples:  32%|███▏      | 3159/10000 [14:47:33<20:06:02, 10.58s/it]"
     ]
    },
    {
     "name": "stdout",
     "output_type": "stream",
     "text": [
      "Skipping invalid sample: Q: Unable to generate a question., A: Unable to generate a response.\n"
     ]
    },
    {
     "name": "stderr",
     "output_type": "stream",
     "text": [
      "Generating samples:  32%|███▏      | 3178/10000 [14:53:46<26:54:15, 14.20s/it]"
     ]
    },
    {
     "name": "stdout",
     "output_type": "stream",
     "text": [
      "Skipping invalid sample: Q: Unable to generate a question., A: Unable to generate a response.\n"
     ]
    },
    {
     "name": "stderr",
     "output_type": "stream",
     "text": [
      "Generating samples:  32%|███▏      | 3200/10000 [15:00:32<32:00:43, 16.95s/it]"
     ]
    },
    {
     "name": "stdout",
     "output_type": "stream",
     "text": [
      "Generated 3200 samples...\n"
     ]
    },
    {
     "name": "stderr",
     "output_type": "stream",
     "text": [
      "Generating samples:  33%|███▎      | 3269/10000 [15:19:23<32:15:16, 17.25s/it]"
     ]
    },
    {
     "name": "stdout",
     "output_type": "stream",
     "text": [
      "Skipping invalid sample: Q: Unable to generate a question., A: Unable to generate a response.\n"
     ]
    },
    {
     "name": "stderr",
     "output_type": "stream",
     "text": [
      "Generating samples:  33%|███▎      | 3293/10000 [15:26:08<24:01:35, 12.90s/it]"
     ]
    },
    {
     "name": "stdout",
     "output_type": "stream",
     "text": [
      "Skipping invalid sample: Q: Unable to generate a question., A: Unable to generate a response.\n"
     ]
    },
    {
     "name": "stderr",
     "output_type": "stream",
     "text": [
      "Generating samples:  33%|███▎      | 3300/10000 [15:27:59<31:48:08, 17.09s/it]"
     ]
    },
    {
     "name": "stdout",
     "output_type": "stream",
     "text": [
      "Generated 3300 samples...\n"
     ]
    },
    {
     "name": "stderr",
     "output_type": "stream",
     "text": [
      "Generating samples:  33%|███▎      | 3335/10000 [15:37:51<27:24:12, 14.80s/it]"
     ]
    },
    {
     "name": "stdout",
     "output_type": "stream",
     "text": [
      "Skipping invalid sample: Q: Unable to generate a question., A: Unable to generate a response.\n"
     ]
    },
    {
     "name": "stderr",
     "output_type": "stream",
     "text": [
      "Generating samples:  33%|███▎      | 3346/10000 [15:40:47<40:03:20, 21.67s/it]"
     ]
    },
    {
     "name": "stdout",
     "output_type": "stream",
     "text": [
      "Skipping invalid sample: Q: Unable to generate a question., A: Unable to generate a response.\n"
     ]
    },
    {
     "name": "stderr",
     "output_type": "stream",
     "text": [
      "Generating samples:  34%|███▎      | 3356/10000 [15:43:44<30:41:00, 16.63s/it]"
     ]
    },
    {
     "name": "stdout",
     "output_type": "stream",
     "text": [
      "Skipping invalid sample: Q: Unable to generate a question., A: Unable to generate a response.\n"
     ]
    },
    {
     "name": "stderr",
     "output_type": "stream",
     "text": [
      "Generating samples:  34%|███▍      | 3400/10000 [15:57:09<33:37:07, 18.34s/it]"
     ]
    },
    {
     "name": "stdout",
     "output_type": "stream",
     "text": [
      "Generated 3400 samples...\n"
     ]
    },
    {
     "name": "stderr",
     "output_type": "stream",
     "text": [
      "Generating samples:  34%|███▍      | 3407/10000 [15:59:05<36:18:32, 19.83s/it]"
     ]
    },
    {
     "name": "stdout",
     "output_type": "stream",
     "text": [
      "Skipping invalid sample: Q: Unable to generate a question., A: Unable to generate a response.\n"
     ]
    },
    {
     "name": "stderr",
     "output_type": "stream",
     "text": [
      "Generating samples:  34%|███▍      | 3446/10000 [16:10:24<26:14:36, 14.42s/it]"
     ]
    },
    {
     "name": "stdout",
     "output_type": "stream",
     "text": [
      "Skipping invalid sample: Q: Unable to generate a question., A: Unable to generate a response.\n"
     ]
    },
    {
     "name": "stderr",
     "output_type": "stream",
     "text": [
      "Generating samples:  35%|███▍      | 3487/10000 [16:21:57<21:42:16, 12.00s/it]"
     ]
    },
    {
     "name": "stdout",
     "output_type": "stream",
     "text": [
      "Skipping invalid sample: Q: Unable to generate a question., A: Unable to generate a response.\n"
     ]
    },
    {
     "name": "stderr",
     "output_type": "stream",
     "text": [
      "Generating samples:  35%|███▌      | 3500/10000 [16:25:45<30:32:23, 16.91s/it]"
     ]
    },
    {
     "name": "stdout",
     "output_type": "stream",
     "text": [
      "Generated 3500 samples...\n"
     ]
    },
    {
     "name": "stderr",
     "output_type": "stream",
     "text": [
      "Generating samples:  35%|███▌      | 3527/10000 [16:33:43<28:58:22, 16.11s/it]"
     ]
    },
    {
     "name": "stdout",
     "output_type": "stream",
     "text": [
      "Skipping invalid sample: Q: Unable to generate a question., A: Unable to generate a response.\n"
     ]
    },
    {
     "name": "stderr",
     "output_type": "stream",
     "text": [
      "Generating samples:  35%|███▌      | 3531/10000 [16:34:27<19:24:49, 10.80s/it]"
     ]
    },
    {
     "name": "stdout",
     "output_type": "stream",
     "text": [
      "Skipping invalid sample: Q: Unable to generate a question., A: Unable to generate a response.\n"
     ]
    },
    {
     "name": "stderr",
     "output_type": "stream",
     "text": [
      "Generating samples:  36%|███▌      | 3552/10000 [16:39:47<23:57:40, 13.38s/it]"
     ]
    },
    {
     "name": "stdout",
     "output_type": "stream",
     "text": [
      "Skipping invalid sample: Q: Unable to generate a question., A: Unable to generate a response.\n"
     ]
    },
    {
     "name": "stderr",
     "output_type": "stream",
     "text": [
      "Generating samples:  36%|███▌      | 3600/10000 [16:52:56<22:35:08, 12.70s/it]"
     ]
    },
    {
     "name": "stdout",
     "output_type": "stream",
     "text": [
      "Skipping invalid sample: Q: Unable to generate a question., A: Unable to generate a response.\n",
      "Generated 3600 samples...\n"
     ]
    },
    {
     "name": "stderr",
     "output_type": "stream",
     "text": [
      "Generating samples:  36%|███▋      | 3640/10000 [17:02:52<21:17:54, 12.06s/it]"
     ]
    },
    {
     "name": "stdout",
     "output_type": "stream",
     "text": [
      "Skipping invalid sample: Q: Unable to generate a question., A: Unable to generate a response.\n"
     ]
    },
    {
     "name": "stderr",
     "output_type": "stream",
     "text": [
      "Generating samples:  37%|███▋      | 3700/10000 [17:20:51<25:09:02, 14.37s/it]"
     ]
    },
    {
     "name": "stdout",
     "output_type": "stream",
     "text": [
      "Generated 3700 samples...\n"
     ]
    },
    {
     "name": "stderr",
     "output_type": "stream",
     "text": [
      "Generating samples:  38%|███▊      | 3751/10000 [17:36:32<30:49:53, 17.76s/it]"
     ]
    },
    {
     "name": "stdout",
     "output_type": "stream",
     "text": [
      "Skipping invalid sample: Q: Unable to generate a question., A: Unable to generate a response.\n"
     ]
    },
    {
     "name": "stderr",
     "output_type": "stream",
     "text": [
      "Generating samples:  38%|███▊      | 3763/10000 [17:40:16<28:37:54, 16.53s/it]"
     ]
    },
    {
     "name": "stdout",
     "output_type": "stream",
     "text": [
      "Skipping invalid sample: Q: Unable to generate a question., A: Unable to generate a response.\n"
     ]
    },
    {
     "name": "stderr",
     "output_type": "stream",
     "text": [
      "Generating samples:  38%|███▊      | 3800/10000 [17:50:55<28:12:21, 16.38s/it]"
     ]
    },
    {
     "name": "stdout",
     "output_type": "stream",
     "text": [
      "Generated 3800 samples...\n"
     ]
    },
    {
     "name": "stderr",
     "output_type": "stream",
     "text": [
      "Generating samples:  38%|███▊      | 3801/10000 [17:51:24<34:42:17, 20.15s/it]"
     ]
    },
    {
     "name": "stdout",
     "output_type": "stream",
     "text": [
      "Skipping invalid sample: Q: Unable to generate a question., A: Unable to generate a response.\n"
     ]
    },
    {
     "name": "stderr",
     "output_type": "stream",
     "text": [
      "Generating samples:  38%|███▊      | 3805/10000 [17:52:18<25:16:13, 14.69s/it]"
     ]
    },
    {
     "name": "stdout",
     "output_type": "stream",
     "text": [
      "Skipping invalid sample: Q: Unable to generate a question., A: Unable to generate a response.\n"
     ]
    },
    {
     "name": "stderr",
     "output_type": "stream",
     "text": [
      "Generating samples:  38%|███▊      | 3827/10000 [17:58:29<29:03:29, 16.95s/it]"
     ]
    },
    {
     "name": "stdout",
     "output_type": "stream",
     "text": [
      "Skipping invalid sample: Q: Unable to generate a question., A: Unable to generate a response.\n"
     ]
    },
    {
     "name": "stderr",
     "output_type": "stream",
     "text": [
      "Generating samples:  38%|███▊      | 3829/10000 [17:59:01<27:58:11, 16.32s/it]"
     ]
    },
    {
     "name": "stdout",
     "output_type": "stream",
     "text": [
      "Skipping invalid sample: Q: Unable to generate a question., A: Unable to generate a response.\n"
     ]
    },
    {
     "name": "stderr",
     "output_type": "stream",
     "text": [
      "Generating samples:  38%|███▊      | 3832/10000 [17:59:33<20:59:29, 12.25s/it]"
     ]
    },
    {
     "name": "stdout",
     "output_type": "stream",
     "text": [
      "Skipping invalid sample: Q: Unable to generate a question., A: Unable to generate a response.\n"
     ]
    },
    {
     "name": "stderr",
     "output_type": "stream",
     "text": [
      "Generating samples:  39%|███▉      | 3885/10000 [18:14:03<28:26:46, 16.75s/it]"
     ]
    },
    {
     "name": "stdout",
     "output_type": "stream",
     "text": [
      "Skipping invalid sample: Q: Unable to generate a question., A: Unable to generate a response.\n"
     ]
    },
    {
     "name": "stderr",
     "output_type": "stream",
     "text": [
      "Generating samples:  39%|███▉      | 3888/10000 [18:15:10<31:52:07, 18.77s/it]"
     ]
    },
    {
     "name": "stdout",
     "output_type": "stream",
     "text": [
      "Skipping invalid sample: Q: Unable to generate a question., A: Unable to generate a response.\n"
     ]
    },
    {
     "name": "stderr",
     "output_type": "stream",
     "text": [
      "Generating samples:  39%|███▉      | 3889/10000 [18:15:13<23:41:43, 13.96s/it]"
     ]
    },
    {
     "name": "stdout",
     "output_type": "stream",
     "text": [
      "Skipping invalid sample: Q: Unable to generate a question., A: Unable to generate a response.\n"
     ]
    },
    {
     "name": "stderr",
     "output_type": "stream",
     "text": [
      "Generating samples:  39%|███▉      | 3900/10000 [18:18:29<32:34:32, 19.22s/it]"
     ]
    },
    {
     "name": "stdout",
     "output_type": "stream",
     "text": [
      "Generated 3900 samples...\n"
     ]
    },
    {
     "name": "stderr",
     "output_type": "stream",
     "text": [
      "Generating samples:  39%|███▉      | 3945/10000 [18:31:28<21:56:21, 13.04s/it]"
     ]
    },
    {
     "name": "stdout",
     "output_type": "stream",
     "text": [
      "Skipping invalid sample: Q: Unable to generate a question., A: Unable to generate a response.\n"
     ]
    },
    {
     "name": "stderr",
     "output_type": "stream",
     "text": [
      "Generating samples:  40%|███▉      | 3958/10000 [18:35:06<31:00:19, 18.47s/it]"
     ]
    },
    {
     "name": "stdout",
     "output_type": "stream",
     "text": [
      "Skipping invalid sample: Q: Unable to generate a question., A: Unable to generate a response.\n"
     ]
    },
    {
     "name": "stderr",
     "output_type": "stream",
     "text": [
      "Generating samples:  40%|███▉      | 3964/10000 [18:36:36<22:42:20, 13.54s/it]"
     ]
    },
    {
     "name": "stdout",
     "output_type": "stream",
     "text": [
      "Skipping invalid sample: Q: Unable to generate a question., A: Unable to generate a response.\n"
     ]
    },
    {
     "name": "stderr",
     "output_type": "stream",
     "text": [
      "Generating samples:  40%|███▉      | 3977/10000 [18:40:48<29:59:35, 17.93s/it]"
     ]
    },
    {
     "name": "stdout",
     "output_type": "stream",
     "text": [
      "Skipping invalid sample: Q: Unable to generate a question., A: Unable to generate a response.\n"
     ]
    },
    {
     "name": "stderr",
     "output_type": "stream",
     "text": [
      "Generating samples:  40%|███▉      | 3987/10000 [18:43:22<23:48:47, 14.26s/it]"
     ]
    },
    {
     "name": "stdout",
     "output_type": "stream",
     "text": [
      "Skipping invalid sample: Q: Unable to generate a question., A: Unable to generate a response.\n"
     ]
    },
    {
     "name": "stderr",
     "output_type": "stream",
     "text": [
      "Generating samples:  40%|████      | 4000/10000 [18:46:39<23:10:54, 13.91s/it]"
     ]
    },
    {
     "name": "stdout",
     "output_type": "stream",
     "text": [
      "Generated 4000 samples...\n"
     ]
    },
    {
     "name": "stderr",
     "output_type": "stream",
     "text": [
      "Generating samples:  40%|████      | 4043/10000 [18:59:11<23:29:03, 14.19s/it]"
     ]
    },
    {
     "name": "stdout",
     "output_type": "stream",
     "text": [
      "Skipping invalid sample: Q: Unable to generate a question., A: Unable to generate a response.\n"
     ]
    },
    {
     "name": "stderr",
     "output_type": "stream",
     "text": [
      "Generating samples:  41%|████      | 4055/10000 [19:02:24<26:46:04, 16.21s/it]"
     ]
    },
    {
     "name": "stdout",
     "output_type": "stream",
     "text": [
      "Skipping invalid sample: Q: Unable to generate a question., A: Unable to generate a response.\n"
     ]
    },
    {
     "name": "stderr",
     "output_type": "stream",
     "text": [
      "Generating samples:  41%|████      | 4098/10000 [19:14:08<27:59:38, 17.08s/it]"
     ]
    },
    {
     "name": "stdout",
     "output_type": "stream",
     "text": [
      "Skipping invalid sample: Q: Unable to generate a question., A: Unable to generate a response.\n"
     ]
    },
    {
     "name": "stderr",
     "output_type": "stream",
     "text": [
      "Generating samples:  41%|████      | 4100/10000 [19:14:37<25:21:57, 15.48s/it]"
     ]
    },
    {
     "name": "stdout",
     "output_type": "stream",
     "text": [
      "Generated 4100 samples...\n"
     ]
    },
    {
     "name": "stderr",
     "output_type": "stream",
     "text": [
      "Generating samples:  41%|████      | 4105/10000 [19:15:40<17:05:06, 10.43s/it]"
     ]
    },
    {
     "name": "stdout",
     "output_type": "stream",
     "text": [
      "Skipping invalid sample: Q: Unable to generate a question., A: Unable to generate a response.\n"
     ]
    },
    {
     "name": "stderr",
     "output_type": "stream",
     "text": [
      "Generating samples:  42%|████▏     | 4152/10000 [19:30:03<26:14:07, 16.15s/it]"
     ]
    }
   ],
   "source": [
    "import PyPDF2\n",
    "import csv, re\n",
    "import random\n",
    "from tqdm import tqdm\n",
    "import time\n",
    "from transformers import AutoTokenizer\n",
    "from mlx_lm import load, generate\n",
    "import subprocess\n",
    "\n",
    "def run_command_with_live_output(command: list[str]) -> None:\n",
    "    process = subprocess.Popen(command, stdout=subprocess.PIPE, stderr=subprocess.PIPE, text=True)\n",
    "    while True:\n",
    "        output = process.stdout.readline()\n",
    "        if output == '' and process.poll() is not None:\n",
    "            break\n",
    "        if output:\n",
    "            print(output.strip())\n",
    "    err_output = process.stderr.read()\n",
    "    if err_output:\n",
    "        print(err_output)\n",
    "\n",
    "def extract_text_from_pdf(pdf_path):\n",
    "    print(\"Extracting text from PDF...\")\n",
    "    with open(pdf_path, 'rb') as file:\n",
    "        reader = PyPDF2.PdfReader(file)\n",
    "        text = \"\"\n",
    "        for page in tqdm(reader.pages, desc=\"Processing pages\"):\n",
    "            text += page.extract_text()\n",
    "    print(\"Text extraction completed\")\n",
    "    return text\n",
    "\n",
    "def create_chunks(text, min_chunk_size=200, max_chunk_size=1000):\n",
    "    print(\"Splitting text into chunks...\")\n",
    "    chunks = []\n",
    "    current_chunk = \"\"\n",
    "    sentences = text.split('.')\n",
    "    for sentence in tqdm(sentences, desc=\"Creating chunks\"):\n",
    "        if len(current_chunk) + len(sentence) > max_chunk_size and len(current_chunk) >= min_chunk_size:\n",
    "            chunks.append(current_chunk.strip())\n",
    "            current_chunk = sentence\n",
    "        else:\n",
    "            current_chunk += sentence + '.'\n",
    "    if current_chunk:\n",
    "        chunks.append(current_chunk.strip())\n",
    "    print(f\"Number of chunks created: {len(chunks)}\")\n",
    "    return chunks\n",
    "\n",
    "def load_model_and_tokenizer(model_path):\n",
    "    print(\"Loading model and tokenizer...\")\n",
    "    model, tokenizer = load(model_path)\n",
    "    return model, tokenizer\n",
    "\n",
    "def generate_question_response_pair(chunk, model, tokenizer, max_tokens=512):\n",
    "    instruction = \"\"\"\n",
    "    Based on the IMDG code, create a practical question and provide a detailed, informative answer. \n",
    "    All the questions should be based on the IMDG code.\n",
    "    Do not include any special markers like '**' or '<end_of_turn>'\n",
    "    Format your response as follows:\n",
    "    Question: [Your generated question]\n",
    "    Answer: [Your generated answer]\n",
    "\"\"\"\n",
    "\n",
    "    prompt = f'''<s>[INST] {instruction}\\n\\nText: {chunk} [/INST]\\n'''\n",
    "    \n",
    "    # generated_text = generate(model, tokenizer, prompt=prompt, max_tokens=max_tokens, verbose=False)\n",
    "\n",
    "    generated_text = generate(\n",
    "        model, \n",
    "        tokenizer, \n",
    "        prompt=prompt, \n",
    "        max_tokens=max_tokens, \n",
    "        temp=0.8,  # Value between 0.0 and 1.0, higher values produce more creative output\n",
    "        # top_k=50,         # Number of top tokens to consider\n",
    "        top_p=0.95,       # Select tokens until cumulative probability exceeds this value\n",
    "        verbose=False\n",
    "    )\n",
    "\n",
    "    generated_text = generated_text.replace(prompt, \"\").strip()\n",
    "    generated_text = re.sub(r'\\*\\*|<end_of_turn>', '', generated_text)\n",
    "    generated_text = re.sub(r'```', '', generated_text)\n",
    "    \n",
    "    question_start = generated_text.find(\"Question:\")\n",
    "    answer_start = generated_text.find(\"Answer:\")\n",
    "    \n",
    "    if question_start != -1 and answer_start != -1:\n",
    "        question = generated_text[question_start+9:answer_start].strip()\n",
    "        answer = generated_text[answer_start+7:].strip()\n",
    "    else:\n",
    "        question = \"Unable to generate a question.\"\n",
    "        answer = \"Unable to generate a response.\"\n",
    "    \n",
    "    return question, answer\n",
    "\n",
    "def create_fine_tuning_dataset(pdf_path, output_file, num_samples=10000):\n",
    "    start_time = time.time()\n",
    "    print(f\"Starting fine-tuning dataset creation (Target samples: {num_samples})\")\n",
    "\n",
    "    model_path = \"mlx-community/gemma-2-27b-it-4bit\"\n",
    "    model, tokenizer = load_model_and_tokenizer(model_path)\n",
    "    print(\"Model and tokenizer loaded\")\n",
    "\n",
    "    text = extract_text_from_pdf(pdf_path)\n",
    "    chunks = create_chunks(text)\n",
    "    \n",
    "    print(\"Generating question-response pairs and writing to CSV...\")\n",
    "    with open(output_file, 'w', newline='', encoding='utf-8') as csvfile:\n",
    "        writer = csv.writer(csvfile)\n",
    "        writer.writerow(['question', 'response'])\n",
    "        \n",
    "        for _ in tqdm(range(num_samples), desc=\"Generating samples\"):\n",
    "            chunk = random.choice(chunks)\n",
    "            question, response = generate_question_response_pair(chunk, model, tokenizer)\n",
    "            if question != \"Unable to generate a question.\" and response != \"Unable to generate a response.\":\n",
    "                writer.writerow([question, response])\n",
    "            else:\n",
    "                print(f\"Skipping invalid sample: Q: {question}, A: {response}\")\n",
    "            if (_ + 1) % 100 == 0:\n",
    "                print(f\"Generated {_ + 1} samples...\")\n",
    "    \n",
    "    end_time = time.time()\n",
    "    print(f\"Number of dataset samples generated: {num_samples}\")\n",
    "    print(f\"Total time taken: {end_time - start_time:.2f} seconds\")\n",
    "\n",
    "# Usage example\n",
    "pdf_path = \"./data/IMDG.pdf\"\n",
    "output_file = \"./data/IMDG.csv\"\n",
    "create_fine_tuning_dataset(pdf_path, output_file, num_samples=10000)"
   ]
  },
  {
   "cell_type": "markdown",
   "metadata": {},
   "source": [
    "## 4. Building dataframe"
   ]
  },
  {
   "cell_type": "code",
   "execution_count": 1,
   "metadata": {},
   "outputs": [
    {
     "data": {
      "text/html": [
       "<div>\n",
       "<style scoped>\n",
       "    .dataframe tbody tr th:only-of-type {\n",
       "        vertical-align: middle;\n",
       "    }\n",
       "\n",
       "    .dataframe tbody tr th {\n",
       "        vertical-align: top;\n",
       "    }\n",
       "\n",
       "    .dataframe thead th {\n",
       "        text-align: right;\n",
       "    }\n",
       "</style>\n",
       "<table border=\"1\" class=\"dataframe\">\n",
       "  <thead>\n",
       "    <tr style=\"text-align: right;\">\n",
       "      <th></th>\n",
       "      <th>system_prompt</th>\n",
       "      <th>question</th>\n",
       "      <th>response</th>\n",
       "    </tr>\n",
       "  </thead>\n",
       "  <tbody>\n",
       "    <tr>\n",
       "      <th>0</th>\n",
       "      <td>You are an IMDG Code specialist with a deep un...</td>\n",
       "      <td>According to the IMDG code, how should a subst...</td>\n",
       "      <td>Category A toxins are assigned to UN number 34...</td>\n",
       "    </tr>\n",
       "    <tr>\n",
       "      <th>1</th>\n",
       "      <td>You are an IMDG Code specialist with a deep un...</td>\n",
       "      <td>What are the specific packaging requirements f...</td>\n",
       "      <td>Paragraph P600 of the IMDG Code outlines speci...</td>\n",
       "    </tr>\n",
       "    <tr>\n",
       "      <th>2</th>\n",
       "      <td>You are an IMDG Code specialist with a deep un...</td>\n",
       "      <td>A cargo transport unit contains both dangerous...</td>\n",
       "      <td>Yes, you would need to placard the cargo trans...</td>\n",
       "    </tr>\n",
       "    <tr>\n",
       "      <th>3</th>\n",
       "      <td>You are an IMDG Code specialist with a deep un...</td>\n",
       "      <td>Based on the IMDG Code information provided fo...</td>\n",
       "      <td>According to the IMDG Code excerpt, Nickel Car...</td>\n",
       "    </tr>\n",
       "    <tr>\n",
       "      <th>4</th>\n",
       "      <td>You are an IMDG Code specialist with a deep un...</td>\n",
       "      <td>A shipment of silvery-white, ductile, soft met...</td>\n",
       "      <td>This material aligns with the descriptions pro...</td>\n",
       "    </tr>\n",
       "    <tr>\n",
       "      <th>...</th>\n",
       "      <td>...</td>\n",
       "      <td>...</td>\n",
       "      <td>...</td>\n",
       "    </tr>\n",
       "    <tr>\n",
       "      <th>3988</th>\n",
       "      <td>You are an IMDG Code specialist with a deep un...</td>\n",
       "      <td>According to the IMDG Code, what are the regul...</td>\n",
       "      <td>The IMDG Code stipulates that placards indicat...</td>\n",
       "    </tr>\n",
       "    <tr>\n",
       "      <th>3989</th>\n",
       "      <td>You are an IMDG Code specialist with a deep un...</td>\n",
       "      <td>A chemical shipment labeled \"SG49\" is declared...</td>\n",
       "      <td>Given the hazardous nature of the \"SG49\" corro...</td>\n",
       "    </tr>\n",
       "    <tr>\n",
       "      <th>3990</th>\n",
       "      <td>You are an IMDG Code specialist with a deep un...</td>\n",
       "      <td>A mixture contains two toxic components: Subst...</td>\n",
       "      <td>To determine the packing group, we need to cal...</td>\n",
       "    </tr>\n",
       "    <tr>\n",
       "      <th>3991</th>\n",
       "      <td>You are an IMDG Code specialist with a deep un...</td>\n",
       "      <td>A package design incorporates a single waterti...</td>\n",
       "      <td>No, we cannot assume that water will not leak ...</td>\n",
       "    </tr>\n",
       "    <tr>\n",
       "      <th>3992</th>\n",
       "      <td>You are an IMDG Code specialist with a deep un...</td>\n",
       "      <td>I am packaging a hazardous liquid in a flexibl...</td>\n",
       "      <td>When transporting a hazardous liquid in an FIB...</td>\n",
       "    </tr>\n",
       "  </tbody>\n",
       "</table>\n",
       "<p>3993 rows × 3 columns</p>\n",
       "</div>"
      ],
      "text/plain": [
       "                                          system_prompt  \\\n",
       "0     You are an IMDG Code specialist with a deep un...   \n",
       "1     You are an IMDG Code specialist with a deep un...   \n",
       "2     You are an IMDG Code specialist with a deep un...   \n",
       "3     You are an IMDG Code specialist with a deep un...   \n",
       "4     You are an IMDG Code specialist with a deep un...   \n",
       "...                                                 ...   \n",
       "3988  You are an IMDG Code specialist with a deep un...   \n",
       "3989  You are an IMDG Code specialist with a deep un...   \n",
       "3990  You are an IMDG Code specialist with a deep un...   \n",
       "3991  You are an IMDG Code specialist with a deep un...   \n",
       "3992  You are an IMDG Code specialist with a deep un...   \n",
       "\n",
       "                                               question  \\\n",
       "0     According to the IMDG code, how should a subst...   \n",
       "1     What are the specific packaging requirements f...   \n",
       "2     A cargo transport unit contains both dangerous...   \n",
       "3     Based on the IMDG Code information provided fo...   \n",
       "4     A shipment of silvery-white, ductile, soft met...   \n",
       "...                                                 ...   \n",
       "3988  According to the IMDG Code, what are the regul...   \n",
       "3989  A chemical shipment labeled \"SG49\" is declared...   \n",
       "3990  A mixture contains two toxic components: Subst...   \n",
       "3991  A package design incorporates a single waterti...   \n",
       "3992  I am packaging a hazardous liquid in a flexibl...   \n",
       "\n",
       "                                               response  \n",
       "0     Category A toxins are assigned to UN number 34...  \n",
       "1     Paragraph P600 of the IMDG Code outlines speci...  \n",
       "2     Yes, you would need to placard the cargo trans...  \n",
       "3     According to the IMDG Code excerpt, Nickel Car...  \n",
       "4     This material aligns with the descriptions pro...  \n",
       "...                                                 ...  \n",
       "3988  The IMDG Code stipulates that placards indicat...  \n",
       "3989  Given the hazardous nature of the \"SG49\" corro...  \n",
       "3990  To determine the packing group, we need to cal...  \n",
       "3991  No, we cannot assume that water will not leak ...  \n",
       "3992  When transporting a hazardous liquid in an FIB...  \n",
       "\n",
       "[3993 rows x 3 columns]"
      ]
     },
     "execution_count": 1,
     "metadata": {},
     "output_type": "execute_result"
    }
   ],
   "source": [
    "import csv\n",
    "import random\n",
    "import json\n",
    "import pandas as pd\n",
    "\n",
    "# load the dataset\n",
    "dataset = pd.read_csv(\"./data/IMDG.csv\")\n",
    "\n",
    "system_prompt = \"\"\"\n",
    "    You are an IMDG Code specialist with a deep understanding of the International Maritime Dangerous Goods (IMDG) Code. Your task is to provide detailed and accurate information in response to user questions about IMDG code.\n",
    "\n",
    "    Guidelines for answering:\n",
    "    1. Present information in a clear, concise, and easily understandable manner, using bullet points for organization.\n",
    "    2. For questions about specific UN Numbers:\n",
    "       - Provide details on: UN No., Proper Shipping Name, Class, Subsidiary hazard, Packing Group, Special Provisions, Limited Quantity, Excepted Quantity, Packing Instructions, Stowage and handling, Segregation, and Properties and observations.\n",
    "       - If this information is not in the provided context, state that you need to refer to the official IMDG Code for accurate details.\n",
    "    3. Respond in the language of the user's question. If unable to determine the language, default to English.\n",
    "    4. If you don't know the answer or if the information is not in the provided context, clearly state \"I don't have enough information to answer this question accurately. Please refer to the official IMDG Code or consult with an IMDG expert for the most up-to-date and accurate information.\"\n",
    "    5. End each response with '–IMDGGenie'\n",
    "\"\"\"\n",
    "\n",
    "dataset[\"system_prompt\"] = system_prompt\n",
    "dataset[\"system_prompt\"] = dataset[\"system_prompt\"].str.strip()\n",
    "dataset = dataset[[\"system_prompt\", \"question\", \"response\"]]\n",
    "dataset"
   ]
  },
  {
   "cell_type": "code",
   "execution_count": 2,
   "metadata": {},
   "outputs": [
    {
     "name": "stdout",
     "output_type": "stream",
     "text": [
      "Number of rows with the specified question and response: 0\n"
     ]
    }
   ],
   "source": [
    "# Count records for Unable to generate a question & Unable to generate a response\n",
    "filtered_df = dataset[\n",
    "    (dataset[\"question\"] == \"Unable to generate a question.\") & \n",
    "    (dataset[\"response\"] == \"Unable to generate a response.\")\n",
    "]\n",
    "\n",
    "count = filtered_df.shape[0]\n",
    "print(f\"Number of rows with the specified question and response: {count}\")"
   ]
  },
  {
   "cell_type": "code",
   "execution_count": 3,
   "metadata": {},
   "outputs": [
    {
     "name": "stdout",
     "output_type": "stream",
     "text": [
      "Number of rows with the same question and response: 0\n"
     ]
    }
   ],
   "source": [
    "# Count records for duplicated question and response\n",
    "filtered_df = dataset[\n",
    "    dataset.duplicated(subset=[\"question\", \"response\"], keep=False)\n",
    "]\n",
    "\n",
    "count = filtered_df.shape[0]\n",
    "print(f\"Number of rows with the same question and response: {count}\")"
   ]
  },
  {
   "cell_type": "code",
   "execution_count": 4,
   "metadata": {},
   "outputs": [
    {
     "data": {
      "text/html": [
       "<div>\n",
       "<style scoped>\n",
       "    .dataframe tbody tr th:only-of-type {\n",
       "        vertical-align: middle;\n",
       "    }\n",
       "\n",
       "    .dataframe tbody tr th {\n",
       "        vertical-align: top;\n",
       "    }\n",
       "\n",
       "    .dataframe thead th {\n",
       "        text-align: right;\n",
       "    }\n",
       "</style>\n",
       "<table border=\"1\" class=\"dataframe\">\n",
       "  <thead>\n",
       "    <tr style=\"text-align: right;\">\n",
       "      <th></th>\n",
       "      <th>system_prompt</th>\n",
       "      <th>question</th>\n",
       "      <th>response</th>\n",
       "    </tr>\n",
       "  </thead>\n",
       "  <tbody>\n",
       "    <tr>\n",
       "      <th>0</th>\n",
       "      <td>You are an IMDG Code specialist with a deep un...</td>\n",
       "      <td>According to the IMDG code, how should a subst...</td>\n",
       "      <td>Category A toxins are assigned to UN number 34...</td>\n",
       "    </tr>\n",
       "    <tr>\n",
       "      <th>1</th>\n",
       "      <td>You are an IMDG Code specialist with a deep un...</td>\n",
       "      <td>What are the specific packaging requirements f...</td>\n",
       "      <td>Paragraph P600 of the IMDG Code outlines speci...</td>\n",
       "    </tr>\n",
       "    <tr>\n",
       "      <th>2</th>\n",
       "      <td>You are an IMDG Code specialist with a deep un...</td>\n",
       "      <td>A cargo transport unit contains both dangerous...</td>\n",
       "      <td>Yes, you would need to placard the cargo trans...</td>\n",
       "    </tr>\n",
       "    <tr>\n",
       "      <th>3</th>\n",
       "      <td>You are an IMDG Code specialist with a deep un...</td>\n",
       "      <td>Based on the IMDG Code information provided fo...</td>\n",
       "      <td>According to the IMDG Code excerpt, Nickel Car...</td>\n",
       "    </tr>\n",
       "    <tr>\n",
       "      <th>4</th>\n",
       "      <td>You are an IMDG Code specialist with a deep un...</td>\n",
       "      <td>A shipment of silvery-white, ductile, soft met...</td>\n",
       "      <td>This material aligns with the descriptions pro...</td>\n",
       "    </tr>\n",
       "    <tr>\n",
       "      <th>...</th>\n",
       "      <td>...</td>\n",
       "      <td>...</td>\n",
       "      <td>...</td>\n",
       "    </tr>\n",
       "    <tr>\n",
       "      <th>3988</th>\n",
       "      <td>You are an IMDG Code specialist with a deep un...</td>\n",
       "      <td>According to the IMDG Code, what are the regul...</td>\n",
       "      <td>The IMDG Code stipulates that placards indicat...</td>\n",
       "    </tr>\n",
       "    <tr>\n",
       "      <th>3989</th>\n",
       "      <td>You are an IMDG Code specialist with a deep un...</td>\n",
       "      <td>A chemical shipment labeled \"SG49\" is declared...</td>\n",
       "      <td>Given the hazardous nature of the \"SG49\" corro...</td>\n",
       "    </tr>\n",
       "    <tr>\n",
       "      <th>3990</th>\n",
       "      <td>You are an IMDG Code specialist with a deep un...</td>\n",
       "      <td>A mixture contains two toxic components: Subst...</td>\n",
       "      <td>To determine the packing group, we need to cal...</td>\n",
       "    </tr>\n",
       "    <tr>\n",
       "      <th>3991</th>\n",
       "      <td>You are an IMDG Code specialist with a deep un...</td>\n",
       "      <td>A package design incorporates a single waterti...</td>\n",
       "      <td>No, we cannot assume that water will not leak ...</td>\n",
       "    </tr>\n",
       "    <tr>\n",
       "      <th>3992</th>\n",
       "      <td>You are an IMDG Code specialist with a deep un...</td>\n",
       "      <td>I am packaging a hazardous liquid in a flexibl...</td>\n",
       "      <td>When transporting a hazardous liquid in an FIB...</td>\n",
       "    </tr>\n",
       "  </tbody>\n",
       "</table>\n",
       "<p>3993 rows × 3 columns</p>\n",
       "</div>"
      ],
      "text/plain": [
       "                                          system_prompt  \\\n",
       "0     You are an IMDG Code specialist with a deep un...   \n",
       "1     You are an IMDG Code specialist with a deep un...   \n",
       "2     You are an IMDG Code specialist with a deep un...   \n",
       "3     You are an IMDG Code specialist with a deep un...   \n",
       "4     You are an IMDG Code specialist with a deep un...   \n",
       "...                                                 ...   \n",
       "3988  You are an IMDG Code specialist with a deep un...   \n",
       "3989  You are an IMDG Code specialist with a deep un...   \n",
       "3990  You are an IMDG Code specialist with a deep un...   \n",
       "3991  You are an IMDG Code specialist with a deep un...   \n",
       "3992  You are an IMDG Code specialist with a deep un...   \n",
       "\n",
       "                                               question  \\\n",
       "0     According to the IMDG code, how should a subst...   \n",
       "1     What are the specific packaging requirements f...   \n",
       "2     A cargo transport unit contains both dangerous...   \n",
       "3     Based on the IMDG Code information provided fo...   \n",
       "4     A shipment of silvery-white, ductile, soft met...   \n",
       "...                                                 ...   \n",
       "3988  According to the IMDG Code, what are the regul...   \n",
       "3989  A chemical shipment labeled \"SG49\" is declared...   \n",
       "3990  A mixture contains two toxic components: Subst...   \n",
       "3991  A package design incorporates a single waterti...   \n",
       "3992  I am packaging a hazardous liquid in a flexibl...   \n",
       "\n",
       "                                               response  \n",
       "0     Category A toxins are assigned to UN number 34...  \n",
       "1     Paragraph P600 of the IMDG Code outlines speci...  \n",
       "2     Yes, you would need to placard the cargo trans...  \n",
       "3     According to the IMDG Code excerpt, Nickel Car...  \n",
       "4     This material aligns with the descriptions pro...  \n",
       "...                                                 ...  \n",
       "3988  The IMDG Code stipulates that placards indicat...  \n",
       "3989  Given the hazardous nature of the \"SG49\" corro...  \n",
       "3990  To determine the packing group, we need to cal...  \n",
       "3991  No, we cannot assume that water will not leak ...  \n",
       "3992  When transporting a hazardous liquid in an FIB...  \n",
       "\n",
       "[3993 rows x 3 columns]"
      ]
     },
     "execution_count": 4,
     "metadata": {},
     "output_type": "execute_result"
    }
   ],
   "source": [
    "# Drop duplicates\n",
    "df = dataset.drop_duplicates(subset=[\"question\", \"response\"])\n",
    "df"
   ]
  },
  {
   "cell_type": "code",
   "execution_count": 5,
   "metadata": {},
   "outputs": [
    {
     "name": "stdout",
     "output_type": "stream",
     "text": [
      "<bos><start_of_turn>user\n",
      "## Instructions\n",
      "You are an IMDG Code specialist with a deep understanding of the International Maritime Dangerous Goods (IMDG) Code. Your task is to provide detailed and accurate information in response to user questions about IMDG code.\n",
      "\n",
      "    Guidelines for answering:\n",
      "    1. Present information in a clear, concise, and easily understandable manner, using bullet points for organization.\n",
      "    2. For questions about specific UN Numbers:\n",
      "       - Provide details on: UN No., Proper Shipping Name, Class, Subsidiary hazard, Packing Group, Special Provisions, Limited Quantity, Excepted Quantity, Packing Instructions, Stowage and handling, Segregation, and Properties and observations.\n",
      "       - If this information is not in the provided context, state that you need to refer to the official IMDG Code for accurate details.\n",
      "    3. Respond in the language of the user's question. If unable to determine the language, default to English.\n",
      "    4. If you don't know the answer or if the information is not in the provided context, clearly state \"I don't have enough information to answer this question accurately. Please refer to the official IMDG Code or consult with an IMDG expert for the most up-to-date and accurate information.\"\n",
      "    5. End each response with '–IMDGGenie'\n",
      "## User\n",
      "A Type B(U) package design is being developed for transporting uranium hexafluoride. What type of approval is required, and from whom?<end_of_turn>\n",
      "<start_of_turn>model\n",
      "Since the Type B(U) package design will contain uranium hexafluoride, which is a radioactive material requiring specific handling, it will need multilateral approval. This means the approval must be obtained from multiple competent authorities, not just the country of origin. The IMDG code outlines this requirement due to the potential hazards associated with uranium hexafluoride and the need for international consensus on its safe transportation.<end_of_turn>\n"
     ]
    }
   ],
   "source": [
    "# Transform Gemma prompt template (https://ai.google.dev/gemma/docs/formatting)\n",
    "# {\"text\": \"<bos><start_of_turn>user\\nWhat is the capital of France?<end_of_turn>\\n<start_of_turn>model\\nParis is the capital of France.<end_of_turn><eos>\"}\n",
    "\n",
    "def generate_prompt(row: pd.Series) -> str:\n",
    "    \"Format to Gemma's chat template\"\n",
    "    return \"\"\"<bos><start_of_turn>user\n",
    "## Instructions\n",
    "{}\n",
    "## User\n",
    "{}<end_of_turn>\n",
    "<start_of_turn>model\n",
    "{}<end_of_turn>\"\"\".format(row[\"system_prompt\"], row[\"question\"], row[\"response\"])\n",
    "\n",
    "\n",
    "df[\"text\"] = df.apply(generate_prompt, axis=1)\n",
    "print(df[\"text\"].iloc[100])"
   ]
  },
  {
   "cell_type": "code",
   "execution_count": 6,
   "metadata": {},
   "outputs": [
    {
     "name": "stdout",
     "output_type": "stream",
     "text": [
      "{\"text\":\"<bos><start_of_turn>user\\n## Instructions\\nYou are an IMDG Code specialist with a deep understanding of the International Maritime Dangerous Goods (IMDG) Code. Your task is to provide detailed and accurate information in response to user questions about IMDG code.\\n\\n    Guidelines for answering:\\n    1. Present information in a clear, concise, and easily understandable manner, using bullet points for organization.\\n    2. For questions about specific UN Numbers:\\n       - Provide details on: UN No., Proper Shipping Name, Class, Subsidiary hazard, Packing Group, Special Provisions, Limited Quantity, Excepted Quantity, Packing Instructions, Stowage and handling, Segregation, and Properties and observations.\\n       - If this information is not in the provided context, state that you need to refer to the official IMDG Code for accurate details.\\n    3. Respond in the language of the user's question. If unable to determine the language, default to English.\\n    4. If you don't know the answer or if the information is not in the provided context, clearly state \\\"I don't have enough information to answer this question accurately. Please refer to the official IMDG Code or consult with an IMDG expert for the most up-to-date and accurate information.\\\"\\n    5. End each response with '–IMDGGenie'\\n## User\\nA shipment of articles labelled \\\"ARTICLES, EXPLOSIVE, N.O.S., 1.2E\\\" is being prepared for transport. What information can be gleaned from the label and what additional information is crucial to ensure safe handling and transport?<end_of_turn>\\n<start_of_turn>model\\nThe label \\\"ARTICLES, EXPLOSIVE, N.O.S., 1.2E\\\" provides several key pieces of information according to the IMDG Code. Firstly, \\\"ARTICLES, EXPLOSIVE, N.O.S.\\\" indicates that the shipment contains explosive articles, not packaged explosives. The \\\"N.O.S.\\\" stands for \\\"Not Otherwise Specified,\\\" meaning the specific explosive substance within the articles is not individually identified.  Secondly, \\\"1.2E\\\" refers to the UN Hazard Class and Division.  \\n\\nClass 1 designates explosives, and Division 1.2 specifically denotes articles containing an explosive substance that, when ignited, detonate  with a large amount of energy but are relatively insensitive to shock and friction.\\n\\nTo ensure safe handling and transport, several additional pieces of information are crucial:\\n\\n* UN Number: While the label provides the Hazard Class and Division, the specific UN number for the explosive articles is essential. This number allows for precise identification of the hazards associated with the articles.\\n\\n* Proper Shipping Name: The proper shipping name, which should be included on the transport documents, provides a detailed description of the explosive articles.\\n\\n* Net Explosive Mass per Package: This information is vital for determining the quantity of explosive material being transported and for complying with regulatory limitations on the amount of explosives allowed per package or transport unit.\\n\\n* Compatibility Group: The compatibility group, also found on the transport documents, indicates the articles' reactivity and compatibility with other substances. This information is crucial for segregating incompatible cargo during transport.\\n\\n* Special Provisions: The IMDG Code may contain specific provisions or instructions related to the transportation of the particular explosive articles. These provisions should be carefully reviewed and adhered to.\\n\\nBy obtaining and considering all this information, personnel involved in handling and transporting the explosive articles can ensure a safe and compliant operation.<end_of_turn>\"}\n"
     ]
    }
   ],
   "source": [
    "# Split dataset to train and valid \n",
    "\n",
    "from pathlib import Path\n",
    "\n",
    "Path(\"data\").mkdir(exist_ok=True)\n",
    "\n",
    "split_ix = int(len(df) * 0.9)\n",
    "# shuffle data\n",
    "data = df.sample(frac=1, random_state=42)\n",
    "train, valid = data[:split_ix], data[split_ix:]\n",
    "\n",
    "# Save train and valid dataset as jsonl files\n",
    "train[[\"text\"]].to_json(\"data/train.jsonl\", orient=\"records\", lines=True, force_ascii=False)\n",
    "valid[[\"text\"]].to_json(\"data/valid.jsonl\", orient=\"records\", lines=True, force_ascii=False)\n",
    "\n",
    "!head -n 1 data/train.jsonl"
   ]
  },
  {
   "cell_type": "markdown",
   "metadata": {},
   "source": [
    "## 5. LoRA fine-tuning"
   ]
  },
  {
   "cell_type": "code",
   "execution_count": 7,
   "metadata": {},
   "outputs": [
    {
     "name": "stdout",
     "output_type": "stream",
     "text": [
      "usage: lora.py [-h] [--model MODEL] [--train] [--data DATA]\n",
      "               [--lora-layers LORA_LAYERS] [--batch-size BATCH_SIZE]\n",
      "               [--iters ITERS] [--val-batches VAL_BATCHES]\n",
      "               [--learning-rate LEARNING_RATE]\n",
      "               [--steps-per-report STEPS_PER_REPORT]\n",
      "               [--steps-per-eval STEPS_PER_EVAL]\n",
      "               [--resume-adapter-file RESUME_ADAPTER_FILE]\n",
      "               [--adapter-path ADAPTER_PATH] [--save-every SAVE_EVERY]\n",
      "               [--test] [--test-batches TEST_BATCHES]\n",
      "               [--max-seq-length MAX_SEQ_LENGTH] [-c CONFIG]\n",
      "               [--grad-checkpoint] [--seed SEED] [--use-dora]\n",
      "\n",
      "LoRA or QLoRA finetuning.\n",
      "\n",
      "options:\n",
      "  -h, --help            show this help message and exit\n",
      "  --model MODEL         The path to the local model directory or Hugging Face\n",
      "                        repo.\n",
      "  --train               Do training\n",
      "  --data DATA           Directory with {train, valid, test}.jsonl files\n",
      "  --lora-layers LORA_LAYERS\n",
      "                        Number of layers to fine-tune. Default is 16, use -1\n",
      "                        for all.\n",
      "  --batch-size BATCH_SIZE\n",
      "                        Minibatch size.\n",
      "  --iters ITERS         Iterations to train for.\n",
      "  --val-batches VAL_BATCHES\n",
      "                        Number of validation batches, -1 uses the entire\n",
      "                        validation set.\n",
      "  --learning-rate LEARNING_RATE\n",
      "                        Adam learning rate.\n",
      "  --steps-per-report STEPS_PER_REPORT\n",
      "                        Number of training steps between loss reporting.\n",
      "  --steps-per-eval STEPS_PER_EVAL\n",
      "                        Number of training steps between validations.\n",
      "  --resume-adapter-file RESUME_ADAPTER_FILE\n",
      "                        Load path to resume training with the given adapters.\n",
      "  --adapter-path ADAPTER_PATH\n",
      "                        Save/load path for the adapters.\n",
      "  --save-every SAVE_EVERY\n",
      "                        Save the model every N iterations.\n",
      "  --test                Evaluate on the test set after training\n",
      "  --test-batches TEST_BATCHES\n",
      "                        Number of test set batches, -1 uses the entire test\n",
      "                        set.\n",
      "  --max-seq-length MAX_SEQ_LENGTH\n",
      "                        Maximum sequence length.\n",
      "  -c CONFIG, --config CONFIG\n",
      "                        A YAML configuration file with the training options\n",
      "  --grad-checkpoint     Use gradient checkpointing to reduce memory use.\n",
      "  --seed SEED           The PRNG seed\n",
      "  --use-dora            Use DoRA to finetune.\n"
     ]
    }
   ],
   "source": [
    "!python -m mlx_lm.lora --help"
   ]
  },
  {
   "cell_type": "code",
   "execution_count": 8,
   "metadata": {},
   "outputs": [],
   "source": [
    "import os\n",
    "os.environ[\"TOKENIZERS_PARALLELISM\"] = \"false\""
   ]
  },
  {
   "cell_type": "code",
   "execution_count": 9,
   "metadata": {},
   "outputs": [
    {
     "name": "stdout",
     "output_type": "stream",
     "text": [
      "Loading pretrained model\n",
      "Fetching 9 files: 100%|████████████████████████| 9/9 [00:00<00:00, 77672.30it/s]\n",
      "Loading datasets\n",
      "Training\n",
      "Trainable parameters: 0.007% (1.966M/27227.128M)\n",
      "Starting training..., iters: 500\n",
      "Iter 1: Val loss 2.061, Val took 400.467s\n",
      "Iter 10: Val loss 1.522, Val took 398.144s\n",
      "Iter 10: Train loss 1.815, Learning Rate 1.000e-05, It/sec 0.486, Tokens/sec 885.188, Trained Tokens 18218, Peak mem 58.444 GB\n",
      "Iter 20: Val loss 1.172, Val took 415.262s\n",
      "Iter 20: Train loss 1.326, Learning Rate 1.000e-05, It/sec 0.232, Tokens/sec 491.767, Trained Tokens 39452, Peak mem 60.797 GB\n",
      "Iter 30: Val loss 0.811, Val took 407.030s\n",
      "Iter 30: Train loss 0.924, Learning Rate 1.000e-05, It/sec 0.429, Tokens/sec 821.017, Trained Tokens 58606, Peak mem 60.797 GB\n",
      "Iter 40: Val loss 0.578, Val took 402.604s\n",
      "Iter 40: Train loss 0.682, Learning Rate 1.000e-05, It/sec 0.460, Tokens/sec 918.351, Trained Tokens 78561, Peak mem 60.797 GB\n",
      "Iter 50: Val loss 0.535, Val took 396.426s\n",
      "Iter 50: Train loss 0.539, Learning Rate 1.000e-05, It/sec 0.526, Tokens/sec 1014.210, Trained Tokens 97825, Peak mem 60.797 GB\n",
      "Iter 60: Val loss 0.511, Val took 389.623s\n",
      "Iter 60: Train loss 0.518, Learning Rate 1.000e-05, It/sec 0.281, Tokens/sec 532.737, Trained Tokens 116762, Peak mem 60.797 GB\n",
      "Iter 70: Val loss 0.516, Val took 396.893s\n",
      "Iter 70: Train loss 0.513, Learning Rate 1.000e-05, It/sec 0.476, Tokens/sec 880.573, Trained Tokens 135266, Peak mem 60.797 GB\n",
      "Iter 80: Val loss 0.523, Val took 424.653s\n",
      "Iter 80: Train loss 0.480, Learning Rate 1.000e-05, It/sec 0.372, Tokens/sec 716.360, Trained Tokens 154514, Peak mem 60.797 GB\n",
      "Iter 90: Val loss 0.494, Val took 411.034s\n",
      "Iter 90: Train loss 0.440, Learning Rate 1.000e-05, It/sec 0.378, Tokens/sec 625.038, Trained Tokens 171064, Peak mem 60.797 GB\n",
      "Iter 100: Val loss 0.520, Val took 402.655s\n",
      "Iter 100: Train loss 0.508, Learning Rate 1.000e-05, It/sec 0.506, Tokens/sec 1090.032, Trained Tokens 192615, Peak mem 60.797 GB\n",
      "Iter 100: Saved adapter weights to checkpoints/adapters/adapters.safetensors and checkpoints/adapters/0000100_adapters.safetensors.\n",
      "Iter 110: Val loss 0.488, Val took 398.262s\n",
      "Iter 110: Train loss 0.503, Learning Rate 1.000e-05, It/sec 0.256, Tokens/sec 520.576, Trained Tokens 212951, Peak mem 60.797 GB\n",
      "Iter 120: Val loss 0.518, Val took 431.614s\n",
      "Iter 120: Train loss 0.561, Learning Rate 1.000e-05, It/sec 0.385, Tokens/sec 796.101, Trained Tokens 233628, Peak mem 61.231 GB\n",
      "Iter 130: Val loss 0.487, Val took 408.103s\n",
      "Iter 130: Train loss 0.417, Learning Rate 1.000e-05, It/sec 0.640, Tokens/sec 1117.423, Trained Tokens 251087, Peak mem 61.231 GB\n",
      "Iter 140: Val loss 0.478, Val took 411.051s\n",
      "Iter 140: Train loss 0.459, Learning Rate 1.000e-05, It/sec 0.445, Tokens/sec 872.407, Trained Tokens 270700, Peak mem 61.231 GB\n",
      "Iter 150: Val loss 0.481, Val took 396.462s\n",
      "Iter 150: Train loss 0.421, Learning Rate 1.000e-05, It/sec 0.453, Tokens/sec 851.422, Trained Tokens 289492, Peak mem 61.231 GB\n",
      "Iter 160: Val loss 0.466, Val took 385.855s\n",
      "Iter 160: Train loss 0.487, Learning Rate 1.000e-05, It/sec 0.416, Tokens/sec 908.958, Trained Tokens 311339, Peak mem 61.809 GB\n",
      "Iter 170: Val loss 0.468, Val took 418.028s\n",
      "Iter 170: Train loss 0.479, Learning Rate 1.000e-05, It/sec 0.429, Tokens/sec 790.906, Trained Tokens 329775, Peak mem 61.809 GB\n",
      "Iter 180: Val loss 0.466, Val took 410.887s\n",
      "Iter 180: Train loss 0.412, Learning Rate 1.000e-05, It/sec 0.356, Tokens/sec 628.485, Trained Tokens 347440, Peak mem 61.809 GB\n",
      "Iter 190: Val loss 0.484, Val took 410.876s\n",
      "Iter 190: Train loss 0.486, Learning Rate 1.000e-05, It/sec 0.431, Tokens/sec 882.175, Trained Tokens 367925, Peak mem 61.809 GB\n",
      "Iter 200: Val loss 0.483, Val took 405.786s\n",
      "Iter 200: Train loss 0.442, Learning Rate 1.000e-05, It/sec 0.496, Tokens/sec 911.243, Trained Tokens 386309, Peak mem 61.809 GB\n",
      "Iter 200: Saved adapter weights to checkpoints/adapters/adapters.safetensors and checkpoints/adapters/0000200_adapters.safetensors.\n",
      "Iter 210: Val loss 0.465, Val took 396.495s\n",
      "Iter 210: Train loss 0.467, Learning Rate 1.000e-05, It/sec 0.570, Tokens/sec 1070.967, Trained Tokens 405093, Peak mem 61.809 GB\n",
      "Iter 220: Val loss 0.501, Val took 391.632s\n",
      "Iter 220: Train loss 0.446, Learning Rate 1.000e-05, It/sec 0.597, Tokens/sec 1060.209, Trained Tokens 422859, Peak mem 61.809 GB\n",
      "Iter 230: Val loss 0.481, Val took 421.260s\n",
      "Iter 230: Train loss 0.452, Learning Rate 1.000e-05, It/sec 0.256, Tokens/sec 479.496, Trained Tokens 441559, Peak mem 61.809 GB\n",
      "Iter 240: Val loss 0.464, Val took 410.736s\n",
      "Iter 240: Train loss 0.399, Learning Rate 1.000e-05, It/sec 0.547, Tokens/sec 906.485, Trained Tokens 458131, Peak mem 61.809 GB\n",
      "Iter 250: Val loss 0.439, Val took 382.804s\n",
      "Iter 250: Train loss 0.453, Learning Rate 1.000e-05, It/sec 0.174, Tokens/sec 339.043, Trained Tokens 477665, Peak mem 62.976 GB\n",
      "Iter 260: Val loss 0.447, Val took 382.402s\n",
      "Iter 260: Train loss 0.464, Learning Rate 1.000e-05, It/sec 0.600, Tokens/sec 1202.990, Trained Tokens 497717, Peak mem 62.976 GB\n",
      "Iter 270: Val loss 0.442, Val took 399.708s\n",
      "Iter 270: Train loss 0.410, Learning Rate 1.000e-05, It/sec 0.560, Tokens/sec 989.012, Trained Tokens 515366, Peak mem 62.976 GB\n",
      "Iter 280: Val loss 0.442, Val took 402.756s\n",
      "Iter 280: Train loss 0.437, Learning Rate 1.000e-05, It/sec 0.461, Tokens/sec 841.690, Trained Tokens 533632, Peak mem 62.976 GB\n",
      "Iter 290: Val loss 0.441, Val took 396.775s\n",
      "Iter 290: Train loss 0.394, Learning Rate 1.000e-05, It/sec 0.349, Tokens/sec 616.843, Trained Tokens 551307, Peak mem 62.976 GB\n",
      "Iter 300: Val loss 0.474, Val took 407.499s\n",
      "Iter 300: Train loss 0.466, Learning Rate 1.000e-05, It/sec 0.599, Tokens/sec 1161.077, Trained Tokens 570681, Peak mem 62.976 GB\n",
      "Iter 300: Saved adapter weights to checkpoints/adapters/adapters.safetensors and checkpoints/adapters/0000300_adapters.safetensors.\n",
      "Iter 310: Val loss 0.464, Val took 409.092s\n",
      "Iter 310: Train loss 0.439, Learning Rate 1.000e-05, It/sec 0.257, Tokens/sec 510.063, Trained Tokens 590536, Peak mem 62.976 GB\n",
      "Iter 320: Val loss 0.494, Val took 416.304s\n",
      "Iter 320: Train loss 0.464, Learning Rate 1.000e-05, It/sec 0.454, Tokens/sec 870.885, Trained Tokens 609723, Peak mem 62.976 GB\n",
      "Iter 330: Val loss 0.430, Val took 379.047s\n",
      "Iter 330: Train loss 0.423, Learning Rate 1.000e-05, It/sec 0.374, Tokens/sec 647.515, Trained Tokens 627032, Peak mem 62.976 GB\n",
      "Iter 340: Val loss 0.488, Val took 421.734s\n",
      "Iter 340: Train loss 0.455, Learning Rate 1.000e-05, It/sec 0.409, Tokens/sec 750.524, Trained Tokens 645399, Peak mem 62.976 GB\n",
      "Iter 350: Val loss 0.487, Val took 419.649s\n",
      "Iter 350: Train loss 0.454, Learning Rate 1.000e-05, It/sec 0.258, Tokens/sec 486.458, Trained Tokens 664257, Peak mem 62.976 GB\n",
      "Iter 360: Val loss 0.471, Val took 408.475s\n",
      "Iter 360: Train loss 0.474, Learning Rate 1.000e-05, It/sec 0.417, Tokens/sec 770.005, Trained Tokens 682743, Peak mem 62.976 GB\n",
      "Iter 370: Val loss 0.469, Val took 392.193s\n",
      "Iter 370: Train loss 0.441, Learning Rate 1.000e-05, It/sec 0.525, Tokens/sec 997.043, Trained Tokens 701731, Peak mem 62.976 GB\n",
      "Iter 380: Val loss 0.458, Val took 389.987s\n",
      "Iter 380: Train loss 0.490, Learning Rate 1.000e-05, It/sec 0.497, Tokens/sec 1093.054, Trained Tokens 723717, Peak mem 62.976 GB\n",
      "Iter 390: Val loss 0.449, Val took 392.084s\n",
      "Iter 390: Train loss 0.440, Learning Rate 1.000e-05, It/sec 0.247, Tokens/sec 466.606, Trained Tokens 742626, Peak mem 62.976 GB\n",
      "Iter 400: Val loss 0.464, Val took 403.617s\n",
      "Iter 400: Train loss 0.385, Learning Rate 1.000e-05, It/sec 0.374, Tokens/sec 638.529, Trained Tokens 759716, Peak mem 62.976 GB\n",
      "Iter 400: Saved adapter weights to checkpoints/adapters/adapters.safetensors and checkpoints/adapters/0000400_adapters.safetensors.\n",
      "Iter 410: Val loss 0.445, Val took 391.178s\n",
      "Iter 410: Train loss 0.441, Learning Rate 1.000e-05, It/sec 0.179, Tokens/sec 357.273, Trained Tokens 779657, Peak mem 62.976 GB\n",
      "Iter 420: Val loss 0.466, Val took 406.710s\n",
      "Iter 420: Train loss 0.473, Learning Rate 1.000e-05, It/sec 0.268, Tokens/sec 517.189, Trained Tokens 798960, Peak mem 62.976 GB\n",
      "Iter 430: Val loss 0.469, Val took 399.572s\n",
      "Iter 430: Train loss 0.389, Learning Rate 1.000e-05, It/sec 0.505, Tokens/sec 908.545, Trained Tokens 816961, Peak mem 62.976 GB\n",
      "Iter 440: Val loss 0.430, Val took 378.758s\n",
      "Iter 440: Train loss 0.376, Learning Rate 1.000e-05, It/sec 0.478, Tokens/sec 892.945, Trained Tokens 835654, Peak mem 62.976 GB\n",
      "Iter 450: Val loss 0.467, Val took 399.436s\n",
      "Iter 450: Train loss 0.419, Learning Rate 1.000e-05, It/sec 0.390, Tokens/sec 699.792, Trained Tokens 853607, Peak mem 62.976 GB\n",
      "Iter 460: Val loss 0.439, Val took 389.485s\n",
      "Iter 460: Train loss 0.447, Learning Rate 1.000e-05, It/sec 0.485, Tokens/sec 858.688, Trained Tokens 871298, Peak mem 62.976 GB\n",
      "Iter 470: Val loss 0.439, Val took 415.259s\n",
      "Iter 470: Train loss 0.443, Learning Rate 1.000e-05, It/sec 0.343, Tokens/sec 681.177, Trained Tokens 891138, Peak mem 62.976 GB\n",
      "Iter 480: Val loss 0.439, Val took 396.204s\n",
      "Iter 480: Train loss 0.432, Learning Rate 1.000e-05, It/sec 0.453, Tokens/sec 837.298, Trained Tokens 909636, Peak mem 62.976 GB\n",
      "Iter 490: Val loss 0.437, Val took 374.922s\n",
      "Iter 490: Train loss 0.441, Learning Rate 1.000e-05, It/sec 0.515, Tokens/sec 973.088, Trained Tokens 928528, Peak mem 62.976 GB\n",
      "Iter 500: Val loss 0.450, Val took 427.755s\n",
      "Iter 500: Train loss 0.503, Learning Rate 1.000e-05, It/sec 0.436, Tokens/sec 948.825, Trained Tokens 950291, Peak mem 62.976 GB\n",
      "Iter 500: Saved adapter weights to checkpoints/adapters/adapters.safetensors and checkpoints/adapters/0000500_adapters.safetensors.\n",
      "Saved final adapter weights to checkpoints/adapters/adapters.safetensors.\n"
     ]
    }
   ],
   "source": [
    "!python -m mlx_lm.lora \\\n",
    "    --model mlx-community/gemma-2-27b-it-4bit \\\n",
    "    --train \\\n",
    "    --data data \\\n",
    "    --iters 500 \\\n",
    "    --batch-size 4 \\\n",
    "    --learning-rate 1e-5 \\\n",
    "    --steps-per-report 10 \\\n",
    "    --steps-per-eval 10 \\\n",
    "    --adapter-path checkpoints/adapters \\\n",
    "    # --resume-adapter-file checkpoints/600_adapters.npz \\\n",
    "    --save-every 10 \\\n",
    "    --max-seq-length 2048 \\\n",
    "    --seed 42 \\\n",
    "    --lora-layers 16"
   ]
  },
  {
   "cell_type": "code",
   "execution_count": null,
   "metadata": {},
   "outputs": [],
   "source": [
    "# !python -m mlx_lm.lora \\\n",
    "#     --model mlx-community/gemma-2-27b-it-4bit \\\n",
    "#     --train \\\n",
    "#     --data data \\\n",
    "#     --iters 600 \\\n",
    "#     --batch-size 4 \\\n",
    "#     --learning-rate 1e-5 \\\n",
    "#     --steps-per-report 10 \\\n",
    "#     --steps-per-eval 10 \\\n",
    "#     --adapter-path checkpoints/adapters \\\n",
    "#     --resume-adapter-file checkpoints/adapters/0000100_adapters.safetensors \\\n",
    "#     --save-every 10 \\\n",
    "#     --max-seq-length 2048 \\\n",
    "#     --seed 42 \\\n",
    "#     --lora-layers 16"
   ]
  },
  {
   "cell_type": "markdown",
   "metadata": {},
   "source": [
    "## 6. Inference with fine-tuned model"
   ]
  },
  {
   "cell_type": "code",
   "execution_count": 18,
   "metadata": {},
   "outputs": [
    {
     "name": "stdout",
     "output_type": "stream",
     "text": [
      "You are an IMDG Code specialist with a deep understanding of the International Maritime Dangerous Goods (IMDG) Code. Your task is to provide detailed and accurate information in response to user questions about IMDG code.\n",
      "\n",
      "    Guidelines for answering:\n",
      "    1. Present information in a clear, concise, and easily understandable manner, using bullet points for organization.\n",
      "    2. For questions about specific UN Numbers:\n",
      "       - Provide details on: UN No., Proper Shipping Name, Class, Subsidiary hazard, Packing Group, Special Provisions, Limited Quantity, Excepted Quantity, Packing Instructions, Stowage and handling, Segregation, and Properties and observations.\n",
      "       - If this information is not in the provided context, state that you need to refer to the official IMDG Code for accurate details.\n",
      "    3. Respond in the language of the user's question. If unable to determine the language, default to English.\n",
      "    4. If you don't know the answer or if the information is not in the provided context, clearly state \"I don't have enough information to answer this question accurately. Please refer to the official IMDG Code or consult with an IMDG expert for the most up-to-date and accurate information.\"\n",
      "    5. End each response with '–IMDGGenie'\n"
     ]
    }
   ],
   "source": [
    "# System prompt\n",
    "\n",
    "system_prompt = df[\"system_prompt\"].unique()[-1]\n",
    "print(system_prompt)"
   ]
  },
  {
   "cell_type": "code",
   "execution_count": 30,
   "metadata": {},
   "outputs": [
    {
     "name": "stdout",
     "output_type": "stream",
     "text": [
      "<bos><start_of_turn>user\n",
      "## Instructions\n",
      "You are an IMDG Code specialist with a deep understanding of the International Maritime Dangerous Goods (IMDG) Code. Your task is to provide detailed and accurate information in response to user questions about IMDG code.\n",
      "\n",
      "    Guidelines for answering:\n",
      "    1. Present information in a clear, concise, and easily understandable manner, using bullet points for organization.\n",
      "    2. For questions about specific UN Numbers:\n",
      "       - Provide details on: UN No., Proper Shipping Name, Class, Subsidiary hazard, Packing Group, Special Provisions, Limited Quantity, Excepted Quantity, Packing Instructions, Stowage and handling, Segregation, and Properties and observations.\n",
      "       - If this information is not in the provided context, state that you need to refer to the official IMDG Code for accurate details.\n",
      "    3. Respond in the language of the user's question. If unable to determine the language, default to English.\n",
      "    4. If you don't know the answer or if the information is not in the provided context, clearly state \"I don't have enough information to answer this question accurately. Please refer to the official IMDG Code or consult with an IMDG expert for the most up-to-date and accurate information.\"\n",
      "    5. End each response with '–IMDGGenie'\n",
      "## User\n",
      "What are the minimum wall thickness requirements for IBCs used for transporting liquids according to the IMDG Code?<end_of_turn>\n",
      "<start_of_turn>model\n",
      "\n"
     ]
    }
   ],
   "source": [
    "question = \"What are the minimum wall thickness requirements for IBCs used for transporting liquids according to the IMDG Code?\"\n",
    "\n",
    "\n",
    "def format_prompt(system_prompt: str, question: str) -> str:\n",
    "    \"Format the question to the format of the dataset we fine-tuned to.\"\n",
    "    return \"\"\"<bos><start_of_turn>user\n",
    "## Instructions\n",
    "{}\n",
    "## User\n",
    "{}<end_of_turn>\n",
    "<start_of_turn>model\n",
    "\"\"\".format(\n",
    "        system_prompt, question\n",
    "    )\n",
    "\n",
    "\n",
    "print(format_prompt(system_prompt, question))"
   ]
  },
  {
   "cell_type": "code",
   "execution_count": 31,
   "metadata": {},
   "outputs": [
    {
     "data": {
      "application/vnd.jupyter.widget-view+json": {
       "model_id": "ce18e7c8be6e4b17a39188e8537c29ab",
       "version_major": 2,
       "version_minor": 0
      },
      "text/plain": [
       "Fetching 9 files:   0%|          | 0/9 [00:00<?, ?it/s]"
      ]
     },
     "metadata": {},
     "output_type": "display_data"
    }
   ],
   "source": [
    "# Load the fine-tuned model with LoRA weights\n",
    "model_lora, tokenizer = load(\n",
    "    \"mlx-community/gemma-2-27b-it-4bit\",\n",
    "    adapter_path=\"./checkpoints/adapters\",\n",
    ")"
   ]
  },
  {
   "cell_type": "code",
   "execution_count": 32,
   "metadata": {},
   "outputs": [
    {
     "name": "stdout",
     "output_type": "stream",
     "text": [
      "==========\n",
      "Prompt: <bos><start_of_turn>user\n",
      "## Instructions\n",
      "You are an IMDG Code specialist with a deep understanding of the International Maritime Dangerous Goods (IMDG) Code. Your task is to provide detailed and accurate information in response to user questions about IMDG code.\n",
      "\n",
      "    Guidelines for answering:\n",
      "    1. Present information in a clear, concise, and easily understandable manner, using bullet points for organization.\n",
      "    2. For questions about specific UN Numbers:\n",
      "       - Provide details on: UN No., Proper Shipping Name, Class, Subsidiary hazard, Packing Group, Special Provisions, Limited Quantity, Excepted Quantity, Packing Instructions, Stowage and handling, Segregation, and Properties and observations.\n",
      "       - If this information is not in the provided context, state that you need to refer to the official IMDG Code for accurate details.\n",
      "    3. Respond in the language of the user's question. If unable to determine the language, default to English.\n",
      "    4. If you don't know the answer or if the information is not in the provided context, clearly state \"I don't have enough information to answer this question accurately. Please refer to the official IMDG Code or consult with an IMDG expert for the most up-to-date and accurate information.\"\n",
      "    5. End each response with '–IMDGGenie'\n",
      "## User\n",
      "What are the minimum wall thickness requirements for IBCs used for transporting liquids according to the IMDG Code?<end_of_turn>\n",
      "<start_of_turn>model\n",
      "\n",
      "The IMDG Code specifies minimum wall thickness requirements for IBCs based on the type of material and the specific gravity of the liquid being transported.  \n",
      "\n",
      "The minimum wall thickness is detailed in the \"Dangerous Goods Regulations\" section of the IMDG Code, Chapter 6.5. It's important to consult the relevant sections of the IMDG Code for the precise requirements for your specific liquid and IBC material.<end_of_turn>\n",
      "==========\n",
      "Prompt: 296 tokens, 109.818 tokens-per-sec\n",
      "Generation: 81 tokens, 13.999 tokens-per-sec\n",
      "Peak memory: 42.802 GB\n"
     ]
    }
   ],
   "source": [
    "response = generate(\n",
    "    model_lora,\n",
    "    tokenizer,\n",
    "    prompt=format_prompt(system_prompt, question),\n",
    "    verbose=True,\n",
    "    temp=0.5,\n",
    "    max_tokens=1024,\n",
    ")"
   ]
  },
  {
   "cell_type": "code",
   "execution_count": 33,
   "metadata": {},
   "outputs": [
    {
     "name": "stdout",
     "output_type": "stream",
     "text": [
      "==========\n",
      "Prompt: <bos><start_of_turn>user\n",
      "## Instructions\n",
      "You are an IMDG Code specialist with a deep understanding of the International Maritime Dangerous Goods (IMDG) Code. Your task is to provide detailed and accurate information in response to user questions about IMDG code.\n",
      "\n",
      "    Guidelines for answering:\n",
      "    1. Present information in a clear, concise, and easily understandable manner, using bullet points for organization.\n",
      "    2. For questions about specific UN Numbers:\n",
      "       - Provide details on: UN No., Proper Shipping Name, Class, Subsidiary hazard, Packing Group, Special Provisions, Limited Quantity, Excepted Quantity, Packing Instructions, Stowage and handling, Segregation, and Properties and observations.\n",
      "       - If this information is not in the provided context, state that you need to refer to the official IMDG Code for accurate details.\n",
      "    3. Respond in the language of the user's question. If unable to determine the language, default to English.\n",
      "    4. If you don't know the answer or if the information is not in the provided context, clearly state \"I don't have enough information to answer this question accurately. Please refer to the official IMDG Code or consult with an IMDG expert for the most up-to-date and accurate information.\"\n",
      "    5. End each response with '–IMDGGenie'\n",
      "## User\n",
      "What are the minimum wall thickness requirements for IBCs used for transporting liquids according to the IMDG Code?<end_of_turn>\n",
      "<start_of_turn>model\n",
      "\n",
      "The minimum wall thickness requirements for IBCs used for transporting liquids according to the IMDG Code depend on several factors, including the type of IBC, the material of construction, and the specific gravity of the liquid being transported.\n",
      "\n",
      "* **The IMDG Code does not specify a single minimum wall thickness requirement for all liquid IBCs.**\n",
      "\n",
      "* **You can find detailed information on wall thickness requirements in Chapter 6 of the IMDG Code, specifically in sections 6.5 (for rigid IBCs) and 6.6 (for flexible IBCs).** These sections provide detailed specifications and testing requirements for different types of IBCs based on their design, material, and intended use.\n",
      "\n",
      "* **It's important to consult the relevant sections of the IMDG Code and the IBC manufacturer's specifications to determine the appropriate wall thickness for your specific liquid cargo.**\n",
      "\n",
      "–IMDGGenie \n",
      "<end_of_turn>\n",
      "\n",
      "==========\n",
      "Prompt: 296 tokens, 53.250 tokens-per-sec\n",
      "Generation: 179 tokens, 15.412 tokens-per-sec\n",
      "Peak memory: 42.802 GB\n"
     ]
    }
   ],
   "source": [
    "response = generate(\n",
    "    model,\n",
    "    tokenizer,\n",
    "    prompt=format_prompt(system_prompt, question),\n",
    "    verbose=True,\n",
    "    temp=0.5,\n",
    "    max_tokens=1024,\n",
    ")"
   ]
  },
  {
   "cell_type": "code",
   "execution_count": 18,
   "metadata": {},
   "outputs": [
    {
     "name": "stderr",
     "output_type": "stream",
     "text": [
      "huggingface/tokenizers: The current process just got forked, after parallelism has already been used. Disabling parallelism to avoid deadlocks...\n",
      "To disable this warning, you can either:\n",
      "\t- Avoid using `tokenizers` before the fork if possible\n",
      "\t- Explicitly set the environment variable TOKENIZERS_PARALLELISM=(true | false)\n"
     ]
    },
    {
     "name": "stdout",
     "output_type": "stream",
     "text": [
      "Fetching 9 files: 100%|████████████████████████| 9/9 [00:00<00:00, 26696.42it/s]\n",
      "==========\n",
      "Prompt: <bos><start_of_turn>user\n",
      "What are the normal working hours for customs at Dar es Salaam Port?<end_of_turn>\n",
      "<start_of_turn>model\n",
      "\n",
      "I cannot provide specific real-time information like working hours for government offices. Working hours are subject to change and are best obtained directly from the source.<end_of_turn>\n",
      "==========\n",
      "Prompt: 24 tokens, 12.770 tokens-per-sec\n",
      "Generation: 32 tokens, 13.584 tokens-per-sec\n",
      "Peak memory: 14.642 GB\n"
     ]
    }
   ],
   "source": [
    "!python -m mlx_lm.generate \\\n",
    "    --model mlx-community/gemma-2-27b-it-4bit \\\n",
    "    --adapter-path checkpoints/adapters \\\n",
    "    --prompt \"What are the normal working hours for customs at Dar es Salaam Port?\" \\\n",
    "    --max-tokens 256 \\\n",
    "    --temp 0.5"
   ]
  },
  {
   "cell_type": "code",
   "execution_count": 12,
   "metadata": {},
   "outputs": [
    {
     "name": "stdout",
     "output_type": "stream",
     "text": [
      "usage: generate.py [-h] [--model MODEL] [--adapter-path ADAPTER_PATH]\n",
      "                   [--trust-remote-code] [--eos-token EOS_TOKEN]\n",
      "                   [--prompt PROMPT] [--max-tokens MAX_TOKENS] [--temp TEMP]\n",
      "                   [--top-p TOP_P] [--seed SEED] [--ignore-chat-template]\n",
      "                   [--use-default-chat-template] [--colorize]\n",
      "                   [--cache-limit-gb CACHE_LIMIT_GB]\n",
      "\n",
      "LLM inference script\n",
      "\n",
      "options:\n",
      "  -h, --help            show this help message and exit\n",
      "  --model MODEL         The path to the local model directory or Hugging Face\n",
      "                        repo.\n",
      "  --adapter-path ADAPTER_PATH\n",
      "                        Optional path for the trained adapter weights and\n",
      "                        config.\n",
      "  --trust-remote-code   Enable trusting remote code for tokenizer\n",
      "  --eos-token EOS_TOKEN\n",
      "                        End of sequence token for tokenizer\n",
      "  --prompt PROMPT       Message to be processed by the model\n",
      "  --max-tokens MAX_TOKENS, -m MAX_TOKENS\n",
      "                        Maximum number of tokens to generate\n",
      "  --temp TEMP           Sampling temperature\n",
      "  --top-p TOP_P         Sampling top-p\n",
      "  --seed SEED           PRNG seed\n",
      "  --ignore-chat-template\n",
      "                        Use the raw prompt without the tokenizer's chat\n",
      "                        template.\n",
      "  --use-default-chat-template\n",
      "                        Use the default chat template\n",
      "  --colorize            Colorize output based on T[0] probability\n",
      "  --cache-limit-gb CACHE_LIMIT_GB\n",
      "                        Set the MLX cache limit in GB\n"
     ]
    }
   ],
   "source": [
    "!python -m mlx_lm.generate --help"
   ]
  },
  {
   "cell_type": "code",
   "execution_count": null,
   "metadata": {},
   "outputs": [],
   "source": []
  }
 ],
 "metadata": {
  "kernelspec": {
   "display_name": "mlx",
   "language": "python",
   "name": "python3"
  },
  "language_info": {
   "codemirror_mode": {
    "name": "ipython",
    "version": 3
   },
   "file_extension": ".py",
   "mimetype": "text/x-python",
   "name": "python",
   "nbconvert_exporter": "python",
   "pygments_lexer": "ipython3",
   "version": "3.11.9"
  }
 },
 "nbformat": 4,
 "nbformat_minor": 2
}
